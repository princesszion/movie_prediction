{
 "cells": [
  {
   "cell_type": "code",
   "execution_count": 1,
   "metadata": {
    "id": "n7azGMLZwx1O"
   },
   "outputs": [],
   "source": [
    "#Importing necessary Libraries\n",
    "import numpy as np\n",
    "import pandas as pd\n",
    "import io\n",
    "import matplotlib.pyplot as plt \n",
    "import seaborn as sns\n",
    "import warnings\n",
    "warnings.filterwarnings('ignore')"
   ]
  },
  {
   "cell_type": "code",
   "execution_count": 2,
   "metadata": {
    "colab": {
     "base_uri": "https://localhost:8080/",
     "height": 73
    },
    "id": "y8e1ennErpoy",
    "outputId": "6b7b0ae6-f545-43b0-b63b-38f551ee8534"
   },
   "outputs": [],
   "source": [
    "# from google.colab import files\n",
    "# uploaded = files.upload()"
   ]
  },
  {
   "cell_type": "code",
   "execution_count": 3,
   "metadata": {
    "id": "1-zGazrxyNCZ"
   },
   "outputs": [],
   "source": [
    "movies = pd.read_csv('movie_metadataFinal.csv')"
   ]
  },
  {
   "cell_type": "code",
   "execution_count": 4,
   "metadata": {
    "colab": {
     "base_uri": "https://localhost:8080/",
     "height": 352
    },
    "id": "6HBX7P_1yec4",
    "outputId": "101b2f1d-45e4-4df8-8b2d-032c6782223b"
   },
   "outputs": [
    {
     "data": {
      "text/html": [
       "<div>\n",
       "<style scoped>\n",
       "    .dataframe tbody tr th:only-of-type {\n",
       "        vertical-align: middle;\n",
       "    }\n",
       "\n",
       "    .dataframe tbody tr th {\n",
       "        vertical-align: top;\n",
       "    }\n",
       "\n",
       "    .dataframe thead th {\n",
       "        text-align: right;\n",
       "    }\n",
       "</style>\n",
       "<table border=\"1\" class=\"dataframe\">\n",
       "  <thead>\n",
       "    <tr style=\"text-align: right;\">\n",
       "      <th></th>\n",
       "      <th>color</th>\n",
       "      <th>director_name</th>\n",
       "      <th>num_critic_for_reviews</th>\n",
       "      <th>duration</th>\n",
       "      <th>director_facebook_likes</th>\n",
       "      <th>actor_3_facebook_likes</th>\n",
       "      <th>actor_2_name</th>\n",
       "      <th>actor_1_facebook_likes</th>\n",
       "      <th>gross</th>\n",
       "      <th>genres</th>\n",
       "      <th>...</th>\n",
       "      <th>num_user_for_reviews</th>\n",
       "      <th>language</th>\n",
       "      <th>country</th>\n",
       "      <th>content_rating</th>\n",
       "      <th>budget</th>\n",
       "      <th>title_year</th>\n",
       "      <th>actor_2_facebook_likes</th>\n",
       "      <th>imdb_score</th>\n",
       "      <th>aspect_ratio</th>\n",
       "      <th>movie_facebook_likes</th>\n",
       "    </tr>\n",
       "  </thead>\n",
       "  <tbody>\n",
       "    <tr>\n",
       "      <th>0</th>\n",
       "      <td>Color</td>\n",
       "      <td>James Cameron</td>\n",
       "      <td>723.0</td>\n",
       "      <td>178.0</td>\n",
       "      <td>0.0</td>\n",
       "      <td>855.0</td>\n",
       "      <td>Joel David Moore</td>\n",
       "      <td>1000.0</td>\n",
       "      <td>760505847.0</td>\n",
       "      <td>Action|Adventure|Fantasy|Sci-Fi</td>\n",
       "      <td>...</td>\n",
       "      <td>3054.0</td>\n",
       "      <td>English</td>\n",
       "      <td>USA</td>\n",
       "      <td>PG-13</td>\n",
       "      <td>237000000.0</td>\n",
       "      <td>2009.0</td>\n",
       "      <td>936.0</td>\n",
       "      <td>7.9</td>\n",
       "      <td>1.78</td>\n",
       "      <td>33000</td>\n",
       "    </tr>\n",
       "    <tr>\n",
       "      <th>1</th>\n",
       "      <td>Color</td>\n",
       "      <td>Gore Verbinski</td>\n",
       "      <td>302.0</td>\n",
       "      <td>169.0</td>\n",
       "      <td>563.0</td>\n",
       "      <td>1000.0</td>\n",
       "      <td>Orlando Bloom</td>\n",
       "      <td>40000.0</td>\n",
       "      <td>309404152.0</td>\n",
       "      <td>Action|Adventure|Fantasy</td>\n",
       "      <td>...</td>\n",
       "      <td>1238.0</td>\n",
       "      <td>English</td>\n",
       "      <td>USA</td>\n",
       "      <td>PG-13</td>\n",
       "      <td>300000000.0</td>\n",
       "      <td>2007.0</td>\n",
       "      <td>5000.0</td>\n",
       "      <td>7.1</td>\n",
       "      <td>2.35</td>\n",
       "      <td>0</td>\n",
       "    </tr>\n",
       "    <tr>\n",
       "      <th>2</th>\n",
       "      <td>Color</td>\n",
       "      <td>Sam Mendes</td>\n",
       "      <td>602.0</td>\n",
       "      <td>148.0</td>\n",
       "      <td>0.0</td>\n",
       "      <td>161.0</td>\n",
       "      <td>Rory Kinnear</td>\n",
       "      <td>11000.0</td>\n",
       "      <td>200074175.0</td>\n",
       "      <td>Action|Adventure|Thriller</td>\n",
       "      <td>...</td>\n",
       "      <td>994.0</td>\n",
       "      <td>English</td>\n",
       "      <td>UK</td>\n",
       "      <td>PG-13</td>\n",
       "      <td>245000000.0</td>\n",
       "      <td>2015.0</td>\n",
       "      <td>393.0</td>\n",
       "      <td>6.8</td>\n",
       "      <td>2.35</td>\n",
       "      <td>85000</td>\n",
       "    </tr>\n",
       "    <tr>\n",
       "      <th>3</th>\n",
       "      <td>Color</td>\n",
       "      <td>Christopher Nolan</td>\n",
       "      <td>813.0</td>\n",
       "      <td>164.0</td>\n",
       "      <td>22000.0</td>\n",
       "      <td>23000.0</td>\n",
       "      <td>Christian Bale</td>\n",
       "      <td>27000.0</td>\n",
       "      <td>448130642.0</td>\n",
       "      <td>Action|Thriller</td>\n",
       "      <td>...</td>\n",
       "      <td>2701.0</td>\n",
       "      <td>English</td>\n",
       "      <td>USA</td>\n",
       "      <td>PG-13</td>\n",
       "      <td>250000000.0</td>\n",
       "      <td>2012.0</td>\n",
       "      <td>23000.0</td>\n",
       "      <td>8.5</td>\n",
       "      <td>2.35</td>\n",
       "      <td>164000</td>\n",
       "    </tr>\n",
       "    <tr>\n",
       "      <th>4</th>\n",
       "      <td>NaN</td>\n",
       "      <td>Doug Walker</td>\n",
       "      <td>NaN</td>\n",
       "      <td>NaN</td>\n",
       "      <td>131.0</td>\n",
       "      <td>NaN</td>\n",
       "      <td>Rob Walker</td>\n",
       "      <td>131.0</td>\n",
       "      <td>NaN</td>\n",
       "      <td>Documentary</td>\n",
       "      <td>...</td>\n",
       "      <td>NaN</td>\n",
       "      <td>NaN</td>\n",
       "      <td>NaN</td>\n",
       "      <td>NaN</td>\n",
       "      <td>NaN</td>\n",
       "      <td>NaN</td>\n",
       "      <td>12.0</td>\n",
       "      <td>7.1</td>\n",
       "      <td>NaN</td>\n",
       "      <td>0</td>\n",
       "    </tr>\n",
       "  </tbody>\n",
       "</table>\n",
       "<p>5 rows × 28 columns</p>\n",
       "</div>"
      ],
      "text/plain": [
       "   color      director_name  num_critic_for_reviews  duration  \\\n",
       "0  Color      James Cameron                   723.0     178.0   \n",
       "1  Color     Gore Verbinski                   302.0     169.0   \n",
       "2  Color         Sam Mendes                   602.0     148.0   \n",
       "3  Color  Christopher Nolan                   813.0     164.0   \n",
       "4    NaN        Doug Walker                     NaN       NaN   \n",
       "\n",
       "   director_facebook_likes  actor_3_facebook_likes      actor_2_name  \\\n",
       "0                      0.0                   855.0  Joel David Moore   \n",
       "1                    563.0                  1000.0     Orlando Bloom   \n",
       "2                      0.0                   161.0      Rory Kinnear   \n",
       "3                  22000.0                 23000.0    Christian Bale   \n",
       "4                    131.0                     NaN        Rob Walker   \n",
       "\n",
       "   actor_1_facebook_likes        gross                           genres  ...  \\\n",
       "0                  1000.0  760505847.0  Action|Adventure|Fantasy|Sci-Fi  ...   \n",
       "1                 40000.0  309404152.0         Action|Adventure|Fantasy  ...   \n",
       "2                 11000.0  200074175.0        Action|Adventure|Thriller  ...   \n",
       "3                 27000.0  448130642.0                  Action|Thriller  ...   \n",
       "4                   131.0          NaN                      Documentary  ...   \n",
       "\n",
       "  num_user_for_reviews language  country  content_rating       budget  \\\n",
       "0               3054.0  English      USA           PG-13  237000000.0   \n",
       "1               1238.0  English      USA           PG-13  300000000.0   \n",
       "2                994.0  English       UK           PG-13  245000000.0   \n",
       "3               2701.0  English      USA           PG-13  250000000.0   \n",
       "4                  NaN      NaN      NaN             NaN          NaN   \n",
       "\n",
       "   title_year actor_2_facebook_likes imdb_score  aspect_ratio  \\\n",
       "0      2009.0                  936.0        7.9          1.78   \n",
       "1      2007.0                 5000.0        7.1          2.35   \n",
       "2      2015.0                  393.0        6.8          2.35   \n",
       "3      2012.0                23000.0        8.5          2.35   \n",
       "4         NaN                   12.0        7.1           NaN   \n",
       "\n",
       "  movie_facebook_likes  \n",
       "0                33000  \n",
       "1                    0  \n",
       "2                85000  \n",
       "3               164000  \n",
       "4                    0  \n",
       "\n",
       "[5 rows x 28 columns]"
      ]
     },
     "execution_count": 4,
     "metadata": {},
     "output_type": "execute_result"
    }
   ],
   "source": [
    "# Printing the first 5 entries in the dataset \n",
    "# to see how the dataset looks like\n",
    "movies.head()"
   ]
  },
  {
   "cell_type": "code",
   "execution_count": 5,
   "metadata": {
    "colab": {
     "base_uri": "https://localhost:8080/"
    },
    "id": "iJseh8Ig0qqL",
    "outputId": "3bcc4600-6fe5-4d84-dea4-141cdef0e924"
   },
   "outputs": [
    {
     "data": {
      "text/plain": [
       "((5043, 28),\n",
       " Index(['color', 'director_name', 'num_critic_for_reviews', 'duration',\n",
       "        'director_facebook_likes', 'actor_3_facebook_likes', 'actor_2_name',\n",
       "        'actor_1_facebook_likes', 'gross', 'genres', 'actor_1_name',\n",
       "        'movie_title', 'num_voted_users', 'cast_total_facebook_likes',\n",
       "        'actor_3_name', 'facenumber_in_poster', 'plot_keywords',\n",
       "        'movie_imdb_link', 'num_user_for_reviews', 'language', 'country',\n",
       "        'content_rating', 'budget', 'title_year', 'actor_2_facebook_likes',\n",
       "        'imdb_score', 'aspect_ratio', 'movie_facebook_likes'],\n",
       "       dtype='object'))"
      ]
     },
     "execution_count": 5,
     "metadata": {},
     "output_type": "execute_result"
    }
   ],
   "source": [
    "movies.shape, movies.columns"
   ]
  },
  {
   "cell_type": "markdown",
   "metadata": {
    "id": "oAbrbJN7ASwO"
   },
   "source": [
    "#  1. Description of dataset features"
   ]
  },
  {
   "cell_type": "markdown",
   "metadata": {
    "id": "C7TpQ3Wf1Syf"
   },
   "source": [
    "1. **Color** : Movie is black or coloured\n",
    "2. **Director_name**: Name of the movie director\n",
    "3. **num_critic_for_reviews** : No of critics for the movie\n",
    "4. **duration**: Movie duration in minutes\n",
    "5. **director_facebook_likes**: Number of likes for the Director on his Facebook Page\n",
    "6. **actor_3_facebook_likes**: No of likes for the actor 3 on his/her facebook Page\n",
    "7. **actor2_name**: name of the actor 2\n",
    "8. **actor_1_facebook_likes**: No of likes for the actor 1 on his/her facebook Page\n",
    "9. **gross**: Gross earnings of the movie in Dollars\n",
    "10. **genres**: Film categorization like ‘Animation’, ‘Comedy’, ‘Romance’, ‘Horror’, ‘Sci-Fi’, ‘Action’, ‘Family’\n",
    "11. **actor_1_name**: Name of the actor 1\n",
    "12. **movie_title**: Title of the movie\n",
    "13. **num_voted_users**: No of people who voted for the movie\n",
    "14. **cast_total_facebook_likes**: Total facebook like for the movie\n",
    "15. **actor_3_name**: Name of the actor 3\n",
    "16. **facenumber_in_poster**: No of actors who featured in the movie poster\n",
    "17. **plot_keywords**: Keywords describing the movie plots\n",
    "18. **movie_imdb_link**: Link of the movie link\n",
    "19. **num_user_for_reviews**: Number of users who gave a review\n",
    "20. **language**: Language of the movie\n",
    "21. **country**: Country where movie is produced\n",
    "22. **content_rating**: Content rating of the movie\n",
    "23. **budget**: Budget of the movie in Dollars\n",
    "24. **title_year**: The year in which the movie is released\n",
    "25. **actor_2_facebook_likes**: Facebook likes for the actor 2\n",
    "26. **imdb_score**: IMDB score of the movie\n",
    "27. **aspect_ratio** : Aspect ratio the movie was made in\n",
    "28. **movie_facebook_likes**: Total no of facebook likes for the movie\n",
    "\n",
    "\n"
   ]
  },
  {
   "cell_type": "markdown",
   "metadata": {
    "id": "Z-exqejOAnfK"
   },
   "source": [
    "## 2. Data cleaning"
   ]
  },
  {
   "cell_type": "code",
   "execution_count": 6,
   "metadata": {
    "colab": {
     "base_uri": "https://localhost:8080/"
    },
    "id": "jh511Sc_5eFh",
    "outputId": "2e84eefc-9adb-4220-e9c5-a8408fc8078e"
   },
   "outputs": [
    {
     "data": {
      "text/plain": [
       "color                         19\n",
       "director_name                104\n",
       "num_critic_for_reviews        50\n",
       "duration                      15\n",
       "director_facebook_likes      104\n",
       "actor_3_facebook_likes        23\n",
       "actor_2_name                  13\n",
       "actor_1_facebook_likes         7\n",
       "gross                        884\n",
       "genres                         0\n",
       "actor_1_name                   7\n",
       "movie_title                    0\n",
       "num_voted_users                0\n",
       "cast_total_facebook_likes      0\n",
       "actor_3_name                  23\n",
       "facenumber_in_poster          13\n",
       "plot_keywords                153\n",
       "movie_imdb_link                0\n",
       "num_user_for_reviews          21\n",
       "language                      12\n",
       "country                        5\n",
       "content_rating               303\n",
       "budget                       492\n",
       "title_year                   108\n",
       "actor_2_facebook_likes        13\n",
       "imdb_score                     0\n",
       "aspect_ratio                 329\n",
       "movie_facebook_likes           0\n",
       "dtype: int64"
      ]
     },
     "execution_count": 6,
     "metadata": {},
     "output_type": "execute_result"
    }
   ],
   "source": [
    "#No of the missing values in the dataset\n",
    "movies.isna().sum()"
   ]
  },
  {
   "cell_type": "code",
   "execution_count": 7,
   "metadata": {
    "id": "QgEayhr66Z2W"
   },
   "outputs": [],
   "source": [
    "# Imputing the dataframe\n",
    "def replace_missing_values(data):\n",
    "    # Get the column names by data types\n",
    "    col_names = data.columns\n",
    "    col_types = data.dtypes\n",
    "\n",
    "    # Loop through each column and replace missing values\n",
    "    for i in range(len(col_names)):\n",
    "        col_name = col_names[i]\n",
    "        col_type = col_types[i]\n",
    "        \n",
    "        if col_type == 'object':\n",
    "            # For string columns, use bfill and ffill methods\n",
    "            data[col_name] = data[col_name].fillna(method='bfill').fillna(method='ffill')\n",
    "        else:\n",
    "            # For numerical columns, replace missing values with the mean of the column\n",
    "            data[col_name] = data[col_name].fillna(movies[col_name].mean())\n",
    "    \n",
    "    \n"
   ]
  },
  {
   "cell_type": "code",
   "execution_count": 8,
   "metadata": {
    "id": "OpNwkP2lzt2q"
   },
   "outputs": [],
   "source": [
    "# Imputing all the missing cells\n",
    "replace_missing_values(movies)"
   ]
  },
  {
   "cell_type": "code",
   "execution_count": 9,
   "metadata": {
    "colab": {
     "base_uri": "https://localhost:8080/"
    },
    "id": "Qa3WcwCK7tW-",
    "outputId": "f5e71ead-7e0d-4107-a204-ea1a79c242f1"
   },
   "outputs": [
    {
     "name": "stdout",
     "output_type": "stream",
     "text": [
      "0\n"
     ]
    }
   ],
   "source": [
    "# Get the count of missing values per row\n",
    "missing_per_row = movies.isnull().sum(axis=1)\n",
    "\n",
    "# Get the total number of rows with missing values\n",
    "total_missing_rows = len(missing_per_row[missing_per_row > 0])\n",
    "\n",
    "print(total_missing_rows)"
   ]
  },
  {
   "cell_type": "code",
   "execution_count": 10,
   "metadata": {
    "colab": {
     "base_uri": "https://localhost:8080/"
    },
    "id": "W6Ky55LBYJ2I",
    "outputId": "e242b872-8499-4123-8949-3da26c017cd0"
   },
   "outputs": [
    {
     "data": {
      "text/plain": [
       "42"
      ]
     },
     "execution_count": 10,
     "metadata": {},
     "output_type": "execute_result"
    }
   ],
   "source": [
    "#Checking to see if there are duplicates\n",
    "movies.duplicated().sum()"
   ]
  },
  {
   "cell_type": "code",
   "execution_count": 11,
   "metadata": {
    "colab": {
     "base_uri": "https://localhost:8080/"
    },
    "id": "NEr6OuhGB1qt",
    "outputId": "ece685bb-e099-4de7-db56-a1117798b00c"
   },
   "outputs": [
    {
     "data": {
      "text/plain": [
       "(5001, 28)"
      ]
     },
     "execution_count": 11,
     "metadata": {},
     "output_type": "execute_result"
    }
   ],
   "source": [
    "#Removing the duplicate values in the datset\n",
    "movies.drop_duplicates(inplace=True)\n",
    "movies.duplicated().sum()\n",
    "movies.shape"
   ]
  },
  {
   "cell_type": "code",
   "execution_count": 12,
   "metadata": {},
   "outputs": [
    {
     "name": "stdout",
     "output_type": "stream",
     "text": [
      "<class 'pandas.core.frame.DataFrame'>\n",
      "Int64Index: 5001 entries, 0 to 5042\n",
      "Data columns (total 28 columns):\n",
      " #   Column                     Non-Null Count  Dtype  \n",
      "---  ------                     --------------  -----  \n",
      " 0   color                      5001 non-null   object \n",
      " 1   director_name              5001 non-null   object \n",
      " 2   num_critic_for_reviews     5001 non-null   float64\n",
      " 3   duration                   5001 non-null   float64\n",
      " 4   director_facebook_likes    5001 non-null   float64\n",
      " 5   actor_3_facebook_likes     5001 non-null   float64\n",
      " 6   actor_2_name               5001 non-null   object \n",
      " 7   actor_1_facebook_likes     5001 non-null   float64\n",
      " 8   gross                      5001 non-null   float64\n",
      " 9   genres                     5001 non-null   object \n",
      " 10  actor_1_name               5001 non-null   object \n",
      " 11  movie_title                5001 non-null   object \n",
      " 12  num_voted_users            5001 non-null   int64  \n",
      " 13  cast_total_facebook_likes  5001 non-null   int64  \n",
      " 14  actor_3_name               5001 non-null   object \n",
      " 15  facenumber_in_poster       5001 non-null   float64\n",
      " 16  plot_keywords              5001 non-null   object \n",
      " 17  movie_imdb_link            5001 non-null   object \n",
      " 18  num_user_for_reviews       5001 non-null   float64\n",
      " 19  language                   5001 non-null   object \n",
      " 20  country                    5001 non-null   object \n",
      " 21  content_rating             5001 non-null   object \n",
      " 22  budget                     5001 non-null   float64\n",
      " 23  title_year                 5001 non-null   float64\n",
      " 24  actor_2_facebook_likes     5001 non-null   float64\n",
      " 25  imdb_score                 5001 non-null   float64\n",
      " 26  aspect_ratio               5001 non-null   float64\n",
      " 27  movie_facebook_likes       5001 non-null   int64  \n",
      "dtypes: float64(13), int64(3), object(12)\n",
      "memory usage: 1.1+ MB\n"
     ]
    }
   ],
   "source": [
    "movies.info()"
   ]
  },
  {
   "cell_type": "code",
   "execution_count": 13,
   "metadata": {
    "id": "aZsPrfV0PNo5"
   },
   "outputs": [],
   "source": [
    "# Changing 'title year' to int\n",
    "movies['title_year'] = movies['title_year'].apply(np.int64)\n"
   ]
  },
  {
   "cell_type": "markdown",
   "metadata": {
    "id": "SGIeUtA5D0_0"
   },
   "source": [
    "# 2. Feauture engineering"
   ]
  },
  {
   "cell_type": "code",
   "execution_count": 14,
   "metadata": {
    "colab": {
     "base_uri": "https://localhost:8080/",
     "height": 256
    },
    "id": "6MAFx40GJOn8",
    "outputId": "4400a206-6c77-402a-82a7-4892d9a8f51e"
   },
   "outputs": [
    {
     "data": {
      "text/html": [
       "<div>\n",
       "<style scoped>\n",
       "    .dataframe tbody tr th:only-of-type {\n",
       "        vertical-align: middle;\n",
       "    }\n",
       "\n",
       "    .dataframe tbody tr th {\n",
       "        vertical-align: top;\n",
       "    }\n",
       "\n",
       "    .dataframe thead th {\n",
       "        text-align: right;\n",
       "    }\n",
       "</style>\n",
       "<table border=\"1\" class=\"dataframe\">\n",
       "  <thead>\n",
       "    <tr style=\"text-align: right;\">\n",
       "      <th></th>\n",
       "      <th>color</th>\n",
       "      <th>director_name</th>\n",
       "      <th>actor_2_name</th>\n",
       "      <th>genres</th>\n",
       "      <th>actor_1_name</th>\n",
       "      <th>movie_title</th>\n",
       "      <th>actor_3_name</th>\n",
       "      <th>plot_keywords</th>\n",
       "      <th>movie_imdb_link</th>\n",
       "      <th>language</th>\n",
       "      <th>country</th>\n",
       "      <th>content_rating</th>\n",
       "    </tr>\n",
       "  </thead>\n",
       "  <tbody>\n",
       "    <tr>\n",
       "      <th>count</th>\n",
       "      <td>5001</td>\n",
       "      <td>5001</td>\n",
       "      <td>5001</td>\n",
       "      <td>5001</td>\n",
       "      <td>5001</td>\n",
       "      <td>5001</td>\n",
       "      <td>5001</td>\n",
       "      <td>5001</td>\n",
       "      <td>5001</td>\n",
       "      <td>5001</td>\n",
       "      <td>5001</td>\n",
       "      <td>5001</td>\n",
       "    </tr>\n",
       "    <tr>\n",
       "      <th>unique</th>\n",
       "      <td>2</td>\n",
       "      <td>2398</td>\n",
       "      <td>3032</td>\n",
       "      <td>914</td>\n",
       "      <td>2097</td>\n",
       "      <td>4916</td>\n",
       "      <td>3521</td>\n",
       "      <td>4760</td>\n",
       "      <td>4919</td>\n",
       "      <td>47</td>\n",
       "      <td>65</td>\n",
       "      <td>18</td>\n",
       "    </tr>\n",
       "    <tr>\n",
       "      <th>top</th>\n",
       "      <td>Color</td>\n",
       "      <td>Steven Spielberg</td>\n",
       "      <td>Morgan Freeman</td>\n",
       "      <td>Drama</td>\n",
       "      <td>Robert De Niro</td>\n",
       "      <td>The Fast and the Furious</td>\n",
       "      <td>Ben Mendelsohn</td>\n",
       "      <td>adolescence|girl next door|growing vegetables|...</td>\n",
       "      <td>http://www.imdb.com/title/tt0360717/?ref_=fn_t...</td>\n",
       "      <td>English</td>\n",
       "      <td>USA</td>\n",
       "      <td>R</td>\n",
       "    </tr>\n",
       "    <tr>\n",
       "      <th>freq</th>\n",
       "      <td>4792</td>\n",
       "      <td>27</td>\n",
       "      <td>20</td>\n",
       "      <td>235</td>\n",
       "      <td>49</td>\n",
       "      <td>3</td>\n",
       "      <td>8</td>\n",
       "      <td>4</td>\n",
       "      <td>3</td>\n",
       "      <td>4674</td>\n",
       "      <td>3778</td>\n",
       "      <td>2243</td>\n",
       "    </tr>\n",
       "  </tbody>\n",
       "</table>\n",
       "</div>"
      ],
      "text/plain": [
       "        color     director_name    actor_2_name genres    actor_1_name  \\\n",
       "count    5001              5001            5001   5001            5001   \n",
       "unique      2              2398            3032    914            2097   \n",
       "top     Color  Steven Spielberg  Morgan Freeman  Drama  Robert De Niro   \n",
       "freq     4792                27              20    235              49   \n",
       "\n",
       "                      movie_title    actor_3_name  \\\n",
       "count                        5001            5001   \n",
       "unique                       4916            3521   \n",
       "top     The Fast and the Furious   Ben Mendelsohn   \n",
       "freq                            3               8   \n",
       "\n",
       "                                            plot_keywords  \\\n",
       "count                                                5001   \n",
       "unique                                               4760   \n",
       "top     adolescence|girl next door|growing vegetables|...   \n",
       "freq                                                    4   \n",
       "\n",
       "                                          movie_imdb_link language country  \\\n",
       "count                                                5001     5001    5001   \n",
       "unique                                               4919       47      65   \n",
       "top     http://www.imdb.com/title/tt0360717/?ref_=fn_t...  English     USA   \n",
       "freq                                                    3     4674    3778   \n",
       "\n",
       "       content_rating  \n",
       "count            5001  \n",
       "unique             18  \n",
       "top                 R  \n",
       "freq             2243  "
      ]
     },
     "execution_count": 14,
     "metadata": {},
     "output_type": "execute_result"
    }
   ],
   "source": [
    "#Describing the categorical data\n",
    "movies.describe(include='object')"
   ]
  },
  {
   "cell_type": "code",
   "execution_count": 15,
   "metadata": {
    "id": "GuYiRBjgJpHL"
   },
   "outputs": [],
   "source": [
    "# Droping'movie_title','movie_imdb_link' columns. \n",
    "#  This is becuase they are almost unique, so don't contribute match to our target variable\n",
    "movies.drop(columns=['movie_title', 'movie_imdb_link','director_name','actor_1_name','actor_3_name','actor_2_name','plot_keywords','language','country'],axis=1, inplace=True)"
   ]
  },
  {
   "cell_type": "code",
   "execution_count": 16,
   "metadata": {
    "id": "mmVyth4BK3Mj"
   },
   "outputs": [],
   "source": [
    "# Label encoding the categorical columns\n",
    "from sklearn.preprocessing import LabelEncoder\n",
    "feature_encoding = LabelEncoder()\n",
    "categorical_features=['color', \n",
    "        'genres', \n",
    "         'content_rating',\n",
    "       'title_year', 'aspect_ratio']\n",
    "movies[categorical_features]=movies[categorical_features].apply(lambda x:feature_encoding.fit_transform(x))"
   ]
  },
  {
   "cell_type": "code",
   "execution_count": 17,
   "metadata": {
    "colab": {
     "base_uri": "https://localhost:8080/",
     "height": 300
    },
    "id": "4qktj9vQLw9u",
    "outputId": "1aaab3f0-0837-4065-ec05-7244b3851d90"
   },
   "outputs": [
    {
     "data": {
      "text/html": [
       "<div>\n",
       "<style scoped>\n",
       "    .dataframe tbody tr th:only-of-type {\n",
       "        vertical-align: middle;\n",
       "    }\n",
       "\n",
       "    .dataframe tbody tr th {\n",
       "        vertical-align: top;\n",
       "    }\n",
       "\n",
       "    .dataframe thead th {\n",
       "        text-align: right;\n",
       "    }\n",
       "</style>\n",
       "<table border=\"1\" class=\"dataframe\">\n",
       "  <thead>\n",
       "    <tr style=\"text-align: right;\">\n",
       "      <th></th>\n",
       "      <th>color</th>\n",
       "      <th>num_critic_for_reviews</th>\n",
       "      <th>duration</th>\n",
       "      <th>director_facebook_likes</th>\n",
       "      <th>actor_3_facebook_likes</th>\n",
       "      <th>actor_1_facebook_likes</th>\n",
       "      <th>gross</th>\n",
       "      <th>genres</th>\n",
       "      <th>num_voted_users</th>\n",
       "      <th>cast_total_facebook_likes</th>\n",
       "      <th>facenumber_in_poster</th>\n",
       "      <th>num_user_for_reviews</th>\n",
       "      <th>content_rating</th>\n",
       "      <th>budget</th>\n",
       "      <th>title_year</th>\n",
       "      <th>actor_2_facebook_likes</th>\n",
       "      <th>imdb_score</th>\n",
       "      <th>aspect_ratio</th>\n",
       "      <th>movie_facebook_likes</th>\n",
       "    </tr>\n",
       "  </thead>\n",
       "  <tbody>\n",
       "    <tr>\n",
       "      <th>0</th>\n",
       "      <td>1</td>\n",
       "      <td>723.000000</td>\n",
       "      <td>178.000000</td>\n",
       "      <td>0.0</td>\n",
       "      <td>855.000000</td>\n",
       "      <td>1000.0</td>\n",
       "      <td>7.605058e+08</td>\n",
       "      <td>106</td>\n",
       "      <td>886204</td>\n",
       "      <td>4834</td>\n",
       "      <td>0.0</td>\n",
       "      <td>3054.000000</td>\n",
       "      <td>7</td>\n",
       "      <td>2.370000e+08</td>\n",
       "      <td>83</td>\n",
       "      <td>936.0</td>\n",
       "      <td>7.9</td>\n",
       "      <td>9</td>\n",
       "      <td>33000</td>\n",
       "    </tr>\n",
       "    <tr>\n",
       "      <th>1</th>\n",
       "      <td>1</td>\n",
       "      <td>302.000000</td>\n",
       "      <td>169.000000</td>\n",
       "      <td>563.0</td>\n",
       "      <td>1000.000000</td>\n",
       "      <td>40000.0</td>\n",
       "      <td>3.094042e+08</td>\n",
       "      <td>100</td>\n",
       "      <td>471220</td>\n",
       "      <td>48350</td>\n",
       "      <td>0.0</td>\n",
       "      <td>1238.000000</td>\n",
       "      <td>7</td>\n",
       "      <td>3.000000e+08</td>\n",
       "      <td>81</td>\n",
       "      <td>5000.0</td>\n",
       "      <td>7.1</td>\n",
       "      <td>16</td>\n",
       "      <td>0</td>\n",
       "    </tr>\n",
       "    <tr>\n",
       "      <th>2</th>\n",
       "      <td>1</td>\n",
       "      <td>602.000000</td>\n",
       "      <td>148.000000</td>\n",
       "      <td>0.0</td>\n",
       "      <td>161.000000</td>\n",
       "      <td>11000.0</td>\n",
       "      <td>2.000742e+08</td>\n",
       "      <td>127</td>\n",
       "      <td>275868</td>\n",
       "      <td>11700</td>\n",
       "      <td>1.0</td>\n",
       "      <td>994.000000</td>\n",
       "      <td>7</td>\n",
       "      <td>2.450000e+08</td>\n",
       "      <td>89</td>\n",
       "      <td>393.0</td>\n",
       "      <td>6.8</td>\n",
       "      <td>16</td>\n",
       "      <td>85000</td>\n",
       "    </tr>\n",
       "    <tr>\n",
       "      <th>3</th>\n",
       "      <td>1</td>\n",
       "      <td>813.000000</td>\n",
       "      <td>164.000000</td>\n",
       "      <td>22000.0</td>\n",
       "      <td>23000.000000</td>\n",
       "      <td>27000.0</td>\n",
       "      <td>4.481306e+08</td>\n",
       "      <td>287</td>\n",
       "      <td>1144337</td>\n",
       "      <td>106759</td>\n",
       "      <td>0.0</td>\n",
       "      <td>2701.000000</td>\n",
       "      <td>7</td>\n",
       "      <td>2.500000e+08</td>\n",
       "      <td>86</td>\n",
       "      <td>23000.0</td>\n",
       "      <td>8.5</td>\n",
       "      <td>16</td>\n",
       "      <td>164000</td>\n",
       "    </tr>\n",
       "    <tr>\n",
       "      <th>4</th>\n",
       "      <td>1</td>\n",
       "      <td>140.194272</td>\n",
       "      <td>107.201074</td>\n",
       "      <td>131.0</td>\n",
       "      <td>645.009761</td>\n",
       "      <td>131.0</td>\n",
       "      <td>4.846841e+07</td>\n",
       "      <td>753</td>\n",
       "      <td>8</td>\n",
       "      <td>143</td>\n",
       "      <td>0.0</td>\n",
       "      <td>272.770808</td>\n",
       "      <td>7</td>\n",
       "      <td>3.975262e+07</td>\n",
       "      <td>76</td>\n",
       "      <td>12.0</td>\n",
       "      <td>7.1</td>\n",
       "      <td>14</td>\n",
       "      <td>0</td>\n",
       "    </tr>\n",
       "  </tbody>\n",
       "</table>\n",
       "</div>"
      ],
      "text/plain": [
       "   color  num_critic_for_reviews    duration  director_facebook_likes  \\\n",
       "0      1              723.000000  178.000000                      0.0   \n",
       "1      1              302.000000  169.000000                    563.0   \n",
       "2      1              602.000000  148.000000                      0.0   \n",
       "3      1              813.000000  164.000000                  22000.0   \n",
       "4      1              140.194272  107.201074                    131.0   \n",
       "\n",
       "   actor_3_facebook_likes  actor_1_facebook_likes         gross  genres  \\\n",
       "0              855.000000                  1000.0  7.605058e+08     106   \n",
       "1             1000.000000                 40000.0  3.094042e+08     100   \n",
       "2              161.000000                 11000.0  2.000742e+08     127   \n",
       "3            23000.000000                 27000.0  4.481306e+08     287   \n",
       "4              645.009761                   131.0  4.846841e+07     753   \n",
       "\n",
       "   num_voted_users  cast_total_facebook_likes  facenumber_in_poster  \\\n",
       "0           886204                       4834                   0.0   \n",
       "1           471220                      48350                   0.0   \n",
       "2           275868                      11700                   1.0   \n",
       "3          1144337                     106759                   0.0   \n",
       "4                8                        143                   0.0   \n",
       "\n",
       "   num_user_for_reviews  content_rating        budget  title_year  \\\n",
       "0           3054.000000               7  2.370000e+08          83   \n",
       "1           1238.000000               7  3.000000e+08          81   \n",
       "2            994.000000               7  2.450000e+08          89   \n",
       "3           2701.000000               7  2.500000e+08          86   \n",
       "4            272.770808               7  3.975262e+07          76   \n",
       "\n",
       "   actor_2_facebook_likes  imdb_score  aspect_ratio  movie_facebook_likes  \n",
       "0                   936.0         7.9             9                 33000  \n",
       "1                  5000.0         7.1            16                     0  \n",
       "2                   393.0         6.8            16                 85000  \n",
       "3                 23000.0         8.5            16                164000  \n",
       "4                    12.0         7.1            14                     0  "
      ]
     },
     "execution_count": 17,
     "metadata": {},
     "output_type": "execute_result"
    }
   ],
   "source": [
    "#A sample of data after label encoding\n",
    "movies.head()"
   ]
  },
  {
   "cell_type": "markdown",
   "metadata": {
    "id": "i5mf2TF7qUnO"
   },
   "source": [
    "# Correlation"
   ]
  },
  {
   "cell_type": "code",
   "execution_count": 18,
   "metadata": {
    "colab": {
     "base_uri": "https://localhost:8080/",
     "height": 1000
    },
    "id": "YJ8pdSy2qY5V",
    "outputId": "86e6157e-1aa9-461b-a4aa-da0f2226cee4"
   },
   "outputs": [
    {
     "data": {
      "text/plain": [
       "<Axes: >"
      ]
     },
     "execution_count": 18,
     "metadata": {},
     "output_type": "execute_result"
    },
    {
     "data": {
      "image/png": "[encoded data removed]",
      "text/plain": [
       "<Figure size 1440x1080 with 2 Axes>"
      ]
     },
     "metadata": {
      "needs_background": "light"
     },
     "output_type": "display_data"
    }
   ],
   "source": [
    "# Finding whether there is any relation between variables,\n",
    "#  in other terms multicollinearity.\n",
    "\n",
    "corr_matrix = movies.corr()\n",
    "mask = np.zeros(corr_matrix.shape, dtype=bool)\n",
    "mask[np.triu_indices(len(mask))] = True\n",
    "plt.subplots(figsize=(20,15))\n",
    "sns.heatmap(corr_matrix, xticklabels=corr_matrix.columns, yticklabels=corr_matrix.columns,cmap='RdYlGn',annot=True,mask = mask)"
   ]
  },
  {
   "cell_type": "code",
   "execution_count": 19,
   "metadata": {
    "id": "qJL5O9lmrmKO"
   },
   "outputs": [],
   "source": [
    "# Removing few columns due to multicollinearity\n",
    "movies.drop(columns=['cast_total_facebook_likes','num_critic_for_reviews'], axis=1,inplace=True)"
   ]
  },
  {
   "cell_type": "markdown",
   "metadata": {
    "id": "FdO9hFLatVUh"
   },
   "source": [
    "# Categorizing IMDB_score(our target variable)"
   ]
  },
  {
   "cell_type": "code",
   "execution_count": 20,
   "metadata": {
    "id": "MwiGT5uEtjPw"
   },
   "outputs": [],
   "source": [
    "# Categorising the target variable \n",
    "bins = [ 1, 4.5, 8, 10]\n",
    "labels = ['Flop Movie', 'Average Movie', 'Hit Movie']\n",
    "movies['movie_performance'] = pd.cut(movies['imdb_score'], bins=bins, labels=labels)"
   ]
  },
  {
   "cell_type": "code",
   "execution_count": 21,
   "metadata": {
    "id": "eTJWsNf80dvt"
   },
   "outputs": [],
   "source": [
    "# Removing the column \"imdb_score\" since we have \"movie_performance\"\n",
    "movies.drop(columns=['imdb_score'],inplace=True)"
   ]
  },
  {
   "cell_type": "markdown",
   "metadata": {
    "id": "E3i2AsUm1dU6"
   },
   "source": [
    "# Model Building"
   ]
  },
  {
   "cell_type": "code",
   "execution_count": 22,
   "metadata": {
    "id": "dKHs7wqRyGda"
   },
   "outputs": [],
   "source": [
    "datasetR = movies.copy() #lets keep our original dataset for reference. Here datasetR is for Regression model\n",
    "datasetC = movies.copy() #Here datasetC is for classification model"
   ]
  },
  {
   "cell_type": "code",
   "execution_count": 23,
   "metadata": {
    "colab": {
     "base_uri": "https://localhost:8080/"
    },
    "id": "LAWQetRX1gtd",
    "outputId": "24b44720-dd8c-4dfb-a975-722070a2f848"
   },
   "outputs": [
    {
     "data": {
      "text/plain": [
       "(5001, 17)"
      ]
     },
     "execution_count": 23,
     "metadata": {},
     "output_type": "execute_result"
    }
   ],
   "source": [
    "datasetC.shape"
   ]
  },
  {
   "cell_type": "code",
   "execution_count": 24,
   "metadata": {
    "colab": {
     "base_uri": "https://localhost:8080/"
    },
    "id": "k7k1CFAJ1nbW",
    "outputId": "d5c5757c-9d86-4526-a66d-bf104eac99ac"
   },
   "outputs": [
    {
     "data": {
      "text/plain": [
       "0       Average Movie\n",
       "1       Average Movie\n",
       "2       Average Movie\n",
       "3           Hit Movie\n",
       "4       Average Movie\n",
       "            ...      \n",
       "5038       Flop Movie\n",
       "5039       Flop Movie\n",
       "5040    Average Movie\n",
       "5041    Average Movie\n",
       "5042    Average Movie\n",
       "Name: movie_performance, Length: 5001, dtype: category\n",
       "Categories (3, object): ['Flop Movie' < 'Average Movie' < 'Hit Movie']"
      ]
     },
     "execution_count": 24,
     "metadata": {},
     "output_type": "execute_result"
    }
   ],
   "source": [
    "#Dependent/Target Variable\n",
    "y = datasetC.pop('movie_performance')\n",
    "\n",
    "#Independent Variables\n",
    "X = datasetC\n",
    "\n",
    "y\n"
   ]
  },
  {
   "cell_type": "markdown",
   "metadata": {
    "id": "mGjMI-YF7uOH"
   },
   "source": [
    "#  Train Test Split"
   ]
  },
  {
   "cell_type": "code",
   "execution_count": 25,
   "metadata": {
    "colab": {
     "base_uri": "https://localhost:8080/"
    },
    "id": "UN85ISit3wOE",
    "outputId": "fa65d2a3-f436-4766-eb79-cbfa0d7df1f4"
   },
   "outputs": [
    {
     "name": "stdout",
     "output_type": "stream",
     "text": [
      "(4000, 16)\n",
      "(4000,)\n"
     ]
    }
   ],
   "source": [
    "#Spliting the data into train and test\n",
    "from sklearn.model_selection import train_test_split\n",
    "X_train, X_test, y_train, y_test = train_test_split(X, y, train_size = 0.8, test_size = 0.2, random_state = 42)\n",
    "print(X_train.shape)\n",
    "print(y_train.shape)\n"
   ]
  },
  {
   "cell_type": "markdown",
   "metadata": {
    "id": "dSoROd4k9F-R"
   },
   "source": [
    "# Scaling"
   ]
  },
  {
   "cell_type": "code",
   "execution_count": 26,
   "metadata": {
    "id": "HwfAwFEA7ECU"
   },
   "outputs": [],
   "source": [
    "#Scaling the dependent variables\n",
    "from sklearn.preprocessing import MinMaxScaler\n",
    "scaler = MinMaxScaler()\n",
    "X_train = pd.DataFrame(scaler.fit_transform(X_train.values), columns=X_train.columns, index=X_train.index)\n",
    "X_test = pd.DataFrame(scaler.transform(X_test.values), columns = X_train.columns, index = X_test.index)"
   ]
  },
  {
   "cell_type": "code",
   "execution_count": 27,
   "metadata": {
    "colab": {
     "base_uri": "https://localhost:8080/",
     "height": 488
    },
    "id": "atfou5kjIiIw",
    "outputId": "4c246534-9e5b-4146-af10-8df73f60ca0b"
   },
   "outputs": [
    {
     "data": {
      "text/html": [
       "<div>\n",
       "<style scoped>\n",
       "    .dataframe tbody tr th:only-of-type {\n",
       "        vertical-align: middle;\n",
       "    }\n",
       "\n",
       "    .dataframe tbody tr th {\n",
       "        vertical-align: top;\n",
       "    }\n",
       "\n",
       "    .dataframe thead th {\n",
       "        text-align: right;\n",
       "    }\n",
       "</style>\n",
       "<table border=\"1\" class=\"dataframe\">\n",
       "  <thead>\n",
       "    <tr style=\"text-align: right;\">\n",
       "      <th></th>\n",
       "      <th>color</th>\n",
       "      <th>duration</th>\n",
       "      <th>director_facebook_likes</th>\n",
       "      <th>actor_3_facebook_likes</th>\n",
       "      <th>actor_1_facebook_likes</th>\n",
       "      <th>gross</th>\n",
       "      <th>genres</th>\n",
       "      <th>num_voted_users</th>\n",
       "      <th>facenumber_in_poster</th>\n",
       "      <th>num_user_for_reviews</th>\n",
       "      <th>content_rating</th>\n",
       "      <th>budget</th>\n",
       "      <th>title_year</th>\n",
       "      <th>actor_2_facebook_likes</th>\n",
       "      <th>aspect_ratio</th>\n",
       "      <th>movie_facebook_likes</th>\n",
       "    </tr>\n",
       "  </thead>\n",
       "  <tbody>\n",
       "    <tr>\n",
       "      <th>4713</th>\n",
       "      <td>1.0</td>\n",
       "      <td>0.247706</td>\n",
       "      <td>0.000545</td>\n",
       "      <td>0.015609</td>\n",
       "      <td>0.000939</td>\n",
       "      <td>0.000104</td>\n",
       "      <td>0.779847</td>\n",
       "      <td>0.000048</td>\n",
       "      <td>0.000000</td>\n",
       "      <td>0.053720</td>\n",
       "      <td>0.294118</td>\n",
       "      <td>0.003254</td>\n",
       "      <td>0.966292</td>\n",
       "      <td>0.002708</td>\n",
       "      <td>0.636364</td>\n",
       "      <td>0.001799</td>\n",
       "    </tr>\n",
       "    <tr>\n",
       "      <th>808</th>\n",
       "      <td>1.0</td>\n",
       "      <td>0.455657</td>\n",
       "      <td>0.040545</td>\n",
       "      <td>0.004435</td>\n",
       "      <td>0.040625</td>\n",
       "      <td>0.005963</td>\n",
       "      <td>0.118291</td>\n",
       "      <td>0.022905</td>\n",
       "      <td>0.069767</td>\n",
       "      <td>0.072544</td>\n",
       "      <td>0.411765</td>\n",
       "      <td>0.004912</td>\n",
       "      <td>0.898876</td>\n",
       "      <td>0.002686</td>\n",
       "      <td>0.727273</td>\n",
       "      <td>0.000000</td>\n",
       "    </tr>\n",
       "    <tr>\n",
       "      <th>3697</th>\n",
       "      <td>1.0</td>\n",
       "      <td>0.269113</td>\n",
       "      <td>0.007409</td>\n",
       "      <td>0.028304</td>\n",
       "      <td>0.001563</td>\n",
       "      <td>0.114430</td>\n",
       "      <td>0.971522</td>\n",
       "      <td>0.112563</td>\n",
       "      <td>0.000000</td>\n",
       "      <td>0.170587</td>\n",
       "      <td>0.529412</td>\n",
       "      <td>0.000327</td>\n",
       "      <td>0.876404</td>\n",
       "      <td>0.004774</td>\n",
       "      <td>0.454545</td>\n",
       "      <td>0.000000</td>\n",
       "    </tr>\n",
       "    <tr>\n",
       "      <th>4222</th>\n",
       "      <td>1.0</td>\n",
       "      <td>0.269113</td>\n",
       "      <td>0.024318</td>\n",
       "      <td>0.026435</td>\n",
       "      <td>0.001563</td>\n",
       "      <td>0.000035</td>\n",
       "      <td>0.840088</td>\n",
       "      <td>0.000260</td>\n",
       "      <td>0.093023</td>\n",
       "      <td>0.001581</td>\n",
       "      <td>0.411765</td>\n",
       "      <td>0.003254</td>\n",
       "      <td>0.932584</td>\n",
       "      <td>0.004715</td>\n",
       "      <td>0.727273</td>\n",
       "      <td>0.001402</td>\n",
       "    </tr>\n",
       "    <tr>\n",
       "      <th>2990</th>\n",
       "      <td>1.0</td>\n",
       "      <td>0.287462</td>\n",
       "      <td>0.002773</td>\n",
       "      <td>0.026565</td>\n",
       "      <td>0.001202</td>\n",
       "      <td>0.002710</td>\n",
       "      <td>0.959474</td>\n",
       "      <td>0.017889</td>\n",
       "      <td>0.000000</td>\n",
       "      <td>0.062265</td>\n",
       "      <td>0.529412</td>\n",
       "      <td>0.000982</td>\n",
       "      <td>0.808989</td>\n",
       "      <td>0.005051</td>\n",
       "      <td>0.727273</td>\n",
       "      <td>0.000000</td>\n",
       "    </tr>\n",
       "    <tr>\n",
       "      <th>...</th>\n",
       "      <td>...</td>\n",
       "      <td>...</td>\n",
       "      <td>...</td>\n",
       "      <td>...</td>\n",
       "      <td>...</td>\n",
       "      <td>...</td>\n",
       "      <td>...</td>\n",
       "      <td>...</td>\n",
       "      <td>...</td>\n",
       "      <td>...</td>\n",
       "      <td>...</td>\n",
       "      <td>...</td>\n",
       "      <td>...</td>\n",
       "      <td>...</td>\n",
       "      <td>...</td>\n",
       "      <td>...</td>\n",
       "    </tr>\n",
       "    <tr>\n",
       "      <th>4459</th>\n",
       "      <td>1.0</td>\n",
       "      <td>0.299694</td>\n",
       "      <td>0.000000</td>\n",
       "      <td>0.020304</td>\n",
       "      <td>0.001380</td>\n",
       "      <td>0.063732</td>\n",
       "      <td>1.000000</td>\n",
       "      <td>0.000020</td>\n",
       "      <td>0.000000</td>\n",
       "      <td>0.000198</td>\n",
       "      <td>0.529412</td>\n",
       "      <td>0.000102</td>\n",
       "      <td>0.617978</td>\n",
       "      <td>0.004781</td>\n",
       "      <td>0.636364</td>\n",
       "      <td>0.000161</td>\n",
       "    </tr>\n",
       "    <tr>\n",
       "      <th>471</th>\n",
       "      <td>1.0</td>\n",
       "      <td>0.278287</td>\n",
       "      <td>0.019318</td>\n",
       "      <td>0.017261</td>\n",
       "      <td>0.017188</td>\n",
       "      <td>0.097737</td>\n",
       "      <td>0.052574</td>\n",
       "      <td>0.036336</td>\n",
       "      <td>0.046512</td>\n",
       "      <td>0.032220</td>\n",
       "      <td>0.411765</td>\n",
       "      <td>0.005730</td>\n",
       "      <td>0.797753</td>\n",
       "      <td>0.004693</td>\n",
       "      <td>0.727273</td>\n",
       "      <td>0.000000</td>\n",
       "    </tr>\n",
       "    <tr>\n",
       "      <th>3114</th>\n",
       "      <td>1.0</td>\n",
       "      <td>0.238532</td>\n",
       "      <td>0.000318</td>\n",
       "      <td>0.026739</td>\n",
       "      <td>0.001130</td>\n",
       "      <td>0.043371</td>\n",
       "      <td>0.662651</td>\n",
       "      <td>0.011502</td>\n",
       "      <td>0.000000</td>\n",
       "      <td>0.012848</td>\n",
       "      <td>0.529412</td>\n",
       "      <td>0.001637</td>\n",
       "      <td>0.842697</td>\n",
       "      <td>0.005153</td>\n",
       "      <td>0.454545</td>\n",
       "      <td>0.004930</td>\n",
       "    </tr>\n",
       "    <tr>\n",
       "      <th>3799</th>\n",
       "      <td>1.0</td>\n",
       "      <td>0.293578</td>\n",
       "      <td>0.001545</td>\n",
       "      <td>0.009870</td>\n",
       "      <td>0.001267</td>\n",
       "      <td>0.000021</td>\n",
       "      <td>0.986857</td>\n",
       "      <td>0.000717</td>\n",
       "      <td>0.000000</td>\n",
       "      <td>0.008500</td>\n",
       "      <td>0.529412</td>\n",
       "      <td>0.000409</td>\n",
       "      <td>0.865169</td>\n",
       "      <td>0.003810</td>\n",
       "      <td>0.727273</td>\n",
       "      <td>0.000201</td>\n",
       "    </tr>\n",
       "    <tr>\n",
       "      <th>868</th>\n",
       "      <td>1.0</td>\n",
       "      <td>0.351682</td>\n",
       "      <td>0.013045</td>\n",
       "      <td>0.005870</td>\n",
       "      <td>0.034375</td>\n",
       "      <td>0.054713</td>\n",
       "      <td>0.071194</td>\n",
       "      <td>0.086756</td>\n",
       "      <td>0.046512</td>\n",
       "      <td>0.112868</td>\n",
       "      <td>0.529412</td>\n",
       "      <td>0.004502</td>\n",
       "      <td>0.797753</td>\n",
       "      <td>0.014599</td>\n",
       "      <td>0.727273</td>\n",
       "      <td>0.000000</td>\n",
       "    </tr>\n",
       "  </tbody>\n",
       "</table>\n",
       "<p>4000 rows × 16 columns</p>\n",
       "</div>"
      ],
      "text/plain": [
       "      color  duration  director_facebook_likes  actor_3_facebook_likes  \\\n",
       "4713    1.0  0.247706                 0.000545                0.015609   \n",
       "808     1.0  0.455657                 0.040545                0.004435   \n",
       "3697    1.0  0.269113                 0.007409                0.028304   \n",
       "4222    1.0  0.269113                 0.024318                0.026435   \n",
       "2990    1.0  0.287462                 0.002773                0.026565   \n",
       "...     ...       ...                      ...                     ...   \n",
       "4459    1.0  0.299694                 0.000000                0.020304   \n",
       "471     1.0  0.278287                 0.019318                0.017261   \n",
       "3114    1.0  0.238532                 0.000318                0.026739   \n",
       "3799    1.0  0.293578                 0.001545                0.009870   \n",
       "868     1.0  0.351682                 0.013045                0.005870   \n",
       "\n",
       "      actor_1_facebook_likes     gross    genres  num_voted_users  \\\n",
       "4713                0.000939  0.000104  0.779847         0.000048   \n",
       "808                 0.040625  0.005963  0.118291         0.022905   \n",
       "3697                0.001563  0.114430  0.971522         0.112563   \n",
       "4222                0.001563  0.000035  0.840088         0.000260   \n",
       "2990                0.001202  0.002710  0.959474         0.017889   \n",
       "...                      ...       ...       ...              ...   \n",
       "4459                0.001380  0.063732  1.000000         0.000020   \n",
       "471                 0.017188  0.097737  0.052574         0.036336   \n",
       "3114                0.001130  0.043371  0.662651         0.011502   \n",
       "3799                0.001267  0.000021  0.986857         0.000717   \n",
       "868                 0.034375  0.054713  0.071194         0.086756   \n",
       "\n",
       "      facenumber_in_poster  num_user_for_reviews  content_rating    budget  \\\n",
       "4713              0.000000              0.053720        0.294118  0.003254   \n",
       "808               0.069767              0.072544        0.411765  0.004912   \n",
       "3697              0.000000              0.170587        0.529412  0.000327   \n",
       "4222              0.093023              0.001581        0.411765  0.003254   \n",
       "2990              0.000000              0.062265        0.529412  0.000982   \n",
       "...                    ...                   ...             ...       ...   \n",
       "4459              0.000000              0.000198        0.529412  0.000102   \n",
       "471               0.046512              0.032220        0.411765  0.005730   \n",
       "3114              0.000000              0.012848        0.529412  0.001637   \n",
       "3799              0.000000              0.008500        0.529412  0.000409   \n",
       "868               0.046512              0.112868        0.529412  0.004502   \n",
       "\n",
       "      title_year  actor_2_facebook_likes  aspect_ratio  movie_facebook_likes  \n",
       "4713    0.966292                0.002708      0.636364              0.001799  \n",
       "808     0.898876                0.002686      0.727273              0.000000  \n",
       "3697    0.876404                0.004774      0.454545              0.000000  \n",
       "4222    0.932584                0.004715      0.727273              0.001402  \n",
       "2990    0.808989                0.005051      0.727273              0.000000  \n",
       "...          ...                     ...           ...                   ...  \n",
       "4459    0.617978                0.004781      0.636364              0.000161  \n",
       "471     0.797753                0.004693      0.727273              0.000000  \n",
       "3114    0.842697                0.005153      0.454545              0.004930  \n",
       "3799    0.865169                0.003810      0.727273              0.000201  \n",
       "868     0.797753                0.014599      0.727273              0.000000  \n",
       "\n",
       "[4000 rows x 16 columns]"
      ]
     },
     "execution_count": 27,
     "metadata": {},
     "output_type": "execute_result"
    }
   ],
   "source": [
    "X_train"
   ]
  },
  {
   "cell_type": "markdown",
   "metadata": {
    "id": "dRVSjZOP9KH8"
   },
   "source": [
    "# Feature selection"
   ]
  },
  {
   "cell_type": "code",
   "execution_count": 28,
   "metadata": {
    "id": "7K8xJU629JKV"
   },
   "outputs": [],
   "source": [
    "#Performing Recursive Feauture Elimation with Cross Validation\n",
    "#Using Random forest for RFE-CV and logloss as scoring\n",
    "from sklearn.feature_selection import RFECV\n",
    "from sklearn.ensemble import RandomForestClassifier\n",
    "from sklearn.metrics import log_loss\n",
    "forest_model=RandomForestClassifier(random_state=0)\n",
    "rfecv=RFECV(estimator=forest_model, step=1,cv=5,scoring='neg_log_loss')\n",
    "rfecv=rfecv.fit(X_train,y_train)"
   ]
  },
  {
   "cell_type": "code",
   "execution_count": 29,
   "metadata": {
    "colab": {
     "base_uri": "https://localhost:8080/"
    },
    "id": "yO9HVP8nFb2N",
    "outputId": "68b4aa79-a851-414a-addb-e9f170877431"
   },
   "outputs": [
    {
     "name": "stdout",
     "output_type": "stream",
     "text": [
      "Optimal number of features : 15\n",
      "Best features : Index(['duration', 'director_facebook_likes', 'actor_3_facebook_likes',\n",
      "       'actor_1_facebook_likes', 'gross', 'genres', 'num_voted_users',\n",
      "       'facenumber_in_poster', 'num_user_for_reviews', 'content_rating',\n",
      "       'budget', 'title_year', 'actor_2_facebook_likes', 'aspect_ratio',\n",
      "       'movie_facebook_likes'],\n",
      "      dtype='object')\n"
     ]
    }
   ],
   "source": [
    "#Optimal number of features\n",
    "# X_train = pd.DataFrame(X_train)\n",
    "# X_test = pd.DataFrame(X_test)\n",
    "print('Optimal number of features :', rfecv.n_features_)\n",
    "print('Best features :', X_train.columns[rfecv.support_])"
   ]
  },
  {
   "cell_type": "code",
   "execution_count": 30,
   "metadata": {
    "colab": {
     "base_uri": "https://localhost:8080/"
    },
    "id": "zNWsNLQmF0P9",
    "outputId": "b29db243-d31f-4265-a9c4-d9d9f006af33"
   },
   "outputs": [
    {
     "data": {
      "text/plain": [
       "[('color', False, 2),\n",
       " ('duration', True, 1),\n",
       " ('director_facebook_likes', True, 1),\n",
       " ('actor_3_facebook_likes', True, 1),\n",
       " ('actor_1_facebook_likes', True, 1),\n",
       " ('gross', True, 1),\n",
       " ('genres', True, 1),\n",
       " ('num_voted_users', True, 1),\n",
       " ('facenumber_in_poster', True, 1),\n",
       " ('num_user_for_reviews', True, 1),\n",
       " ('content_rating', True, 1),\n",
       " ('budget', True, 1),\n",
       " ('title_year', True, 1),\n",
       " ('actor_2_facebook_likes', True, 1),\n",
       " ('aspect_ratio', True, 1),\n",
       " ('movie_facebook_likes', True, 1)]"
      ]
     },
     "execution_count": 30,
     "metadata": {},
     "output_type": "execute_result"
    }
   ],
   "source": [
    "list(zip(X_train.columns,rfecv.support_,rfecv.ranking_))"
   ]
  },
  {
   "cell_type": "code",
   "execution_count": 31,
   "metadata": {
    "id": "BZl061HqG__E"
   },
   "outputs": [],
   "source": [
    "col_rfecv = X_train.columns[rfecv.support_]"
   ]
  },
  {
   "cell_type": "code",
   "execution_count": 32,
   "metadata": {
    "id": "lrtkar5pWKJh"
   },
   "outputs": [],
   "source": [
    "#Creating an X_train and an X_test dataframe with rfecv variables\n",
    "X_train_rfecv = X_train[col_rfecv]\n",
    "X_test_rfecv =  X_test[col_rfecv]"
   ]
  },
  {
   "cell_type": "code",
   "execution_count": 33,
   "metadata": {
    "colab": {
     "base_uri": "https://localhost:8080/"
    },
    "id": "_n6vo9OwXlGt",
    "outputId": "c3eb5eb6-2523-4624-93e5-32049a573f48"
   },
   "outputs": [
    {
     "name": "stdout",
     "output_type": "stream",
     "text": [
      "['Average Movie' 'Average Movie' 'Average Movie' 'Hit Movie'\n",
      " 'Average Movie' 'Average Movie' 'Average Movie' 'Average Movie'\n",
      " 'Average Movie' 'Average Movie' 'Average Movie' 'Average Movie'\n",
      " 'Average Movie' 'Average Movie' 'Average Movie' 'Average Movie'\n",
      " 'Average Movie' 'Average Movie' 'Average Movie']\n",
      "Model accuracy score: 0.8931\n"
     ]
    }
   ],
   "source": [
    "from sklearn.ensemble import RandomForestClassifier\n",
    "from sklearn.metrics import mean_absolute_error\n",
    "\n",
    "forest_model = RandomForestClassifier(random_state = 0)\n",
    "forest_model.fit(X_train_rfecv, y_train)\n",
    "predicted_rating = forest_model.predict(X_test_rfecv)\n",
    "print(predicted_rating[1:20])\n",
    "\n",
    "# Check accuracy score \n",
    "\n",
    "from sklearn.metrics import accuracy_score\n",
    "\n",
    "print('Model accuracy score: {0:0.4f}'. format(accuracy_score(y_test, predicted_rating)))"
   ]
  },
  {
   "cell_type": "code",
   "execution_count": 34,
   "metadata": {
    "colab": {
     "base_uri": "https://localhost:8080/"
    },
    "id": "Di5ke6wbaqYy",
    "outputId": "b1693877-0860-4dbf-bec3-8597db982d5d"
   },
   "outputs": [
    {
     "name": "stdout",
     "output_type": "stream",
     "text": [
      "Misclassified samples: 107\n",
      "Accuracy: 0.89\n",
      "Precision: 0.81\n",
      "Recall: 0.46\n",
      "F1 score: 0.50\n"
     ]
    }
   ],
   "source": [
    "from sklearn import metrics\n",
    "count_misclassified = (y_test != predicted_rating).sum()\n",
    "print('Misclassified samples: {}'.format(count_misclassified))\n",
    "accuracy = metrics.accuracy_score(y_test, predicted_rating)\n",
    "print('Accuracy: {:.2f}'.format(accuracy))\n",
    "precision = metrics.precision_score(y_test, predicted_rating, average= 'macro')\n",
    "print('Precision: {:.2f}'.format(precision))\n",
    "recall = metrics.recall_score(y_test, predicted_rating, average= 'macro')\n",
    "print('Recall: {:.2f}'.format(recall))\n",
    "f1_score = metrics.f1_score(y_test, predicted_rating, average = 'macro')\n",
    "print('F1 score: {:.2f}'.format(f1_score))"
   ]
  },
  {
   "cell_type": "code",
   "execution_count": 35,
   "metadata": {
    "colab": {
     "base_uri": "https://localhost:8080/"
    },
    "id": "7rk_mvEpPnRw",
    "outputId": "cc282a39-930e-4dd6-966d-525516474178"
   },
   "outputs": [
    {
     "name": "stdout",
     "output_type": "stream",
     "text": [
      "               precision    recall  f1-score   support\n",
      "\n",
      "Average Movie       0.89      1.00      0.94       875\n",
      "   Flop Movie       0.67      0.03      0.06        67\n",
      "    Hit Movie       0.87      0.34      0.49        59\n",
      "\n",
      "     accuracy                           0.89      1001\n",
      "    macro avg       0.81      0.46      0.50      1001\n",
      " weighted avg       0.88      0.89      0.86      1001\n",
      "\n"
     ]
    }
   ],
   "source": [
    "from sklearn.metrics import confusion_matrix, classification_report\n",
    "# View the classification report for test data and predictions\n",
    "print(classification_report(y_test, predicted_rating))"
   ]
  },
  {
   "cell_type": "code",
   "execution_count": 36,
   "metadata": {},
   "outputs": [
    {
     "name": "stdout",
     "output_type": "stream",
     "text": [
      "['Average Movie' 'Average Movie' 'Average Movie' 'Hit Movie'\n",
      " 'Average Movie' 'Average Movie' 'Average Movie' 'Average Movie'\n",
      " 'Average Movie' 'Average Movie' 'Average Movie' 'Average Movie'\n",
      " 'Average Movie' 'Average Movie' 'Average Movie' 'Average Movie'\n",
      " 'Average Movie' 'Average Movie' 'Average Movie']\n"
     ]
    }
   ],
   "source": [
    "from sklearn.ensemble import RandomForestClassifier\n",
    "from sklearn.metrics import mean_absolute_error\n",
    "\n",
    "forest_model = RandomForestClassifier(n_estimators = 100, max_depth = 20,  criterion = 'entropy', random_state = 0)\n",
    "forest_model.fit(X_train_rfecv, y_train)\n",
    "improved_movie_prediction = forest_model.predict(X_test_rfecv)\n",
    "print(improved_movie_prediction[1:20])"
   ]
  },
  {
   "cell_type": "code",
   "execution_count": 37,
   "metadata": {},
   "outputs": [
    {
     "data": {
      "text/plain": [
       "['rf_model.sav']"
      ]
     },
     "execution_count": 37,
     "metadata": {},
     "output_type": "execute_result"
    }
   ],
   "source": [
    "import joblib\n",
    "joblib.dump(forest_model, 'rf_model.sav')"
   ]
  },
  {
   "cell_type": "code",
   "execution_count": 38,
   "metadata": {},
   "outputs": [
    {
     "name": "stdout",
     "output_type": "stream",
     "text": [
      "               precision    recall  f1-score   support\n",
      "\n",
      "Average Movie       0.90      1.00      0.94       875\n",
      "   Flop Movie       0.83      0.07      0.14        67\n",
      "    Hit Movie       0.92      0.37      0.53        59\n",
      "\n",
      "     accuracy                           0.90      1001\n",
      "    macro avg       0.88      0.48      0.54      1001\n",
      " weighted avg       0.89      0.90      0.87      1001\n",
      "\n"
     ]
    }
   ],
   "source": [
    "from sklearn.metrics import classification_report\n",
    "improved_report = classification_report(y_test,improved_movie_prediction)\n",
    "print(improved_report)"
   ]
  },
  {
   "cell_type": "code",
   "execution_count": null,
   "metadata": {},
   "outputs": [],
   "source": []
  }
 ],
 "metadata": {
  "colab": {
   "provenance": []
  },
  "kernelspec": {
   "display_name": "Python 3 (ipykernel)",
   "language": "python",
   "name": "python3"
  },
  "language_info": {
   "codemirror_mode": {
    "name": "ipython",
    "version": 3
   },
   "file_extension": ".py",
   "mimetype": "text/x-python",
   "name": "python",
   "nbconvert_exporter": "python",
   "pygments_lexer": "ipython3",
   "version": "3.10.6"
  }
 },
 "nbformat": 4,
 "nbformat_minor": 1
}
