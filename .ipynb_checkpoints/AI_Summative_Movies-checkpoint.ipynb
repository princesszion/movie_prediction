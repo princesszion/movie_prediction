{
 "cells": [
  {
   "cell_type": "code",
   "execution_count": 1,
   "metadata": {
    "id": "n7azGMLZwx1O"
   },
   "outputs": [],
   "source": [
    "#Importing necessary Libraries\n",
    "import numpy as np\n",
    "import pandas as pd\n",
    "import io\n",
    "import matplotlib.pyplot as plt \n",
    "import seaborn as sns\n",
    "import warnings\n",
    "warnings.filterwarnings('ignore')"
   ]
  },
  {
   "cell_type": "code",
   "execution_count": 2,
   "metadata": {
    "colab": {
     "base_uri": "https://localhost:8080/",
     "height": 73
    },
    "id": "y8e1ennErpoy",
    "outputId": "6b7b0ae6-f545-43b0-b63b-38f551ee8534"
   },
   "outputs": [],
   "source": [
    "# from google.colab import files\n",
    "# uploaded = files.upload()"
   ]
  },
  {
   "cell_type": "code",
   "execution_count": 3,
   "metadata": {
    "id": "1-zGazrxyNCZ"
   },
   "outputs": [],
   "source": [
    "movies = pd.read_csv('movie_metadata - movie_metadata.csv')"
   ]
  },
  {
   "cell_type": "code",
   "execution_count": 4,
   "metadata": {
    "colab": {
     "base_uri": "https://localhost:8080/",
     "height": 352
    },
    "id": "6HBX7P_1yec4",
    "outputId": "101b2f1d-45e4-4df8-8b2d-032c6782223b"
   },
   "outputs": [
    {
     "data": {
      "text/html": [
       "<div>\n",
       "<style scoped>\n",
       "    .dataframe tbody tr th:only-of-type {\n",
       "        vertical-align: middle;\n",
       "    }\n",
       "\n",
       "    .dataframe tbody tr th {\n",
       "        vertical-align: top;\n",
       "    }\n",
       "\n",
       "    .dataframe thead th {\n",
       "        text-align: right;\n",
       "    }\n",
       "</style>\n",
       "<table border=\"1\" class=\"dataframe\">\n",
       "  <thead>\n",
       "    <tr style=\"text-align: right;\">\n",
       "      <th></th>\n",
       "      <th>color</th>\n",
       "      <th>director_name</th>\n",
       "      <th>num_critic_for_reviews</th>\n",
       "      <th>duration</th>\n",
       "      <th>director_facebook_likes</th>\n",
       "      <th>actor_3_facebook_likes</th>\n",
       "      <th>actor_2_name</th>\n",
       "      <th>actor_1_facebook_likes</th>\n",
       "      <th>gross</th>\n",
       "      <th>genres</th>\n",
       "      <th>...</th>\n",
       "      <th>budget</th>\n",
       "      <th>title_year</th>\n",
       "      <th>actor_2_facebook_likes</th>\n",
       "      <th>imdb_score</th>\n",
       "      <th>aspect_ratio</th>\n",
       "      <th>movie_facebook_likes</th>\n",
       "      <th>popularity</th>\n",
       "      <th>vote_count</th>\n",
       "      <th>budget_adj</th>\n",
       "      <th>revenue_adj</th>\n",
       "    </tr>\n",
       "  </thead>\n",
       "  <tbody>\n",
       "    <tr>\n",
       "      <th>0</th>\n",
       "      <td>Color</td>\n",
       "      <td>James Cameron</td>\n",
       "      <td>723.0</td>\n",
       "      <td>178.0</td>\n",
       "      <td>0.0</td>\n",
       "      <td>855.0</td>\n",
       "      <td>Joel David Moore</td>\n",
       "      <td>1000.0</td>\n",
       "      <td>760505847.0</td>\n",
       "      <td>Action|Adventure|Fantasy|Sci-Fi</td>\n",
       "      <td>...</td>\n",
       "      <td>237000000.0</td>\n",
       "      <td>2009.0</td>\n",
       "      <td>936.0</td>\n",
       "      <td>7.9</td>\n",
       "      <td>1.78</td>\n",
       "      <td>33000.0</td>\n",
       "      <td>32.985763</td>\n",
       "      <td>5562.0</td>\n",
       "      <td>137999939.3</td>\n",
       "      <td>1.392446e+09</td>\n",
       "    </tr>\n",
       "    <tr>\n",
       "      <th>1</th>\n",
       "      <td>Color</td>\n",
       "      <td>Gore Verbinski</td>\n",
       "      <td>302.0</td>\n",
       "      <td>169.0</td>\n",
       "      <td>563.0</td>\n",
       "      <td>1000.0</td>\n",
       "      <td>Orlando Bloom</td>\n",
       "      <td>40000.0</td>\n",
       "      <td>309404152.0</td>\n",
       "      <td>Action|Adventure|Fantasy</td>\n",
       "      <td>...</td>\n",
       "      <td>300000000.0</td>\n",
       "      <td>2007.0</td>\n",
       "      <td>5000.0</td>\n",
       "      <td>7.1</td>\n",
       "      <td>2.35</td>\n",
       "      <td>0.0</td>\n",
       "      <td>28.419936</td>\n",
       "      <td>6185.0</td>\n",
       "      <td>137999939.3</td>\n",
       "      <td>3.481613e+08</td>\n",
       "    </tr>\n",
       "    <tr>\n",
       "      <th>2</th>\n",
       "      <td>Color</td>\n",
       "      <td>Sam Mendes</td>\n",
       "      <td>602.0</td>\n",
       "      <td>148.0</td>\n",
       "      <td>0.0</td>\n",
       "      <td>161.0</td>\n",
       "      <td>Rory Kinnear</td>\n",
       "      <td>11000.0</td>\n",
       "      <td>200074175.0</td>\n",
       "      <td>Action|Adventure|Thriller</td>\n",
       "      <td>...</td>\n",
       "      <td>245000000.0</td>\n",
       "      <td>2015.0</td>\n",
       "      <td>393.0</td>\n",
       "      <td>6.8</td>\n",
       "      <td>2.35</td>\n",
       "      <td>85000.0</td>\n",
       "      <td>13.112507</td>\n",
       "      <td>2480.0</td>\n",
       "      <td>101199955.5</td>\n",
       "      <td>2.716190e+08</td>\n",
       "    </tr>\n",
       "    <tr>\n",
       "      <th>3</th>\n",
       "      <td>Color</td>\n",
       "      <td>Christopher Nolan</td>\n",
       "      <td>813.0</td>\n",
       "      <td>164.0</td>\n",
       "      <td>22000.0</td>\n",
       "      <td>23000.0</td>\n",
       "      <td>Christian Bale</td>\n",
       "      <td>27000.0</td>\n",
       "      <td>448130642.0</td>\n",
       "      <td>Action|Thriller</td>\n",
       "      <td>...</td>\n",
       "      <td>250000000.0</td>\n",
       "      <td>2012.0</td>\n",
       "      <td>23000.0</td>\n",
       "      <td>8.5</td>\n",
       "      <td>2.35</td>\n",
       "      <td>164000.0</td>\n",
       "      <td>11.173104</td>\n",
       "      <td>5292.0</td>\n",
       "      <td>183999919.0</td>\n",
       "      <td>1.902723e+09</td>\n",
       "    </tr>\n",
       "    <tr>\n",
       "      <th>4</th>\n",
       "      <td>NaN</td>\n",
       "      <td>Doug Walker</td>\n",
       "      <td>NaN</td>\n",
       "      <td>NaN</td>\n",
       "      <td>131.0</td>\n",
       "      <td>NaN</td>\n",
       "      <td>Rob Walker</td>\n",
       "      <td>131.0</td>\n",
       "      <td>NaN</td>\n",
       "      <td>Documentary</td>\n",
       "      <td>...</td>\n",
       "      <td>NaN</td>\n",
       "      <td>NaN</td>\n",
       "      <td>12.0</td>\n",
       "      <td>7.1</td>\n",
       "      <td>NaN</td>\n",
       "      <td>0.0</td>\n",
       "      <td>9.335014</td>\n",
       "      <td>2947.0</td>\n",
       "      <td>174799923.1</td>\n",
       "      <td>1.385749e+09</td>\n",
       "    </tr>\n",
       "  </tbody>\n",
       "</table>\n",
       "<p>5 rows × 32 columns</p>\n",
       "</div>"
      ],
      "text/plain": [
       "   color      director_name  num_critic_for_reviews  duration  \\\n",
       "0  Color      James Cameron                   723.0     178.0   \n",
       "1  Color     Gore Verbinski                   302.0     169.0   \n",
       "2  Color         Sam Mendes                   602.0     148.0   \n",
       "3  Color  Christopher Nolan                   813.0     164.0   \n",
       "4    NaN        Doug Walker                     NaN       NaN   \n",
       "\n",
       "   director_facebook_likes  actor_3_facebook_likes      actor_2_name  \\\n",
       "0                      0.0                   855.0  Joel David Moore   \n",
       "1                    563.0                  1000.0     Orlando Bloom   \n",
       "2                      0.0                   161.0      Rory Kinnear   \n",
       "3                  22000.0                 23000.0    Christian Bale   \n",
       "4                    131.0                     NaN        Rob Walker   \n",
       "\n",
       "   actor_1_facebook_likes        gross                           genres  ...  \\\n",
       "0                  1000.0  760505847.0  Action|Adventure|Fantasy|Sci-Fi  ...   \n",
       "1                 40000.0  309404152.0         Action|Adventure|Fantasy  ...   \n",
       "2                 11000.0  200074175.0        Action|Adventure|Thriller  ...   \n",
       "3                 27000.0  448130642.0                  Action|Thriller  ...   \n",
       "4                   131.0          NaN                      Documentary  ...   \n",
       "\n",
       "        budget title_year  actor_2_facebook_likes  imdb_score aspect_ratio  \\\n",
       "0  237000000.0     2009.0                   936.0         7.9         1.78   \n",
       "1  300000000.0     2007.0                  5000.0         7.1         2.35   \n",
       "2  245000000.0     2015.0                   393.0         6.8         2.35   \n",
       "3  250000000.0     2012.0                 23000.0         8.5         2.35   \n",
       "4          NaN        NaN                    12.0         7.1          NaN   \n",
       "\n",
       "   movie_facebook_likes popularity vote_count   budget_adj   revenue_adj  \n",
       "0               33000.0  32.985763     5562.0  137999939.3  1.392446e+09  \n",
       "1                   0.0  28.419936     6185.0  137999939.3  3.481613e+08  \n",
       "2               85000.0  13.112507     2480.0  101199955.5  2.716190e+08  \n",
       "3              164000.0  11.173104     5292.0  183999919.0  1.902723e+09  \n",
       "4                   0.0   9.335014     2947.0  174799923.1  1.385749e+09  \n",
       "\n",
       "[5 rows x 32 columns]"
      ]
     },
     "execution_count": 4,
     "metadata": {},
     "output_type": "execute_result"
    }
   ],
   "source": [
    "# Printing the first 5 entries in the dataset \n",
    "# to see how the dataset looks like\n",
    "movies.head()"
   ]
  },
  {
   "cell_type": "code",
   "execution_count": 5,
   "metadata": {
    "colab": {
     "base_uri": "https://localhost:8080/"
    },
    "id": "iJseh8Ig0qqL",
    "outputId": "3bcc4600-6fe5-4d84-dea4-141cdef0e924"
   },
   "outputs": [
    {
     "data": {
      "text/plain": [
       "((5044, 32),\n",
       " Index(['color', 'director_name', 'num_critic_for_reviews', 'duration',\n",
       "        'director_facebook_likes', 'actor_3_facebook_likes', 'actor_2_name',\n",
       "        'actor_1_facebook_likes', 'gross', 'genres', 'actor_1_name',\n",
       "        'movie_title', 'num_voted_users', 'cast_total_facebook_likes',\n",
       "        'actor_3_name', 'facenumber_in_poster', 'plot_keywords',\n",
       "        'movie_imdb_link', 'num_user_for_reviews', 'language', 'country',\n",
       "        'content_rating', 'budget', 'title_year', 'actor_2_facebook_likes',\n",
       "        'imdb_score', 'aspect_ratio', 'movie_facebook_likes', 'popularity',\n",
       "        'vote_count', 'budget_adj', 'revenue_adj'],\n",
       "       dtype='object'))"
      ]
     },
     "execution_count": 5,
     "metadata": {},
     "output_type": "execute_result"
    }
   ],
   "source": [
    "movies.shape, movies.columns"
   ]
  },
  {
   "cell_type": "markdown",
   "metadata": {
    "id": "oAbrbJN7ASwO"
   },
   "source": [
    "#  1. Description of dataset features"
   ]
  },
  {
   "cell_type": "markdown",
   "metadata": {
    "id": "C7TpQ3Wf1Syf"
   },
   "source": [
    "1. **Color** : Movie is black or coloured\n",
    "2. **Director_name**: Name of the movie director\n",
    "3. **num_critic_for_reviews** : No of critics for the movie\n",
    "4. **duration**: Movie duration in minutes\n",
    "5. **director_facebook_likes**: Number of likes for the Director on his Facebook Page\n",
    "6. **actor_3_facebook_likes**: No of likes for the actor 3 on his/her facebook Page\n",
    "7. **actor2_name**: name of the actor 2\n",
    "8. **actor_1_facebook_likes**: No of likes for the actor 1 on his/her facebook Page\n",
    "9. **gross**: Gross earnings of the movie in Dollars\n",
    "10. **genres**: Film categorization like ‘Animation’, ‘Comedy’, ‘Romance’, ‘Horror’, ‘Sci-Fi’, ‘Action’, ‘Family’\n",
    "11. **actor_1_name**: Name of the actor 1\n",
    "12. **movie_title**: Title of the movie\n",
    "13. **num_voted_users**: No of people who voted for the movie\n",
    "14. **cast_total_facebook_likes**: Total facebook like for the movie\n",
    "15. **actor_3_name**: Name of the actor 3\n",
    "16. **facenumber_in_poster**: No of actors who featured in the movie poster\n",
    "17. **plot_keywords**: Keywords describing the movie plots\n",
    "18. **movie_imdb_link**: Link of the movie link\n",
    "19. **num_user_for_reviews**: Number of users who gave a review\n",
    "20. **language**: Language of the movie\n",
    "21. **country**: Country where movie is produced\n",
    "22. **content_rating**: Content rating of the movie\n",
    "23. **budget**: Budget of the movie in Dollars\n",
    "24. **title_year**: The year in which the movie is released\n",
    "25. **actor_2_facebook_likes**: Facebook likes for the actor 2\n",
    "26. **imdb_score**: IMDB score of the movie\n",
    "27. **aspect_ratio** : Aspect ratio the movie was made in\n",
    "28. **movie_facebook_likes**: Total no of facebook likes for the movie\n",
    "\n",
    "\n"
   ]
  },
  {
   "cell_type": "markdown",
   "metadata": {
    "id": "Z-exqejOAnfK"
   },
   "source": [
    "## 2. Data cleaning"
   ]
  },
  {
   "cell_type": "code",
   "execution_count": 6,
   "metadata": {
    "colab": {
     "base_uri": "https://localhost:8080/"
    },
    "id": "jh511Sc_5eFh",
    "outputId": "2e84eefc-9adb-4220-e9c5-a8408fc8078e"
   },
   "outputs": [
    {
     "data": {
      "text/plain": [
       "color                         20\n",
       "director_name                105\n",
       "num_critic_for_reviews        51\n",
       "duration                      16\n",
       "director_facebook_likes      105\n",
       "actor_3_facebook_likes        24\n",
       "actor_2_name                  14\n",
       "actor_1_facebook_likes         8\n",
       "gross                        885\n",
       "genres                         1\n",
       "actor_1_name                   8\n",
       "movie_title                    1\n",
       "num_voted_users                1\n",
       "cast_total_facebook_likes      1\n",
       "actor_3_name                  24\n",
       "facenumber_in_poster          14\n",
       "plot_keywords                154\n",
       "movie_imdb_link                1\n",
       "num_user_for_reviews          22\n",
       "language                      13\n",
       "country                        6\n",
       "content_rating               304\n",
       "budget                       493\n",
       "title_year                   109\n",
       "actor_2_facebook_likes        14\n",
       "imdb_score                     1\n",
       "aspect_ratio                 330\n",
       "movie_facebook_likes           1\n",
       "popularity                     1\n",
       "vote_count                     1\n",
       "budget_adj                     0\n",
       "revenue_adj                    0\n",
       "dtype: int64"
      ]
     },
     "execution_count": 6,
     "metadata": {},
     "output_type": "execute_result"
    }
   ],
   "source": [
    "#No of the missing values in the dataset\n",
    "movies.isna().sum()"
   ]
  },
  {
   "cell_type": "code",
   "execution_count": 7,
   "metadata": {
    "id": "QgEayhr66Z2W"
   },
   "outputs": [],
   "source": [
    "# Imputing the dataframe\n",
    "def replace_missing_values(data):\n",
    "    # Get the column names by data types\n",
    "    col_names = data.columns\n",
    "    col_types = data.dtypes\n",
    "\n",
    "    # Loop through each column and replace missing values\n",
    "    for i in range(len(col_names)):\n",
    "        col_name = col_names[i]\n",
    "        col_type = col_types[i]\n",
    "        \n",
    "        if col_type == 'object':\n",
    "            # For string columns, use bfill and ffill methods\n",
    "            data[col_name] = data[col_name].fillna(method='bfill').fillna(method='ffill')\n",
    "        else:\n",
    "            # For numerical columns, replace missing values with the mean of the column\n",
    "            data[col_name] = data[col_name].fillna(movies[col_name].mean())\n",
    "    \n",
    "    \n"
   ]
  },
  {
   "cell_type": "code",
   "execution_count": 8,
   "metadata": {
    "id": "OpNwkP2lzt2q"
   },
   "outputs": [],
   "source": [
    "# Imputing all the missing cells\n",
    "replace_missing_values(movies)"
   ]
  },
  {
   "cell_type": "code",
   "execution_count": 9,
   "metadata": {
    "colab": {
     "base_uri": "https://localhost:8080/"
    },
    "id": "Qa3WcwCK7tW-",
    "outputId": "f5e71ead-7e0d-4107-a204-ea1a79c242f1"
   },
   "outputs": [
    {
     "name": "stdout",
     "output_type": "stream",
     "text": [
      "0\n"
     ]
    }
   ],
   "source": [
    "# Get the count of missing values per row\n",
    "missing_per_row = movies.isnull().sum(axis=1)\n",
    "\n",
    "# Get the total number of rows with missing values\n",
    "total_missing_rows = len(missing_per_row[missing_per_row > 0])\n",
    "\n",
    "print(total_missing_rows)"
   ]
  },
  {
   "cell_type": "code",
   "execution_count": 10,
   "metadata": {
    "colab": {
     "base_uri": "https://localhost:8080/"
    },
    "id": "W6Ky55LBYJ2I",
    "outputId": "e242b872-8499-4123-8949-3da26c017cd0"
   },
   "outputs": [
    {
     "data": {
      "text/plain": [
       "0"
      ]
     },
     "execution_count": 10,
     "metadata": {},
     "output_type": "execute_result"
    }
   ],
   "source": [
    "#Checking to see if there are duplicates\n",
    "movies.duplicated().sum()"
   ]
  },
  {
   "cell_type": "code",
   "execution_count": 11,
   "metadata": {
    "colab": {
     "base_uri": "https://localhost:8080/"
    },
    "id": "NEr6OuhGB1qt",
    "outputId": "ece685bb-e099-4de7-db56-a1117798b00c"
   },
   "outputs": [
    {
     "data": {
      "text/plain": [
       "(5044, 32)"
      ]
     },
     "execution_count": 11,
     "metadata": {},
     "output_type": "execute_result"
    }
   ],
   "source": [
    "#Removing the duplicate values in the datset\n",
    "movies.drop_duplicates(inplace=True)\n",
    "movies.duplicated().sum()\n",
    "movies.shape"
   ]
  },
  {
   "cell_type": "code",
   "execution_count": 12,
   "metadata": {},
   "outputs": [
    {
     "name": "stdout",
     "output_type": "stream",
     "text": [
      "<class 'pandas.core.frame.DataFrame'>\n",
      "Int64Index: 5044 entries, 0 to 5043\n",
      "Data columns (total 32 columns):\n",
      " #   Column                     Non-Null Count  Dtype  \n",
      "---  ------                     --------------  -----  \n",
      " 0   color                      5044 non-null   object \n",
      " 1   director_name              5044 non-null   object \n",
      " 2   num_critic_for_reviews     5044 non-null   float64\n",
      " 3   duration                   5044 non-null   float64\n",
      " 4   director_facebook_likes    5044 non-null   float64\n",
      " 5   actor_3_facebook_likes     5044 non-null   float64\n",
      " 6   actor_2_name               5044 non-null   object \n",
      " 7   actor_1_facebook_likes     5044 non-null   float64\n",
      " 8   gross                      5044 non-null   float64\n",
      " 9   genres                     5044 non-null   object \n",
      " 10  actor_1_name               5044 non-null   object \n",
      " 11  movie_title                5044 non-null   object \n",
      " 12  num_voted_users            5044 non-null   float64\n",
      " 13  cast_total_facebook_likes  5044 non-null   float64\n",
      " 14  actor_3_name               5044 non-null   object \n",
      " 15  facenumber_in_poster       5044 non-null   float64\n",
      " 16  plot_keywords              5044 non-null   object \n",
      " 17  movie_imdb_link            5044 non-null   object \n",
      " 18  num_user_for_reviews       5044 non-null   float64\n",
      " 19  language                   5044 non-null   object \n",
      " 20  country                    5044 non-null   object \n",
      " 21  content_rating             5044 non-null   object \n",
      " 22  budget                     5044 non-null   float64\n",
      " 23  title_year                 5044 non-null   float64\n",
      " 24  actor_2_facebook_likes     5044 non-null   float64\n",
      " 25  imdb_score                 5044 non-null   float64\n",
      " 26  aspect_ratio               5044 non-null   float64\n",
      " 27  movie_facebook_likes       5044 non-null   float64\n",
      " 28  popularity                 5044 non-null   float64\n",
      " 29  vote_count                 5044 non-null   float64\n",
      " 30  budget_adj                 5044 non-null   float64\n",
      " 31  revenue_adj                5044 non-null   float64\n",
      "dtypes: float64(20), object(12)\n",
      "memory usage: 1.3+ MB\n"
     ]
    }
   ],
   "source": [
    "movies.info()"
   ]
  },
  {
   "cell_type": "code",
   "execution_count": 13,
   "metadata": {
    "id": "aZsPrfV0PNo5"
   },
   "outputs": [],
   "source": [
    "# Changing 'title year' to int\n",
    "#movies['title_year'] = movies['title_year'].apply(np.int64)\n"
   ]
  },
  {
   "cell_type": "markdown",
   "metadata": {
    "id": "SGIeUtA5D0_0"
   },
   "source": [
    "# 2. Feauture engineering"
   ]
  },
  {
   "cell_type": "code",
   "execution_count": 14,
   "metadata": {
    "colab": {
     "base_uri": "https://localhost:8080/",
     "height": 256
    },
    "id": "6MAFx40GJOn8",
    "outputId": "4400a206-6c77-402a-82a7-4892d9a8f51e"
   },
   "outputs": [
    {
     "data": {
      "text/html": [
       "<div>\n",
       "<style scoped>\n",
       "    .dataframe tbody tr th:only-of-type {\n",
       "        vertical-align: middle;\n",
       "    }\n",
       "\n",
       "    .dataframe tbody tr th {\n",
       "        vertical-align: top;\n",
       "    }\n",
       "\n",
       "    .dataframe thead th {\n",
       "        text-align: right;\n",
       "    }\n",
       "</style>\n",
       "<table border=\"1\" class=\"dataframe\">\n",
       "  <thead>\n",
       "    <tr style=\"text-align: right;\">\n",
       "      <th></th>\n",
       "      <th>color</th>\n",
       "      <th>director_name</th>\n",
       "      <th>actor_2_name</th>\n",
       "      <th>genres</th>\n",
       "      <th>actor_1_name</th>\n",
       "      <th>movie_title</th>\n",
       "      <th>actor_3_name</th>\n",
       "      <th>plot_keywords</th>\n",
       "      <th>movie_imdb_link</th>\n",
       "      <th>language</th>\n",
       "      <th>country</th>\n",
       "      <th>content_rating</th>\n",
       "    </tr>\n",
       "  </thead>\n",
       "  <tbody>\n",
       "    <tr>\n",
       "      <th>count</th>\n",
       "      <td>5044</td>\n",
       "      <td>5044</td>\n",
       "      <td>5044</td>\n",
       "      <td>5044</td>\n",
       "      <td>5044</td>\n",
       "      <td>5044</td>\n",
       "      <td>5044</td>\n",
       "      <td>5044</td>\n",
       "      <td>5044</td>\n",
       "      <td>5044</td>\n",
       "      <td>5044</td>\n",
       "      <td>5044</td>\n",
       "    </tr>\n",
       "    <tr>\n",
       "      <th>unique</th>\n",
       "      <td>2</td>\n",
       "      <td>2398</td>\n",
       "      <td>3032</td>\n",
       "      <td>914</td>\n",
       "      <td>2097</td>\n",
       "      <td>4916</td>\n",
       "      <td>3521</td>\n",
       "      <td>4760</td>\n",
       "      <td>4919</td>\n",
       "      <td>47</td>\n",
       "      <td>65</td>\n",
       "      <td>18</td>\n",
       "    </tr>\n",
       "    <tr>\n",
       "      <th>top</th>\n",
       "      <td>Color</td>\n",
       "      <td>Steven Spielberg</td>\n",
       "      <td>Morgan Freeman</td>\n",
       "      <td>Drama</td>\n",
       "      <td>Robert De Niro</td>\n",
       "      <td>The Fast and the Furious</td>\n",
       "      <td>Ben Mendelsohn</td>\n",
       "      <td>actress name in title|crush|date|four word tit...</td>\n",
       "      <td>http://www.imdb.com/title/tt2224026/?ref_=fn_t...</td>\n",
       "      <td>English</td>\n",
       "      <td>USA</td>\n",
       "      <td>R</td>\n",
       "    </tr>\n",
       "    <tr>\n",
       "      <th>freq</th>\n",
       "      <td>4833</td>\n",
       "      <td>27</td>\n",
       "      <td>20</td>\n",
       "      <td>236</td>\n",
       "      <td>49</td>\n",
       "      <td>3</td>\n",
       "      <td>8</td>\n",
       "      <td>4</td>\n",
       "      <td>3</td>\n",
       "      <td>4714</td>\n",
       "      <td>3811</td>\n",
       "      <td>2262</td>\n",
       "    </tr>\n",
       "  </tbody>\n",
       "</table>\n",
       "</div>"
      ],
      "text/plain": [
       "        color     director_name    actor_2_name genres    actor_1_name  \\\n",
       "count    5044              5044            5044   5044            5044   \n",
       "unique      2              2398            3032    914            2097   \n",
       "top     Color  Steven Spielberg  Morgan Freeman  Drama  Robert De Niro   \n",
       "freq     4833                27              20    236              49   \n",
       "\n",
       "                      movie_title    actor_3_name  \\\n",
       "count                        5044            5044   \n",
       "unique                       4916            3521   \n",
       "top     The Fast and the Furious   Ben Mendelsohn   \n",
       "freq                            3               8   \n",
       "\n",
       "                                            plot_keywords  \\\n",
       "count                                                5044   \n",
       "unique                                               4760   \n",
       "top     actress name in title|crush|date|four word tit...   \n",
       "freq                                                    4   \n",
       "\n",
       "                                          movie_imdb_link language country  \\\n",
       "count                                                5044     5044    5044   \n",
       "unique                                               4919       47      65   \n",
       "top     http://www.imdb.com/title/tt2224026/?ref_=fn_t...  English     USA   \n",
       "freq                                                    3     4714    3811   \n",
       "\n",
       "       content_rating  \n",
       "count            5044  \n",
       "unique             18  \n",
       "top                 R  \n",
       "freq             2262  "
      ]
     },
     "execution_count": 14,
     "metadata": {},
     "output_type": "execute_result"
    }
   ],
   "source": [
    "#Describing the categorical data\n",
    "movies.describe(include='object')"
   ]
  },
  {
   "cell_type": "code",
   "execution_count": 15,
   "metadata": {
    "id": "GuYiRBjgJpHL"
   },
   "outputs": [],
   "source": [
    "# Droping'movie_title','movie_imdb_link' columns. \n",
    "#  This is becuase they are almost unique, so don't contribute match to our target variable\n",
    "movies.drop(columns=['movie_title', 'movie_imdb_link','director_name','actor_1_name','actor_3_name','actor_2_name'],axis=1, inplace=True)"
   ]
  },
  {
   "cell_type": "code",
   "execution_count": 16,
   "metadata": {
    "id": "mmVyth4BK3Mj"
   },
   "outputs": [],
   "source": [
    "# Label encoding the categorical columns\n",
    "from sklearn.preprocessing import LabelEncoder\n",
    "feature_encoding = LabelEncoder()\n",
    "categorical_features=['color', \n",
    "        'genres', \n",
    "        'plot_keywords',\n",
    "        'language', 'country', 'content_rating',\n",
    "       'title_year', 'aspect_ratio']\n",
    "movies[categorical_features]=movies[categorical_features].apply(lambda x:feature_encoding.fit_transform(x))"
   ]
  },
  {
   "cell_type": "code",
   "execution_count": 17,
   "metadata": {
    "colab": {
     "base_uri": "https://localhost:8080/",
     "height": 300
    },
    "id": "4qktj9vQLw9u",
    "outputId": "1aaab3f0-0837-4065-ec05-7244b3851d90"
   },
   "outputs": [
    {
     "data": {
      "text/html": [
       "<div>\n",
       "<style scoped>\n",
       "    .dataframe tbody tr th:only-of-type {\n",
       "        vertical-align: middle;\n",
       "    }\n",
       "\n",
       "    .dataframe tbody tr th {\n",
       "        vertical-align: top;\n",
       "    }\n",
       "\n",
       "    .dataframe thead th {\n",
       "        text-align: right;\n",
       "    }\n",
       "</style>\n",
       "<table border=\"1\" class=\"dataframe\">\n",
       "  <thead>\n",
       "    <tr style=\"text-align: right;\">\n",
       "      <th></th>\n",
       "      <th>color</th>\n",
       "      <th>num_critic_for_reviews</th>\n",
       "      <th>duration</th>\n",
       "      <th>director_facebook_likes</th>\n",
       "      <th>actor_3_facebook_likes</th>\n",
       "      <th>actor_1_facebook_likes</th>\n",
       "      <th>gross</th>\n",
       "      <th>genres</th>\n",
       "      <th>num_voted_users</th>\n",
       "      <th>cast_total_facebook_likes</th>\n",
       "      <th>...</th>\n",
       "      <th>budget</th>\n",
       "      <th>title_year</th>\n",
       "      <th>actor_2_facebook_likes</th>\n",
       "      <th>imdb_score</th>\n",
       "      <th>aspect_ratio</th>\n",
       "      <th>movie_facebook_likes</th>\n",
       "      <th>popularity</th>\n",
       "      <th>vote_count</th>\n",
       "      <th>budget_adj</th>\n",
       "      <th>revenue_adj</th>\n",
       "    </tr>\n",
       "  </thead>\n",
       "  <tbody>\n",
       "    <tr>\n",
       "      <th>0</th>\n",
       "      <td>1</td>\n",
       "      <td>723.000000</td>\n",
       "      <td>178.000000</td>\n",
       "      <td>0.0</td>\n",
       "      <td>855.000000</td>\n",
       "      <td>1000.0</td>\n",
       "      <td>7.605058e+08</td>\n",
       "      <td>106</td>\n",
       "      <td>886204.0</td>\n",
       "      <td>4834.0</td>\n",
       "      <td>...</td>\n",
       "      <td>2.370000e+08</td>\n",
       "      <td>84</td>\n",
       "      <td>936.0</td>\n",
       "      <td>7.9</td>\n",
       "      <td>9</td>\n",
       "      <td>33000.0</td>\n",
       "      <td>32.985763</td>\n",
       "      <td>5562.0</td>\n",
       "      <td>137999939.3</td>\n",
       "      <td>1.392446e+09</td>\n",
       "    </tr>\n",
       "    <tr>\n",
       "      <th>1</th>\n",
       "      <td>1</td>\n",
       "      <td>302.000000</td>\n",
       "      <td>169.000000</td>\n",
       "      <td>563.0</td>\n",
       "      <td>1000.000000</td>\n",
       "      <td>40000.0</td>\n",
       "      <td>3.094042e+08</td>\n",
       "      <td>100</td>\n",
       "      <td>471220.0</td>\n",
       "      <td>48350.0</td>\n",
       "      <td>...</td>\n",
       "      <td>3.000000e+08</td>\n",
       "      <td>82</td>\n",
       "      <td>5000.0</td>\n",
       "      <td>7.1</td>\n",
       "      <td>16</td>\n",
       "      <td>0.0</td>\n",
       "      <td>28.419936</td>\n",
       "      <td>6185.0</td>\n",
       "      <td>137999939.3</td>\n",
       "      <td>3.481613e+08</td>\n",
       "    </tr>\n",
       "    <tr>\n",
       "      <th>2</th>\n",
       "      <td>1</td>\n",
       "      <td>602.000000</td>\n",
       "      <td>148.000000</td>\n",
       "      <td>0.0</td>\n",
       "      <td>161.000000</td>\n",
       "      <td>11000.0</td>\n",
       "      <td>2.000742e+08</td>\n",
       "      <td>127</td>\n",
       "      <td>275868.0</td>\n",
       "      <td>11700.0</td>\n",
       "      <td>...</td>\n",
       "      <td>2.450000e+08</td>\n",
       "      <td>90</td>\n",
       "      <td>393.0</td>\n",
       "      <td>6.8</td>\n",
       "      <td>16</td>\n",
       "      <td>85000.0</td>\n",
       "      <td>13.112507</td>\n",
       "      <td>2480.0</td>\n",
       "      <td>101199955.5</td>\n",
       "      <td>2.716190e+08</td>\n",
       "    </tr>\n",
       "    <tr>\n",
       "      <th>3</th>\n",
       "      <td>1</td>\n",
       "      <td>813.000000</td>\n",
       "      <td>164.000000</td>\n",
       "      <td>22000.0</td>\n",
       "      <td>23000.000000</td>\n",
       "      <td>27000.0</td>\n",
       "      <td>4.481306e+08</td>\n",
       "      <td>287</td>\n",
       "      <td>1144337.0</td>\n",
       "      <td>106759.0</td>\n",
       "      <td>...</td>\n",
       "      <td>2.500000e+08</td>\n",
       "      <td>87</td>\n",
       "      <td>23000.0</td>\n",
       "      <td>8.5</td>\n",
       "      <td>16</td>\n",
       "      <td>164000.0</td>\n",
       "      <td>11.173104</td>\n",
       "      <td>5292.0</td>\n",
       "      <td>183999919.0</td>\n",
       "      <td>1.902723e+09</td>\n",
       "    </tr>\n",
       "    <tr>\n",
       "      <th>4</th>\n",
       "      <td>1</td>\n",
       "      <td>140.194272</td>\n",
       "      <td>107.201074</td>\n",
       "      <td>131.0</td>\n",
       "      <td>645.009761</td>\n",
       "      <td>131.0</td>\n",
       "      <td>4.846841e+07</td>\n",
       "      <td>753</td>\n",
       "      <td>8.0</td>\n",
       "      <td>143.0</td>\n",
       "      <td>...</td>\n",
       "      <td>3.975262e+07</td>\n",
       "      <td>77</td>\n",
       "      <td>12.0</td>\n",
       "      <td>7.1</td>\n",
       "      <td>14</td>\n",
       "      <td>0.0</td>\n",
       "      <td>9.335014</td>\n",
       "      <td>2947.0</td>\n",
       "      <td>174799923.1</td>\n",
       "      <td>1.385749e+09</td>\n",
       "    </tr>\n",
       "  </tbody>\n",
       "</table>\n",
       "<p>5 rows × 26 columns</p>\n",
       "</div>"
      ],
      "text/plain": [
       "   color  num_critic_for_reviews    duration  director_facebook_likes  \\\n",
       "0      1              723.000000  178.000000                      0.0   \n",
       "1      1              302.000000  169.000000                    563.0   \n",
       "2      1              602.000000  148.000000                      0.0   \n",
       "3      1              813.000000  164.000000                  22000.0   \n",
       "4      1              140.194272  107.201074                    131.0   \n",
       "\n",
       "   actor_3_facebook_likes  actor_1_facebook_likes         gross  genres  \\\n",
       "0              855.000000                  1000.0  7.605058e+08     106   \n",
       "1             1000.000000                 40000.0  3.094042e+08     100   \n",
       "2              161.000000                 11000.0  2.000742e+08     127   \n",
       "3            23000.000000                 27000.0  4.481306e+08     287   \n",
       "4              645.009761                   131.0  4.846841e+07     753   \n",
       "\n",
       "   num_voted_users  cast_total_facebook_likes  ...        budget  title_year  \\\n",
       "0         886204.0                     4834.0  ...  2.370000e+08          84   \n",
       "1         471220.0                    48350.0  ...  3.000000e+08          82   \n",
       "2         275868.0                    11700.0  ...  2.450000e+08          90   \n",
       "3        1144337.0                   106759.0  ...  2.500000e+08          87   \n",
       "4              8.0                      143.0  ...  3.975262e+07          77   \n",
       "\n",
       "   actor_2_facebook_likes  imdb_score  aspect_ratio  movie_facebook_likes  \\\n",
       "0                   936.0         7.9             9               33000.0   \n",
       "1                  5000.0         7.1            16                   0.0   \n",
       "2                   393.0         6.8            16               85000.0   \n",
       "3                 23000.0         8.5            16              164000.0   \n",
       "4                    12.0         7.1            14                   0.0   \n",
       "\n",
       "   popularity  vote_count   budget_adj   revenue_adj  \n",
       "0   32.985763      5562.0  137999939.3  1.392446e+09  \n",
       "1   28.419936      6185.0  137999939.3  3.481613e+08  \n",
       "2   13.112507      2480.0  101199955.5  2.716190e+08  \n",
       "3   11.173104      5292.0  183999919.0  1.902723e+09  \n",
       "4    9.335014      2947.0  174799923.1  1.385749e+09  \n",
       "\n",
       "[5 rows x 26 columns]"
      ]
     },
     "execution_count": 17,
     "metadata": {},
     "output_type": "execute_result"
    }
   ],
   "source": [
    "#A sample of data after label encoding\n",
    "movies.head()"
   ]
  },
  {
   "cell_type": "markdown",
   "metadata": {
    "id": "i5mf2TF7qUnO"
   },
   "source": [
    "# Correlation"
   ]
  },
  {
   "cell_type": "code",
   "execution_count": 18,
   "metadata": {
    "colab": {
     "base_uri": "https://localhost:8080/",
     "height": 1000
    },
    "id": "YJ8pdSy2qY5V",
    "outputId": "86e6157e-1aa9-461b-a4aa-da0f2226cee4"
   },
   "outputs": [
    {
     "data": {
      "text/plain": [
       "<AxesSubplot:>"
      ]
     },
     "execution_count": 18,
     "metadata": {},
     "output_type": "execute_result"
    },
    {
     "data": {
      "image/png": "[encoded data removed]",
      "text/plain": [
       "<Figure size 1440x1080 with 2 Axes>"
      ]
     },
     "metadata": {
      "needs_background": "light"
     },
     "output_type": "display_data"
    }
   ],
   "source": [
    "# Finding whether there is any relation between variables,\n",
    "#  in other terms multicollinearity.\n",
    "\n",
    "corr_matrix = movies.corr()\n",
    "mask = np.zeros(corr_matrix.shape, dtype=bool)\n",
    "mask[np.triu_indices(len(mask))] = True\n",
    "plt.subplots(figsize=(20,15))\n",
    "sns.heatmap(corr_matrix, xticklabels=corr_matrix.columns, yticklabels=corr_matrix.columns,cmap='RdYlGn',annot=True,mask = mask)"
   ]
  },
  {
   "cell_type": "code",
   "execution_count": 19,
   "metadata": {
    "id": "qJL5O9lmrmKO"
   },
   "outputs": [],
   "source": [
    "# Removing few columns due to multicollinearity\n",
    "#movies.drop(columns=['cast_total_facebook_likes','num_critic_for_reviews'], axis=1,inplace=True)"
   ]
  },
  {
   "cell_type": "markdown",
   "metadata": {
    "id": "FdO9hFLatVUh"
   },
   "source": [
    "# Categorizing IMDB_score(our target variable)"
   ]
  },
  {
   "cell_type": "code",
   "execution_count": 20,
   "metadata": {
    "id": "MwiGT5uEtjPw"
   },
   "outputs": [],
   "source": [
    "# Categorising the target variable \n",
    "bins = [ 1, 4, 7, 10]\n",
    "labels = ['Flop Movie', 'Average Movie', 'Hit Movie']\n",
    "movies['movie_performance'] = pd.cut(movies['imdb_score'], bins=bins, labels=labels)"
   ]
  },
  {
   "cell_type": "code",
   "execution_count": 21,
   "metadata": {
    "id": "eTJWsNf80dvt"
   },
   "outputs": [],
   "source": [
    "# Removing the column \"imdb_score\" since we have \"movie_performance\"\n",
    "movies.drop(columns=['imdb_score'],inplace=True)"
   ]
  },
  {
   "cell_type": "markdown",
   "metadata": {
    "id": "E3i2AsUm1dU6"
   },
   "source": [
    "# Model Building"
   ]
  },
  {
   "cell_type": "code",
   "execution_count": 22,
   "metadata": {
    "id": "dKHs7wqRyGda"
   },
   "outputs": [],
   "source": [
    "datasetR = movies.copy() #lets keep our original dataset for reference. Here datasetR is for Regression model\n",
    "datasetC = movies.copy() #Here datasetC is for classification model"
   ]
  },
  {
   "cell_type": "code",
   "execution_count": 23,
   "metadata": {
    "colab": {
     "base_uri": "https://localhost:8080/"
    },
    "id": "LAWQetRX1gtd",
    "outputId": "24b44720-dd8c-4dfb-a975-722070a2f848"
   },
   "outputs": [
    {
     "data": {
      "text/plain": [
       "(5044, 26)"
      ]
     },
     "execution_count": 23,
     "metadata": {},
     "output_type": "execute_result"
    }
   ],
   "source": [
    "datasetC.shape"
   ]
  },
  {
   "cell_type": "code",
   "execution_count": 24,
   "metadata": {
    "colab": {
     "base_uri": "https://localhost:8080/"
    },
    "id": "k7k1CFAJ1nbW",
    "outputId": "d5c5757c-9d86-4526-a66d-bf104eac99ac"
   },
   "outputs": [
    {
     "data": {
      "text/plain": [
       "0           Hit Movie\n",
       "1           Hit Movie\n",
       "2       Average Movie\n",
       "3           Hit Movie\n",
       "4           Hit Movie\n",
       "            ...      \n",
       "5039        Hit Movie\n",
       "5040    Average Movie\n",
       "5041    Average Movie\n",
       "5042    Average Movie\n",
       "5043    Average Movie\n",
       "Name: movie_performance, Length: 5044, dtype: category\n",
       "Categories (3, object): ['Flop Movie' < 'Average Movie' < 'Hit Movie']"
      ]
     },
     "execution_count": 24,
     "metadata": {},
     "output_type": "execute_result"
    }
   ],
   "source": [
    "#Dependent/Target Variable\n",
    "y = datasetC.pop('movie_performance')\n",
    "\n",
    "#Independent Variables\n",
    "X = datasetC\n",
    "\n",
    "y\n"
   ]
  },
  {
   "cell_type": "markdown",
   "metadata": {
    "id": "mGjMI-YF7uOH"
   },
   "source": [
    "#  Train Test Split"
   ]
  },
  {
   "cell_type": "code",
   "execution_count": 25,
   "metadata": {
    "colab": {
     "base_uri": "https://localhost:8080/"
    },
    "id": "UN85ISit3wOE",
    "outputId": "fa65d2a3-f436-4766-eb79-cbfa0d7df1f4"
   },
   "outputs": [
    {
     "name": "stdout",
     "output_type": "stream",
     "text": [
      "(4035, 25)\n",
      "(4035,)\n"
     ]
    }
   ],
   "source": [
    "#Spliting the data into train and test\n",
    "from sklearn.model_selection import train_test_split\n",
    "X_train, X_test, y_train, y_test = train_test_split(X, y, train_size = 0.8, test_size = 0.2, random_state = 42)\n",
    "print(X_train.shape)\n",
    "print(y_train.shape)\n"
   ]
  },
  {
   "cell_type": "markdown",
   "metadata": {
    "id": "dSoROd4k9F-R"
   },
   "source": [
    "# Scaling"
   ]
  },
  {
   "cell_type": "code",
   "execution_count": 26,
   "metadata": {
    "id": "HwfAwFEA7ECU"
   },
   "outputs": [],
   "source": [
    "#Scaling the dependent variables\n",
    "from sklearn.preprocessing import MinMaxScaler\n",
    "scaler = MinMaxScaler()\n",
    "X_train = pd.DataFrame(scaler.fit_transform(X_train.values), columns=X_train.columns, index=X_train.index)\n",
    "X_test = pd.DataFrame(scaler.transform(X_test.values), columns = X_train.columns, index = X_test.index)"
   ]
  },
  {
   "cell_type": "code",
   "execution_count": 27,
   "metadata": {
    "colab": {
     "base_uri": "https://localhost:8080/",
     "height": 488
    },
    "id": "atfou5kjIiIw",
    "outputId": "4c246534-9e5b-4146-af10-8df73f60ca0b"
   },
   "outputs": [
    {
     "data": {
      "text/html": [
       "<div>\n",
       "<style scoped>\n",
       "    .dataframe tbody tr th:only-of-type {\n",
       "        vertical-align: middle;\n",
       "    }\n",
       "\n",
       "    .dataframe tbody tr th {\n",
       "        vertical-align: top;\n",
       "    }\n",
       "\n",
       "    .dataframe thead th {\n",
       "        text-align: right;\n",
       "    }\n",
       "</style>\n",
       "<table border=\"1\" class=\"dataframe\">\n",
       "  <thead>\n",
       "    <tr style=\"text-align: right;\">\n",
       "      <th></th>\n",
       "      <th>color</th>\n",
       "      <th>num_critic_for_reviews</th>\n",
       "      <th>duration</th>\n",
       "      <th>director_facebook_likes</th>\n",
       "      <th>actor_3_facebook_likes</th>\n",
       "      <th>actor_1_facebook_likes</th>\n",
       "      <th>gross</th>\n",
       "      <th>genres</th>\n",
       "      <th>num_voted_users</th>\n",
       "      <th>cast_total_facebook_likes</th>\n",
       "      <th>...</th>\n",
       "      <th>content_rating</th>\n",
       "      <th>budget</th>\n",
       "      <th>title_year</th>\n",
       "      <th>actor_2_facebook_likes</th>\n",
       "      <th>aspect_ratio</th>\n",
       "      <th>movie_facebook_likes</th>\n",
       "      <th>popularity</th>\n",
       "      <th>vote_count</th>\n",
       "      <th>budget_adj</th>\n",
       "      <th>revenue_adj</th>\n",
       "    </tr>\n",
       "  </thead>\n",
       "  <tbody>\n",
       "    <tr>\n",
       "      <th>463</th>\n",
       "      <td>1.0</td>\n",
       "      <td>0.399015</td>\n",
       "      <td>0.220238</td>\n",
       "      <td>0.005087</td>\n",
       "      <td>0.434783</td>\n",
       "      <td>0.069231</td>\n",
       "      <td>0.124684</td>\n",
       "      <td>0.093100</td>\n",
       "      <td>0.135468</td>\n",
       "      <td>0.147496</td>\n",
       "      <td>...</td>\n",
       "      <td>0.529412</td>\n",
       "      <td>0.019048</td>\n",
       "      <td>0.934066</td>\n",
       "      <td>0.109489</td>\n",
       "      <td>0.727273</td>\n",
       "      <td>0.101523</td>\n",
       "      <td>0.006121</td>\n",
       "      <td>0.000820</td>\n",
       "      <td>0.000000</td>\n",
       "      <td>0.000000</td>\n",
       "    </tr>\n",
       "    <tr>\n",
       "      <th>2372</th>\n",
       "      <td>1.0</td>\n",
       "      <td>0.378079</td>\n",
       "      <td>0.186508</td>\n",
       "      <td>0.001826</td>\n",
       "      <td>0.009522</td>\n",
       "      <td>0.003812</td>\n",
       "      <td>0.051417</td>\n",
       "      <td>0.981380</td>\n",
       "      <td>0.055643</td>\n",
       "      <td>0.008590</td>\n",
       "      <td>...</td>\n",
       "      <td>0.529412</td>\n",
       "      <td>0.004762</td>\n",
       "      <td>0.934066</td>\n",
       "      <td>0.006526</td>\n",
       "      <td>0.727273</td>\n",
       "      <td>0.000000</td>\n",
       "      <td>0.002329</td>\n",
       "      <td>0.000102</td>\n",
       "      <td>0.000000</td>\n",
       "      <td>0.000000</td>\n",
       "    </tr>\n",
       "    <tr>\n",
       "      <th>1270</th>\n",
       "      <td>1.0</td>\n",
       "      <td>0.259852</td>\n",
       "      <td>0.198413</td>\n",
       "      <td>0.002174</td>\n",
       "      <td>0.002522</td>\n",
       "      <td>0.001127</td>\n",
       "      <td>0.040754</td>\n",
       "      <td>0.698795</td>\n",
       "      <td>0.035119</td>\n",
       "      <td>0.002045</td>\n",
       "      <td>...</td>\n",
       "      <td>0.411765</td>\n",
       "      <td>0.009524</td>\n",
       "      <td>0.934066</td>\n",
       "      <td>0.000854</td>\n",
       "      <td>0.727273</td>\n",
       "      <td>0.000000</td>\n",
       "      <td>0.002041</td>\n",
       "      <td>0.000205</td>\n",
       "      <td>0.000000</td>\n",
       "      <td>0.000000</td>\n",
       "    </tr>\n",
       "    <tr>\n",
       "      <th>2146</th>\n",
       "      <td>1.0</td>\n",
       "      <td>0.135468</td>\n",
       "      <td>0.208333</td>\n",
       "      <td>0.002261</td>\n",
       "      <td>0.015087</td>\n",
       "      <td>0.057692</td>\n",
       "      <td>0.008982</td>\n",
       "      <td>0.926616</td>\n",
       "      <td>0.007146</td>\n",
       "      <td>0.054959</td>\n",
       "      <td>...</td>\n",
       "      <td>0.411765</td>\n",
       "      <td>0.005000</td>\n",
       "      <td>0.835165</td>\n",
       "      <td>0.007299</td>\n",
       "      <td>0.727273</td>\n",
       "      <td>0.001853</td>\n",
       "      <td>0.013369</td>\n",
       "      <td>0.001947</td>\n",
       "      <td>0.012124</td>\n",
       "      <td>0.000000</td>\n",
       "    </tr>\n",
       "    <tr>\n",
       "      <th>594</th>\n",
       "      <td>1.0</td>\n",
       "      <td>0.187192</td>\n",
       "      <td>0.265873</td>\n",
       "      <td>0.021217</td>\n",
       "      <td>0.022130</td>\n",
       "      <td>0.038462</td>\n",
       "      <td>0.132300</td>\n",
       "      <td>0.960570</td>\n",
       "      <td>0.123360</td>\n",
       "      <td>0.037726</td>\n",
       "      <td>...</td>\n",
       "      <td>0.529412</td>\n",
       "      <td>0.016190</td>\n",
       "      <td>0.824176</td>\n",
       "      <td>0.006088</td>\n",
       "      <td>0.454545</td>\n",
       "      <td>0.000000</td>\n",
       "      <td>0.001543</td>\n",
       "      <td>0.000410</td>\n",
       "      <td>0.000000</td>\n",
       "      <td>0.000000</td>\n",
       "    </tr>\n",
       "    <tr>\n",
       "      <th>...</th>\n",
       "      <td>...</td>\n",
       "      <td>...</td>\n",
       "      <td>...</td>\n",
       "      <td>...</td>\n",
       "      <td>...</td>\n",
       "      <td>...</td>\n",
       "      <td>...</td>\n",
       "      <td>...</td>\n",
       "      <td>...</td>\n",
       "      <td>...</td>\n",
       "      <td>...</td>\n",
       "      <td>...</td>\n",
       "      <td>...</td>\n",
       "      <td>...</td>\n",
       "      <td>...</td>\n",
       "      <td>...</td>\n",
       "      <td>...</td>\n",
       "      <td>...</td>\n",
       "      <td>...</td>\n",
       "      <td>...</td>\n",
       "      <td>...</td>\n",
       "    </tr>\n",
       "    <tr>\n",
       "      <th>4426</th>\n",
       "      <td>1.0</td>\n",
       "      <td>0.280788</td>\n",
       "      <td>0.170635</td>\n",
       "      <td>0.005826</td>\n",
       "      <td>0.021217</td>\n",
       "      <td>0.003600</td>\n",
       "      <td>0.063732</td>\n",
       "      <td>0.742607</td>\n",
       "      <td>0.013927</td>\n",
       "      <td>0.012077</td>\n",
       "      <td>...</td>\n",
       "      <td>0.529412</td>\n",
       "      <td>0.000357</td>\n",
       "      <td>0.890110</td>\n",
       "      <td>0.006825</td>\n",
       "      <td>0.454545</td>\n",
       "      <td>0.000000</td>\n",
       "      <td>0.039562</td>\n",
       "      <td>0.038844</td>\n",
       "      <td>0.103129</td>\n",
       "      <td>0.026774</td>\n",
       "    </tr>\n",
       "    <tr>\n",
       "      <th>466</th>\n",
       "      <td>1.0</td>\n",
       "      <td>0.055419</td>\n",
       "      <td>0.160714</td>\n",
       "      <td>0.001304</td>\n",
       "      <td>0.015913</td>\n",
       "      <td>0.050000</td>\n",
       "      <td>0.118925</td>\n",
       "      <td>0.339540</td>\n",
       "      <td>0.066916</td>\n",
       "      <td>0.049391</td>\n",
       "      <td>...</td>\n",
       "      <td>0.352941</td>\n",
       "      <td>0.019048</td>\n",
       "      <td>0.769231</td>\n",
       "      <td>0.007058</td>\n",
       "      <td>0.363636</td>\n",
       "      <td>0.000000</td>\n",
       "      <td>0.007852</td>\n",
       "      <td>0.000410</td>\n",
       "      <td>0.000000</td>\n",
       "      <td>0.000000</td>\n",
       "    </tr>\n",
       "    <tr>\n",
       "      <th>3092</th>\n",
       "      <td>1.0</td>\n",
       "      <td>0.062808</td>\n",
       "      <td>0.218254</td>\n",
       "      <td>0.018478</td>\n",
       "      <td>0.039174</td>\n",
       "      <td>0.050000</td>\n",
       "      <td>0.112162</td>\n",
       "      <td>0.213582</td>\n",
       "      <td>0.029009</td>\n",
       "      <td>0.090143</td>\n",
       "      <td>...</td>\n",
       "      <td>0.529412</td>\n",
       "      <td>0.002381</td>\n",
       "      <td>0.604396</td>\n",
       "      <td>0.080292</td>\n",
       "      <td>0.454545</td>\n",
       "      <td>0.000000</td>\n",
       "      <td>0.012544</td>\n",
       "      <td>0.000307</td>\n",
       "      <td>0.000000</td>\n",
       "      <td>0.000000</td>\n",
       "    </tr>\n",
       "    <tr>\n",
       "      <th>3772</th>\n",
       "      <td>1.0</td>\n",
       "      <td>0.238916</td>\n",
       "      <td>0.228175</td>\n",
       "      <td>0.000957</td>\n",
       "      <td>0.001391</td>\n",
       "      <td>0.000715</td>\n",
       "      <td>0.005194</td>\n",
       "      <td>0.840088</td>\n",
       "      <td>0.007401</td>\n",
       "      <td>0.001370</td>\n",
       "      <td>...</td>\n",
       "      <td>0.411765</td>\n",
       "      <td>0.000952</td>\n",
       "      <td>0.934066</td>\n",
       "      <td>0.000985</td>\n",
       "      <td>0.727273</td>\n",
       "      <td>0.000000</td>\n",
       "      <td>0.006361</td>\n",
       "      <td>0.000000</td>\n",
       "      <td>0.000000</td>\n",
       "      <td>0.000000</td>\n",
       "    </tr>\n",
       "    <tr>\n",
       "      <th>860</th>\n",
       "      <td>1.0</td>\n",
       "      <td>0.059113</td>\n",
       "      <td>0.192460</td>\n",
       "      <td>0.000000</td>\n",
       "      <td>0.035304</td>\n",
       "      <td>0.050000</td>\n",
       "      <td>0.076821</td>\n",
       "      <td>0.730559</td>\n",
       "      <td>0.047113</td>\n",
       "      <td>0.084286</td>\n",
       "      <td>...</td>\n",
       "      <td>0.411765</td>\n",
       "      <td>0.013095</td>\n",
       "      <td>0.725275</td>\n",
       "      <td>0.080292</td>\n",
       "      <td>0.454545</td>\n",
       "      <td>0.040609</td>\n",
       "      <td>0.017940</td>\n",
       "      <td>0.001640</td>\n",
       "      <td>0.000000</td>\n",
       "      <td>0.000000</td>\n",
       "    </tr>\n",
       "  </tbody>\n",
       "</table>\n",
       "<p>4035 rows × 25 columns</p>\n",
       "</div>"
      ],
      "text/plain": [
       "      color  num_critic_for_reviews  duration  director_facebook_likes  \\\n",
       "463     1.0                0.399015  0.220238                 0.005087   \n",
       "2372    1.0                0.378079  0.186508                 0.001826   \n",
       "1270    1.0                0.259852  0.198413                 0.002174   \n",
       "2146    1.0                0.135468  0.208333                 0.002261   \n",
       "594     1.0                0.187192  0.265873                 0.021217   \n",
       "...     ...                     ...       ...                      ...   \n",
       "4426    1.0                0.280788  0.170635                 0.005826   \n",
       "466     1.0                0.055419  0.160714                 0.001304   \n",
       "3092    1.0                0.062808  0.218254                 0.018478   \n",
       "3772    1.0                0.238916  0.228175                 0.000957   \n",
       "860     1.0                0.059113  0.192460                 0.000000   \n",
       "\n",
       "      actor_3_facebook_likes  actor_1_facebook_likes     gross    genres  \\\n",
       "463                 0.434783                0.069231  0.124684  0.093100   \n",
       "2372                0.009522                0.003812  0.051417  0.981380   \n",
       "1270                0.002522                0.001127  0.040754  0.698795   \n",
       "2146                0.015087                0.057692  0.008982  0.926616   \n",
       "594                 0.022130                0.038462  0.132300  0.960570   \n",
       "...                      ...                     ...       ...       ...   \n",
       "4426                0.021217                0.003600  0.063732  0.742607   \n",
       "466                 0.015913                0.050000  0.118925  0.339540   \n",
       "3092                0.039174                0.050000  0.112162  0.213582   \n",
       "3772                0.001391                0.000715  0.005194  0.840088   \n",
       "860                 0.035304                0.050000  0.076821  0.730559   \n",
       "\n",
       "      num_voted_users  cast_total_facebook_likes  ...  content_rating  \\\n",
       "463          0.135468                   0.147496  ...        0.529412   \n",
       "2372         0.055643                   0.008590  ...        0.529412   \n",
       "1270         0.035119                   0.002045  ...        0.411765   \n",
       "2146         0.007146                   0.054959  ...        0.411765   \n",
       "594          0.123360                   0.037726  ...        0.529412   \n",
       "...               ...                        ...  ...             ...   \n",
       "4426         0.013927                   0.012077  ...        0.529412   \n",
       "466          0.066916                   0.049391  ...        0.352941   \n",
       "3092         0.029009                   0.090143  ...        0.529412   \n",
       "3772         0.007401                   0.001370  ...        0.411765   \n",
       "860          0.047113                   0.084286  ...        0.411765   \n",
       "\n",
       "        budget  title_year  actor_2_facebook_likes  aspect_ratio  \\\n",
       "463   0.019048    0.934066                0.109489      0.727273   \n",
       "2372  0.004762    0.934066                0.006526      0.727273   \n",
       "1270  0.009524    0.934066                0.000854      0.727273   \n",
       "2146  0.005000    0.835165                0.007299      0.727273   \n",
       "594   0.016190    0.824176                0.006088      0.454545   \n",
       "...        ...         ...                     ...           ...   \n",
       "4426  0.000357    0.890110                0.006825      0.454545   \n",
       "466   0.019048    0.769231                0.007058      0.363636   \n",
       "3092  0.002381    0.604396                0.080292      0.454545   \n",
       "3772  0.000952    0.934066                0.000985      0.727273   \n",
       "860   0.013095    0.725275                0.080292      0.454545   \n",
       "\n",
       "      movie_facebook_likes  popularity  vote_count  budget_adj  revenue_adj  \n",
       "463               0.101523    0.006121    0.000820    0.000000     0.000000  \n",
       "2372              0.000000    0.002329    0.000102    0.000000     0.000000  \n",
       "1270              0.000000    0.002041    0.000205    0.000000     0.000000  \n",
       "2146              0.001853    0.013369    0.001947    0.012124     0.000000  \n",
       "594               0.000000    0.001543    0.000410    0.000000     0.000000  \n",
       "...                    ...         ...         ...         ...          ...  \n",
       "4426              0.000000    0.039562    0.038844    0.103129     0.026774  \n",
       "466               0.000000    0.007852    0.000410    0.000000     0.000000  \n",
       "3092              0.000000    0.012544    0.000307    0.000000     0.000000  \n",
       "3772              0.000000    0.006361    0.000000    0.000000     0.000000  \n",
       "860               0.040609    0.017940    0.001640    0.000000     0.000000  \n",
       "\n",
       "[4035 rows x 25 columns]"
      ]
     },
     "execution_count": 27,
     "metadata": {},
     "output_type": "execute_result"
    }
   ],
   "source": [
    "X_train"
   ]
  },
  {
   "cell_type": "markdown",
   "metadata": {
    "id": "dRVSjZOP9KH8"
   },
   "source": [
    "# Feature selection"
   ]
  },
  {
   "cell_type": "code",
   "execution_count": 28,
   "metadata": {
    "id": "7K8xJU629JKV"
   },
   "outputs": [],
   "source": [
    "#Performing Recursive Feauture Elimation with Cross Validation\n",
    "#Using Random forest for RFE-CV and logloss as scoring\n",
    "from sklearn.feature_selection import RFECV\n",
    "from sklearn.ensemble import RandomForestClassifier\n",
    "from sklearn.metrics import log_loss\n",
    "forest_model=RandomForestClassifier(random_state=0)\n",
    "rfecv=RFECV(estimator=forest_model, step=1,cv=5,scoring='neg_log_loss')\n",
    "rfecv=rfecv.fit(X_train,y_train)"
   ]
  },
  {
   "cell_type": "code",
   "execution_count": 29,
   "metadata": {
    "colab": {
     "base_uri": "https://localhost:8080/"
    },
    "id": "yO9HVP8nFb2N",
    "outputId": "68b4aa79-a851-414a-addb-e9f170877431"
   },
   "outputs": [
    {
     "name": "stdout",
     "output_type": "stream",
     "text": [
      "Optimal number of features : 14\n",
      "Best features : Index(['num_critic_for_reviews', 'duration', 'director_facebook_likes',\n",
      "       'actor_3_facebook_likes', 'gross', 'genres', 'num_voted_users',\n",
      "       'cast_total_facebook_likes', 'plot_keywords', 'num_user_for_reviews',\n",
      "       'budget', 'title_year', 'actor_2_facebook_likes',\n",
      "       'movie_facebook_likes'],\n",
      "      dtype='object')\n"
     ]
    }
   ],
   "source": [
    "#Optimal number of features\n",
    "# X_train = pd.DataFrame(X_train)\n",
    "# X_test = pd.DataFrame(X_test)\n",
    "print('Optimal number of features :', rfecv.n_features_)\n",
    "print('Best features :', X_train.columns[rfecv.support_])"
   ]
  },
  {
   "cell_type": "code",
   "execution_count": 30,
   "metadata": {
    "colab": {
     "base_uri": "https://localhost:8080/"
    },
    "id": "zNWsNLQmF0P9",
    "outputId": "b29db243-d31f-4265-a9c4-d9d9f006af33"
   },
   "outputs": [
    {
     "data": {
      "text/plain": [
       "[('color', False, 12),\n",
       " ('num_critic_for_reviews', True, 1),\n",
       " ('duration', True, 1),\n",
       " ('director_facebook_likes', True, 1),\n",
       " ('actor_3_facebook_likes', True, 1),\n",
       " ('actor_1_facebook_likes', False, 3),\n",
       " ('gross', True, 1),\n",
       " ('genres', True, 1),\n",
       " ('num_voted_users', True, 1),\n",
       " ('cast_total_facebook_likes', True, 1),\n",
       " ('facenumber_in_poster', False, 8),\n",
       " ('plot_keywords', True, 1),\n",
       " ('num_user_for_reviews', True, 1),\n",
       " ('language', False, 11),\n",
       " ('country', False, 10),\n",
       " ('content_rating', False, 5),\n",
       " ('budget', True, 1),\n",
       " ('title_year', True, 1),\n",
       " ('actor_2_facebook_likes', True, 1),\n",
       " ('aspect_ratio', False, 7),\n",
       " ('movie_facebook_likes', True, 1),\n",
       " ('popularity', False, 2),\n",
       " ('vote_count', False, 4),\n",
       " ('budget_adj', False, 6),\n",
       " ('revenue_adj', False, 9)]"
      ]
     },
     "execution_count": 30,
     "metadata": {},
     "output_type": "execute_result"
    }
   ],
   "source": [
    "list(zip(X_train.columns,rfecv.support_,rfecv.ranking_))"
   ]
  },
  {
   "cell_type": "code",
   "execution_count": 31,
   "metadata": {
    "id": "BZl061HqG__E"
   },
   "outputs": [],
   "source": [
    "col_rfecv = X_train.columns[rfecv.support_]"
   ]
  },
  {
   "cell_type": "code",
   "execution_count": 32,
   "metadata": {
    "id": "lrtkar5pWKJh"
   },
   "outputs": [],
   "source": [
    "#Creating an X_train and an X_test dataframe with rfecv variables\n",
    "X_train_rfecv = X_train[col_rfecv]\n",
    "X_test_rfecv =  X_test[col_rfecv]"
   ]
  },
  {
   "cell_type": "code",
   "execution_count": 33,
   "metadata": {
    "colab": {
     "base_uri": "https://localhost:8080/"
    },
    "id": "_n6vo9OwXlGt",
    "outputId": "c3eb5eb6-2523-4624-93e5-32049a573f48"
   },
   "outputs": [
    {
     "name": "stdout",
     "output_type": "stream",
     "text": [
      "['Average Movie' 'Average Movie' 'Average Movie' 'Average Movie'\n",
      " 'Average Movie' 'Hit Movie' 'Average Movie' 'Hit Movie' 'Average Movie'\n",
      " 'Hit Movie' 'Average Movie' 'Average Movie' 'Average Movie'\n",
      " 'Average Movie' 'Average Movie' 'Average Movie' 'Average Movie'\n",
      " 'Average Movie' 'Average Movie']\n",
      "Model accuracy score: 0.7899\n"
     ]
    }
   ],
   "source": [
    "from sklearn.ensemble import RandomForestClassifier\n",
    "from sklearn.metrics import mean_absolute_error\n",
    "\n",
    "forest_model = RandomForestClassifier(random_state = 0)\n",
    "forest_model.fit(X_train_rfecv, y_train)\n",
    "predicted_rating = forest_model.predict(X_test_rfecv)\n",
    "print(predicted_rating[1:20])\n",
    "\n",
    "# Check accuracy score \n",
    "\n",
    "from sklearn.metrics import accuracy_score\n",
    "\n",
    "print('Model accuracy score: {0:0.4f}'. format(accuracy_score(y_test, predicted_rating)))"
   ]
  },
  {
   "cell_type": "code",
   "execution_count": 34,
   "metadata": {
    "colab": {
     "base_uri": "https://localhost:8080/"
    },
    "id": "Di5ke6wbaqYy",
    "outputId": "b1693877-0860-4dbf-bec3-8597db982d5d"
   },
   "outputs": [
    {
     "name": "stdout",
     "output_type": "stream",
     "text": [
      "Misclassified samples: 212\n",
      "Accuracy: 0.79\n",
      "Precision: 0.86\n",
      "Recall: 0.53\n",
      "F1 score: 0.55\n"
     ]
    }
   ],
   "source": [
    "from sklearn import metrics\n",
    "count_misclassified = (y_test != predicted_rating).sum()\n",
    "print('Misclassified samples: {}'.format(count_misclassified))\n",
    "accuracy = metrics.accuracy_score(y_test, predicted_rating)\n",
    "print('Accuracy: {:.2f}'.format(accuracy))\n",
    "precision = metrics.precision_score(y_test, predicted_rating, average= 'macro')\n",
    "print('Precision: {:.2f}'.format(precision))\n",
    "recall = metrics.recall_score(y_test, predicted_rating, average= 'macro')\n",
    "print('Recall: {:.2f}'.format(recall))\n",
    "f1_score = metrics.f1_score(y_test, predicted_rating, average = 'macro')\n",
    "print('F1 score: {:.2f}'.format(f1_score))"
   ]
  },
  {
   "cell_type": "code",
   "execution_count": 35,
   "metadata": {
    "colab": {
     "base_uri": "https://localhost:8080/"
    },
    "id": "7rk_mvEpPnRw",
    "outputId": "cc282a39-930e-4dd6-966d-525516474178"
   },
   "outputs": [
    {
     "name": "stdout",
     "output_type": "stream",
     "text": [
      "               precision    recall  f1-score   support\n",
      "\n",
      "Average Movie       0.79      0.92      0.85       642\n",
      "   Flop Movie       1.00      0.06      0.11        33\n",
      "    Hit Movie       0.79      0.62      0.70       334\n",
      "\n",
      "     accuracy                           0.79      1009\n",
      "    macro avg       0.86      0.53      0.55      1009\n",
      " weighted avg       0.80      0.79      0.77      1009\n",
      "\n"
     ]
    }
   ],
   "source": [
    "from sklearn.metrics import confusion_matrix, classification_report\n",
    "# View the classification report for test data and predictions\n",
    "print(classification_report(y_test, predicted_rating))"
   ]
  },
  {
   "cell_type": "code",
   "execution_count": 36,
   "metadata": {
    "id": "5nN9wHoyQDIv"
   },
   "outputs": [],
   "source": [
    "# param_grid = {\n",
    "#     'n_estimators': [200, 250, 300, 350],\n",
    "#     'max_features': ['sqrt', 'log2', None],\n",
    "#     'max_depth': [12, 15, 18],\n",
    "#     'max_leaf_nodes': [12, 15, 18],\n",
    "# }"
   ]
  },
  {
   "cell_type": "code",
   "execution_count": 44,
   "metadata": {},
   "outputs": [
    {
     "name": "stdout",
     "output_type": "stream",
     "text": [
      "['Average Movie' 'Average Movie' 'Hit Movie' 'Average Movie'\n",
      " 'Average Movie' 'Hit Movie' 'Average Movie' 'Hit Movie' 'Average Movie'\n",
      " 'Hit Movie' 'Average Movie' 'Average Movie' 'Average Movie'\n",
      " 'Average Movie' 'Average Movie' 'Average Movie' 'Average Movie'\n",
      " 'Average Movie' 'Average Movie']\n"
     ]
    }
   ],
   "source": [
    "from sklearn.ensemble import RandomForestClassifier\n",
    "from sklearn.metrics import mean_absolute_error\n",
    "\n",
    "forest_model = RandomForestClassifier(n_estimators = 150, max_depth=15,  criterion = 'entropy', random_state = 0)\n",
    "forest_model.fit(X_train_rfecv, y_train)\n",
    "improved_movie_prediction = forest_model.predict(X_test_rfecv)\n",
    "print(improved_movie_prediction[1:20])"
   ]
  },
  {
   "cell_type": "code",
   "execution_count": null,
   "metadata": {},
   "outputs": [],
   "source": [
    "import joblib\n",
    "joblib.dump(forest_model, 'rf_model.sav')"
   ]
  },
  {
   "cell_type": "code",
   "execution_count": 45,
   "metadata": {},
   "outputs": [
    {
     "name": "stdout",
     "output_type": "stream",
     "text": [
      "               precision    recall  f1-score   support\n",
      "\n",
      "Average Movie       0.79      0.94      0.86       642\n",
      "   Flop Movie       1.00      0.06      0.11        33\n",
      "    Hit Movie       0.84      0.63      0.72       334\n",
      "\n",
      "     accuracy                           0.81      1009\n",
      "    macro avg       0.88      0.54      0.56      1009\n",
      " weighted avg       0.82      0.81      0.79      1009\n",
      "\n"
     ]
    }
   ],
   "source": [
    "from sklearn.metrics import classification_report\n",
    "improved_report = classification_report(y_test,improved_movie_prediction)\n",
    "print(improved_report)"
   ]
  }
 ],
 "metadata": {
  "colab": {
   "provenance": []
  },
  "kernelspec": {
   "display_name": "Python 3 (ipykernel)",
   "language": "python",
   "name": "python3"
  },
  "language_info": {
   "codemirror_mode": {
    "name": "ipython",
    "version": 3
   },
   "file_extension": ".py",
   "mimetype": "text/x-python",
   "name": "python",
   "nbconvert_exporter": "python",
   "pygments_lexer": "ipython3",
   "version": "3.10.6"
  }
 },
 "nbformat": 4,
 "nbformat_minor": 1
}
