{
 "cells": [
  {
   "cell_type": "code",
   "execution_count": 1,
   "metadata": {
    "id": "4TG2VRbgq-Fk"
   },
   "outputs": [],
   "source": [
    "import pandas as pd\n",
    "import numpy as np"
   ]
  },
  {
   "cell_type": "code",
   "execution_count": 2,
   "metadata": {
    "colab": {
     "base_uri": "https://localhost:8080/",
     "height": 73
    },
    "id": "7QOcu8LzrA27",
    "outputId": "3a5b7980-6a2e-4c08-fb96-bb3178cca30b"
   },
   "outputs": [
    {
     "data": {
      "text/html": [
       "\n",
       "     <input type=\"file\" id=\"files-e309d07a-302f-4ace-b3eb-90017a2d44ca\" name=\"files[]\" multiple disabled\n",
       "        style=\"border:none\" />\n",
       "     <output id=\"result-e309d07a-302f-4ace-b3eb-90017a2d44ca\">\n",
       "      Upload widget is only available when the cell has been executed in the\n",
       "      current browser session. Please rerun this cell to enable.\n",
       "      </output>\n",
       "      <script>// Copyright 2017 Google LLC\n",
       "//\n",
       "// Licensed under the Apache License, Version 2.0 (the \"License\");\n",
       "// you may not use this file except in compliance with the License.\n",
       "// You may obtain a copy of the License at\n",
       "//\n",
       "//      http://www.apache.org/licenses/LICENSE-2.0\n",
       "//\n",
       "// Unless required by applicable law or agreed to in writing, software\n",
       "// distributed under the License is distributed on an \"AS IS\" BASIS,\n",
       "// WITHOUT WARRANTIES OR CONDITIONS OF ANY KIND, either express or implied.\n",
       "// See the License for the specific language governing permissions and\n",
       "// limitations under the License.\n",
       "\n",
       "/**\n",
       " * @fileoverview Helpers for google.colab Python module.\n",
       " */\n",
       "(function(scope) {\n",
       "function span(text, styleAttributes = {}) {\n",
       "  const element = document.createElement('span');\n",
       "  element.textContent = text;\n",
       "  for (const key of Object.keys(styleAttributes)) {\n",
       "    element.style[key] = styleAttributes[key];\n",
       "  }\n",
       "  return element;\n",
       "}\n",
       "\n",
       "// Max number of bytes which will be uploaded at a time.\n",
       "const MAX_PAYLOAD_SIZE = 100 * 1024;\n",
       "\n",
       "function _uploadFiles(inputId, outputId) {\n",
       "  const steps = uploadFilesStep(inputId, outputId);\n",
       "  const outputElement = document.getElementById(outputId);\n",
       "  // Cache steps on the outputElement to make it available for the next call\n",
       "  // to uploadFilesContinue from Python.\n",
       "  outputElement.steps = steps;\n",
       "\n",
       "  return _uploadFilesContinue(outputId);\n",
       "}\n",
       "\n",
       "// This is roughly an async generator (not supported in the browser yet),\n",
       "// where there are multiple asynchronous steps and the Python side is going\n",
       "// to poll for completion of each step.\n",
       "// This uses a Promise to block the python side on completion of each step,\n",
       "// then passes the result of the previous step as the input to the next step.\n",
       "function _uploadFilesContinue(outputId) {\n",
       "  const outputElement = document.getElementById(outputId);\n",
       "  const steps = outputElement.steps;\n",
       "\n",
       "  const next = steps.next(outputElement.lastPromiseValue);\n",
       "  return Promise.resolve(next.value.promise).then((value) => {\n",
       "    // Cache the last promise value to make it available to the next\n",
       "    // step of the generator.\n",
       "    outputElement.lastPromiseValue = value;\n",
       "    return next.value.response;\n",
       "  });\n",
       "}\n",
       "\n",
       "/**\n",
       " * Generator function which is called between each async step of the upload\n",
       " * process.\n",
       " * @param {string} inputId Element ID of the input file picker element.\n",
       " * @param {string} outputId Element ID of the output display.\n",
       " * @return {!Iterable<!Object>} Iterable of next steps.\n",
       " */\n",
       "function* uploadFilesStep(inputId, outputId) {\n",
       "  const inputElement = document.getElementById(inputId);\n",
       "  inputElement.disabled = false;\n",
       "\n",
       "  const outputElement = document.getElementById(outputId);\n",
       "  outputElement.innerHTML = '';\n",
       "\n",
       "  const pickedPromise = new Promise((resolve) => {\n",
       "    inputElement.addEventListener('change', (e) => {\n",
       "      resolve(e.target.files);\n",
       "    });\n",
       "  });\n",
       "\n",
       "  const cancel = document.createElement('button');\n",
       "  inputElement.parentElement.appendChild(cancel);\n",
       "  cancel.textContent = 'Cancel upload';\n",
       "  const cancelPromise = new Promise((resolve) => {\n",
       "    cancel.onclick = () => {\n",
       "      resolve(null);\n",
       "    };\n",
       "  });\n",
       "\n",
       "  // Wait for the user to pick the files.\n",
       "  const files = yield {\n",
       "    promise: Promise.race([pickedPromise, cancelPromise]),\n",
       "    response: {\n",
       "      action: 'starting',\n",
       "    }\n",
       "  };\n",
       "\n",
       "  cancel.remove();\n",
       "\n",
       "  // Disable the input element since further picks are not allowed.\n",
       "  inputElement.disabled = true;\n",
       "\n",
       "  if (!files) {\n",
       "    return {\n",
       "      response: {\n",
       "        action: 'complete',\n",
       "      }\n",
       "    };\n",
       "  }\n",
       "\n",
       "  for (const file of files) {\n",
       "    const li = document.createElement('li');\n",
       "    li.append(span(file.name, {fontWeight: 'bold'}));\n",
       "    li.append(span(\n",
       "        `(${file.type || 'n/a'}) - ${file.size} bytes, ` +\n",
       "        `last modified: ${\n",
       "            file.lastModifiedDate ? file.lastModifiedDate.toLocaleDateString() :\n",
       "                                    'n/a'} - `));\n",
       "    const percent = span('0% done');\n",
       "    li.appendChild(percent);\n",
       "\n",
       "    outputElement.appendChild(li);\n",
       "\n",
       "    const fileDataPromise = new Promise((resolve) => {\n",
       "      const reader = new FileReader();\n",
       "      reader.onload = (e) => {\n",
       "        resolve(e.target.result);\n",
       "      };\n",
       "      reader.readAsArrayBuffer(file);\n",
       "    });\n",
       "    // Wait for the data to be ready.\n",
       "    let fileData = yield {\n",
       "      promise: fileDataPromise,\n",
       "      response: {\n",
       "        action: 'continue',\n",
       "      }\n",
       "    };\n",
       "\n",
       "    // Use a chunked sending to avoid message size limits. See b/62115660.\n",
       "    let position = 0;\n",
       "    do {\n",
       "      const length = Math.min(fileData.byteLength - position, MAX_PAYLOAD_SIZE);\n",
       "      const chunk = new Uint8Array(fileData, position, length);\n",
       "      position += length;\n",
       "\n",
       "      const base64 = btoa(String.fromCharCode.apply(null, chunk));\n",
       "      yield {\n",
       "        response: {\n",
       "          action: 'append',\n",
       "          file: file.name,\n",
       "          data: base64,\n",
       "        },\n",
       "      };\n",
       "\n",
       "      let percentDone = fileData.byteLength === 0 ?\n",
       "          100 :\n",
       "          Math.round((position / fileData.byteLength) * 100);\n",
       "      percent.textContent = `${percentDone}% done`;\n",
       "\n",
       "    } while (position < fileData.byteLength);\n",
       "  }\n",
       "\n",
       "  // All done.\n",
       "  yield {\n",
       "    response: {\n",
       "      action: 'complete',\n",
       "    }\n",
       "  };\n",
       "}\n",
       "\n",
       "scope.google = scope.google || {};\n",
       "scope.google.colab = scope.google.colab || {};\n",
       "scope.google.colab._files = {\n",
       "  _uploadFiles,\n",
       "  _uploadFilesContinue,\n",
       "};\n",
       "})(self);\n",
       "</script> "
      ],
      "text/plain": [
       "<IPython.core.display.HTML object>"
      ]
     },
     "metadata": {},
     "output_type": "display_data"
    },
    {
     "name": "stdout",
     "output_type": "stream",
     "text": [
      "Saving movie_metadata.csv to movie_metadata.csv\n"
     ]
    }
   ],
   "source": [
    "from google.colab import files\n",
    "uploaded = files.upload()"
   ]
  },
  {
   "cell_type": "code",
   "execution_count": 3,
   "metadata": {
    "id": "m67x3jhqq-Fq"
   },
   "outputs": [],
   "source": [
    "movies = pd.read_csv('movie_metadata.csv')"
   ]
  },
  {
   "cell_type": "code",
   "execution_count": 4,
   "metadata": {
    "colab": {
     "base_uri": "https://localhost:8080/"
    },
    "id": "FC9t44EMq-Fr",
    "outputId": "5ebcc9c0-8b33-4f82-b564-f519a44e5968"
   },
   "outputs": [
    {
     "data": {
      "text/plain": [
       "(5043, 28)"
      ]
     },
     "execution_count": 4,
     "metadata": {},
     "output_type": "execute_result"
    }
   ],
   "source": [
    "# Printing the first 5 entries in the dataset \n",
    "# to see how the dataset looks like\n",
    "movies.shape"
   ]
  },
  {
   "cell_type": "code",
   "execution_count": 5,
   "metadata": {
    "colab": {
     "base_uri": "https://localhost:8080/"
    },
    "id": "z0SrCQg6q-Ft",
    "outputId": "4c566eba-a69b-4566-9bd0-74f65765073e"
   },
   "outputs": [
    {
     "data": {
      "text/plain": [
       "((5043, 28),\n",
       " Index(['color', 'director_name', 'num_critic_for_reviews', 'duration',\n",
       "        'director_facebook_likes', 'actor_3_facebook_likes', 'actor_2_name',\n",
       "        'actor_1_facebook_likes', 'gross', 'genres', 'actor_1_name',\n",
       "        'movie_title', 'num_voted_users', 'cast_total_facebook_likes',\n",
       "        'actor_3_name', 'facenumber_in_poster', 'plot_keywords',\n",
       "        'movie_imdb_link', 'num_user_for_reviews', 'language', 'country',\n",
       "        'content_rating', 'budget', 'title_year', 'actor_2_facebook_likes',\n",
       "        'imdb_score', 'aspect_ratio', 'movie_facebook_likes'],\n",
       "       dtype='object'))"
      ]
     },
     "execution_count": 5,
     "metadata": {},
     "output_type": "execute_result"
    }
   ],
   "source": [
    "movies.shape, movies.columns"
   ]
  },
  {
   "cell_type": "markdown",
   "metadata": {
    "id": "xASL0kOuq-Fu"
   },
   "source": [
    "# Description of dataset features\n",
    "Color : Movie is black or coloured\n",
    "Director_name: Name of the movie director\n",
    "num_critic_for_reviews : No of critics for the movie\n",
    "duration: Movie duration in minutes\n",
    "director_facebook_likes: Number of likes for the Director on his Facebook Page\n",
    "actor_3_facebook_likes: No of likes for the actor 3 on his/her facebook Page\n",
    "actor2_name: name of the actor 2\n",
    "actor_1_facebook_likes: No of likes for the actor 1 on his/her facebook Page\n",
    "gross: Gross earnings of the movie in Dollars\n",
    "genres: Film categorization like ‘Animation’, ‘Comedy’, ‘Romance’, ‘Horror’, ‘Sci-Fi’, ‘Action’, ‘Family’\n",
    "actor_1_name: Name of the actor 1\n",
    "movie_title: Title of the movie\n",
    "num_voted_users: No of people who voted for the movie\n",
    "cast_total_facebook_likes: Total facebook like for the movie\n",
    "actor_3_name: Name of the actor 3\n",
    "facenumber_in_poster: No of actors who featured in the movie poster\n",
    "plot_keywords: Keywords describing the movie plots\n",
    "movie_imdb_link: Link of the movie link\n",
    "num_user_for_reviews: Number of users who gave a review\n",
    "language: Language of the movie\n",
    "country: Country where movie is produced\n",
    "content_rating: Content rating of the movie\n",
    "budget: Budget of the movie in Dollars\n",
    "title_year: The year in which the movie is released\n",
    "actor_2_facebook_likes: Facebook likes for the actor 2\n",
    "imdb_score: IMDB score of the movie\n",
    "aspect_ratio : Aspect ratio the movie was made in\n",
    "movie_facebook_likes: Total no of facebook likes for the movie"
   ]
  },
  {
   "cell_type": "markdown",
   "metadata": {
    "id": "8a3wHoV5q-Fy"
   },
   "source": [
    "# 1. Data cleaning "
   ]
  },
  {
   "cell_type": "code",
   "execution_count": 6,
   "metadata": {
    "colab": {
     "base_uri": "https://localhost:8080/"
    },
    "id": "Q8_9s_9_q-Fz",
    "outputId": "540cfa1d-a386-4463-9378-1b7d7f58e259"
   },
   "outputs": [
    {
     "data": {
      "text/plain": [
       "color                         19\n",
       "director_name                104\n",
       "num_critic_for_reviews        50\n",
       "duration                      15\n",
       "director_facebook_likes      104\n",
       "actor_3_facebook_likes        23\n",
       "actor_2_name                  13\n",
       "actor_1_facebook_likes         7\n",
       "gross                        884\n",
       "genres                         0\n",
       "actor_1_name                   7\n",
       "movie_title                    0\n",
       "num_voted_users                0\n",
       "cast_total_facebook_likes      0\n",
       "actor_3_name                  23\n",
       "facenumber_in_poster          13\n",
       "plot_keywords                153\n",
       "movie_imdb_link                0\n",
       "num_user_for_reviews          21\n",
       "language                      12\n",
       "country                        5\n",
       "content_rating               303\n",
       "budget                       492\n",
       "title_year                   108\n",
       "actor_2_facebook_likes        13\n",
       "imdb_score                     0\n",
       "aspect_ratio                 329\n",
       "movie_facebook_likes           0\n",
       "dtype: int64"
      ]
     },
     "execution_count": 6,
     "metadata": {},
     "output_type": "execute_result"
    }
   ],
   "source": [
    "#No of the missing values in the dataset\n",
    "movies.isna().sum()"
   ]
  },
  {
   "cell_type": "code",
   "execution_count": null,
   "metadata": {
    "id": "qVuphpRRq-F1"
   },
   "outputs": [],
   "source": []
  },
  {
   "cell_type": "code",
   "execution_count": 7,
   "metadata": {
    "id": "jO0qR2kNq-F1"
   },
   "outputs": [],
   "source": [
    "# Imputing the dataframe\n",
    "def replace_missing_values(data):\n",
    "    # Get the column names by data types\n",
    "    col_names = data.columns\n",
    "    col_types = data.dtypes\n",
    "\n",
    "    # Loop through each column and replace missing values\n",
    "    for i in range(len(col_names)):\n",
    "        col_name = col_names[i]\n",
    "        col_type = col_types[i]\n",
    "        \n",
    "        if col_type == 'object':\n",
    "            # For string columns, use bfill and ffill methods\n",
    "            data[col_name] = data[col_name].fillna(method='bfill').fillna(method='ffill')\n",
    "        else:\n",
    "            # For numerical columns, replace missing values with the mean of the column\n",
    "            data[col_name] = data[col_name].fillna(movies[col_name].mean())\n",
    "    "
   ]
  },
  {
   "cell_type": "code",
   "execution_count": 8,
   "metadata": {
    "id": "QlQriwcIq-F3"
   },
   "outputs": [],
   "source": [
    "# Imputing all the missing cells\n",
    "replace_missing_values(movies)"
   ]
  },
  {
   "cell_type": "code",
   "execution_count": 9,
   "metadata": {
    "colab": {
     "base_uri": "https://localhost:8080/"
    },
    "id": "Vom_yl_tq-F3",
    "outputId": "7c1d4c2e-3a1f-4925-d51b-8523dc3610bc"
   },
   "outputs": [
    {
     "data": {
      "text/plain": [
       "0"
      ]
     },
     "execution_count": 9,
     "metadata": {},
     "output_type": "execute_result"
    }
   ],
   "source": [
    "# Get the count of missing values per row\n",
    "missing_per_row = movies.isnull().sum(axis=1)\n",
    "\n",
    "# Get the total number of rows with missing values\n",
    "total_missing_rows = len(missing_per_row[missing_per_row > 0])\n",
    "\n",
    "total_missing_rows"
   ]
  },
  {
   "cell_type": "code",
   "execution_count": 10,
   "metadata": {
    "colab": {
     "base_uri": "https://localhost:8080/"
    },
    "id": "COkX4Lc6q-F4",
    "outputId": "5117af04-58a3-4ba2-9242-8c9c1d78b665"
   },
   "outputs": [
    {
     "data": {
      "text/plain": [
       "43"
      ]
     },
     "execution_count": 10,
     "metadata": {},
     "output_type": "execute_result"
    }
   ],
   "source": [
    "#Checking to see if there are duplicates\n",
    "movies.duplicated().sum()\n"
   ]
  },
  {
   "cell_type": "code",
   "execution_count": 11,
   "metadata": {
    "colab": {
     "base_uri": "https://localhost:8080/"
    },
    "id": "lja9aJ9aq-F5",
    "outputId": "8b7b5b3a-7846-44a9-9301-db0b75d30293"
   },
   "outputs": [
    {
     "data": {
      "text/plain": [
       "0"
      ]
     },
     "execution_count": 11,
     "metadata": {},
     "output_type": "execute_result"
    }
   ],
   "source": [
    "movies.drop_duplicates(inplace = True)\n",
    "\n",
    "movies.duplicated().sum()"
   ]
  },
  {
   "cell_type": "code",
   "execution_count": 12,
   "metadata": {
    "colab": {
     "base_uri": "https://localhost:8080/"
    },
    "id": "gk_eVlkLq-F5",
    "outputId": "a3387759-0b44-4558-d2d0-df3cac2d55ae"
   },
   "outputs": [
    {
     "data": {
      "text/plain": [
       "(5000, 28)"
      ]
     },
     "execution_count": 12,
     "metadata": {},
     "output_type": "execute_result"
    }
   ],
   "source": [
    "movies.shape"
   ]
  },
  {
   "cell_type": "markdown",
   "metadata": {
    "id": "iNLM32bzq-F6"
   },
   "source": [
    "# 2. Feauture engineering"
   ]
  },
  {
   "cell_type": "code",
   "execution_count": 13,
   "metadata": {
    "colab": {
     "base_uri": "https://localhost:8080/",
     "height": 256
    },
    "id": "AD8QXq0sq-F6",
    "outputId": "9f276c3b-0016-4a07-89d0-412870918e06"
   },
   "outputs": [
    {
     "data": {
      "text/html": [
       "\n",
       "  <div id=\"df-dd5f5598-ac7d-4f59-ab47-7404714f9cb5\">\n",
       "    <div class=\"colab-df-container\">\n",
       "      <div>\n",
       "<style scoped>\n",
       "    .dataframe tbody tr th:only-of-type {\n",
       "        vertical-align: middle;\n",
       "    }\n",
       "\n",
       "    .dataframe tbody tr th {\n",
       "        vertical-align: top;\n",
       "    }\n",
       "\n",
       "    .dataframe thead th {\n",
       "        text-align: right;\n",
       "    }\n",
       "</style>\n",
       "<table border=\"1\" class=\"dataframe\">\n",
       "  <thead>\n",
       "    <tr style=\"text-align: right;\">\n",
       "      <th></th>\n",
       "      <th>color</th>\n",
       "      <th>director_name</th>\n",
       "      <th>actor_2_name</th>\n",
       "      <th>genres</th>\n",
       "      <th>actor_1_name</th>\n",
       "      <th>movie_title</th>\n",
       "      <th>actor_3_name</th>\n",
       "      <th>plot_keywords</th>\n",
       "      <th>movie_imdb_link</th>\n",
       "      <th>language</th>\n",
       "      <th>country</th>\n",
       "      <th>content_rating</th>\n",
       "    </tr>\n",
       "  </thead>\n",
       "  <tbody>\n",
       "    <tr>\n",
       "      <th>count</th>\n",
       "      <td>5000</td>\n",
       "      <td>5000</td>\n",
       "      <td>5000</td>\n",
       "      <td>5000</td>\n",
       "      <td>5000</td>\n",
       "      <td>5000</td>\n",
       "      <td>5000</td>\n",
       "      <td>5000</td>\n",
       "      <td>5000</td>\n",
       "      <td>5000</td>\n",
       "      <td>5000</td>\n",
       "      <td>5000</td>\n",
       "    </tr>\n",
       "    <tr>\n",
       "      <th>unique</th>\n",
       "      <td>2</td>\n",
       "      <td>2398</td>\n",
       "      <td>3032</td>\n",
       "      <td>914</td>\n",
       "      <td>2097</td>\n",
       "      <td>4917</td>\n",
       "      <td>3521</td>\n",
       "      <td>4760</td>\n",
       "      <td>4919</td>\n",
       "      <td>47</td>\n",
       "      <td>65</td>\n",
       "      <td>18</td>\n",
       "    </tr>\n",
       "    <tr>\n",
       "      <th>top</th>\n",
       "      <td>Color</td>\n",
       "      <td>Steven Spielberg</td>\n",
       "      <td>Morgan Freeman</td>\n",
       "      <td>Drama</td>\n",
       "      <td>Robert De Niro</td>\n",
       "      <td>King Kong</td>\n",
       "      <td>Ben Mendelsohn</td>\n",
       "      <td>class|gardening|race|school|shoe</td>\n",
       "      <td>http://www.imdb.com/title/tt0360717/?ref_=fn_t...</td>\n",
       "      <td>English</td>\n",
       "      <td>USA</td>\n",
       "      <td>R</td>\n",
       "    </tr>\n",
       "    <tr>\n",
       "      <th>freq</th>\n",
       "      <td>4791</td>\n",
       "      <td>27</td>\n",
       "      <td>20</td>\n",
       "      <td>235</td>\n",
       "      <td>49</td>\n",
       "      <td>3</td>\n",
       "      <td>8</td>\n",
       "      <td>4</td>\n",
       "      <td>3</td>\n",
       "      <td>4673</td>\n",
       "      <td>3777</td>\n",
       "      <td>2243</td>\n",
       "    </tr>\n",
       "  </tbody>\n",
       "</table>\n",
       "</div>\n",
       "      <button class=\"colab-df-convert\" onclick=\"convertToInteractive('df-dd5f5598-ac7d-4f59-ab47-7404714f9cb5')\"\n",
       "              title=\"Convert this dataframe to an interactive table.\"\n",
       "              style=\"display:none;\">\n",
       "        \n",
       "  <svg xmlns=\"http://www.w3.org/2000/svg\" height=\"24px\"viewBox=\"0 0 24 24\"\n",
       "       width=\"24px\">\n",
       "    <path d=\"M0 0h24v24H0V0z\" fill=\"none\"/>\n",
       "    <path d=\"M18.56 5.44l.94 2.06.94-2.06 2.06-.94-2.06-.94-.94-2.06-.94 2.06-2.06.94zm-11 1L8.5 8.5l.94-2.06 2.06-.94-2.06-.94L8.5 2.5l-.94 2.06-2.06.94zm10 10l.94 2.06.94-2.06 2.06-.94-2.06-.94-.94-2.06-.94 2.06-2.06.94z\"/><path d=\"M17.41 7.96l-1.37-1.37c-.4-.4-.92-.59-1.43-.59-.52 0-1.04.2-1.43.59L10.3 9.45l-7.72 7.72c-.78.78-.78 2.05 0 2.83L4 21.41c.39.39.9.59 1.41.59.51 0 1.02-.2 1.41-.59l7.78-7.78 2.81-2.81c.8-.78.8-2.07 0-2.86zM5.41 20L4 18.59l7.72-7.72 1.47 1.35L5.41 20z\"/>\n",
       "  </svg>\n",
       "      </button>\n",
       "      \n",
       "  <style>\n",
       "    .colab-df-container {\n",
       "      display:flex;\n",
       "      flex-wrap:wrap;\n",
       "      gap: 12px;\n",
       "    }\n",
       "\n",
       "    .colab-df-convert {\n",
       "      background-color: #E8F0FE;\n",
       "      border: none;\n",
       "      border-radius: 50%;\n",
       "      cursor: pointer;\n",
       "      display: none;\n",
       "      fill: #1967D2;\n",
       "      height: 32px;\n",
       "      padding: 0 0 0 0;\n",
       "      width: 32px;\n",
       "    }\n",
       "\n",
       "    .colab-df-convert:hover {\n",
       "      background-color: #E2EBFA;\n",
       "      box-shadow: 0px 1px 2px rgba(60, 64, 67, 0.3), 0px 1px 3px 1px rgba(60, 64, 67, 0.15);\n",
       "      fill: #174EA6;\n",
       "    }\n",
       "\n",
       "    [theme=dark] .colab-df-convert {\n",
       "      background-color: #3B4455;\n",
       "      fill: #D2E3FC;\n",
       "    }\n",
       "\n",
       "    [theme=dark] .colab-df-convert:hover {\n",
       "      background-color: #434B5C;\n",
       "      box-shadow: 0px 1px 3px 1px rgba(0, 0, 0, 0.15);\n",
       "      filter: drop-shadow(0px 1px 2px rgba(0, 0, 0, 0.3));\n",
       "      fill: #FFFFFF;\n",
       "    }\n",
       "  </style>\n",
       "\n",
       "      <script>\n",
       "        const buttonEl =\n",
       "          document.querySelector('#df-dd5f5598-ac7d-4f59-ab47-7404714f9cb5 button.colab-df-convert');\n",
       "        buttonEl.style.display =\n",
       "          google.colab.kernel.accessAllowed ? 'block' : 'none';\n",
       "\n",
       "        async function convertToInteractive(key) {\n",
       "          const element = document.querySelector('#df-dd5f5598-ac7d-4f59-ab47-7404714f9cb5');\n",
       "          const dataTable =\n",
       "            await google.colab.kernel.invokeFunction('convertToInteractive',\n",
       "                                                     [key], {});\n",
       "          if (!dataTable) return;\n",
       "\n",
       "          const docLinkHtml = 'Like what you see? Visit the ' +\n",
       "            '<a target=\"_blank\" href=https://colab.research.google.com/notebooks/data_table.ipynb>data table notebook</a>'\n",
       "            + ' to learn more about interactive tables.';\n",
       "          element.innerHTML = '';\n",
       "          dataTable['output_type'] = 'display_data';\n",
       "          await google.colab.output.renderOutput(dataTable, element);\n",
       "          const docLink = document.createElement('div');\n",
       "          docLink.innerHTML = docLinkHtml;\n",
       "          element.appendChild(docLink);\n",
       "        }\n",
       "      </script>\n",
       "    </div>\n",
       "  </div>\n",
       "  "
      ],
      "text/plain": [
       "        color     director_name    actor_2_name genres    actor_1_name  \\\n",
       "count    5000              5000            5000   5000            5000   \n",
       "unique      2              2398            3032    914            2097   \n",
       "top     Color  Steven Spielberg  Morgan Freeman  Drama  Robert De Niro   \n",
       "freq     4791                27              20    235              49   \n",
       "\n",
       "       movie_title    actor_3_name                     plot_keywords  \\\n",
       "count         5000            5000                              5000   \n",
       "unique        4917            3521                              4760   \n",
       "top     King Kong   Ben Mendelsohn  class|gardening|race|school|shoe   \n",
       "freq             3               8                                 4   \n",
       "\n",
       "                                          movie_imdb_link language country  \\\n",
       "count                                                5000     5000    5000   \n",
       "unique                                               4919       47      65   \n",
       "top     http://www.imdb.com/title/tt0360717/?ref_=fn_t...  English     USA   \n",
       "freq                                                    3     4673    3777   \n",
       "\n",
       "       content_rating  \n",
       "count            5000  \n",
       "unique             18  \n",
       "top                 R  \n",
       "freq             2243  "
      ]
     },
     "execution_count": 13,
     "metadata": {},
     "output_type": "execute_result"
    }
   ],
   "source": [
    "#Describing the categorical data\n",
    "movies.describe(include='object')"
   ]
  },
  {
   "cell_type": "code",
   "execution_count": 14,
   "metadata": {
    "id": "vZt8Ev2Gq-F6"
   },
   "outputs": [],
   "source": [
    "# Droping'movie_title','movie_imdb_link' columns. \n",
    "#  This is becuase thery are almost unique, so don't contribute match to outr target variable\n",
    "movies.drop(columns=['movie_title','movie_imdb_link'],axis=1, inplace=True)"
   ]
  },
  {
   "cell_type": "code",
   "execution_count": 15,
   "metadata": {
    "id": "ybRB9cVdq-F7"
   },
   "outputs": [],
   "source": [
    "#Label encoding the categorical columns\n",
    "from sklearn.preprocessing import LabelEncoder\n",
    "feature_encoding = LabelEncoder()\n",
    "categorical_features=['color', 'director_name', 'actor_2_name',\n",
    "        'genres', 'actor_1_name',\n",
    "        'actor_3_name',\n",
    "        'plot_keywords',\n",
    "        'language', 'country', 'content_rating',\n",
    "       'title_year', 'aspect_ratio']\n",
    "movies[categorical_features]=movies[categorical_features].apply(lambda x:feature_encoding.fit_transform(x))"
   ]
  },
  {
   "cell_type": "code",
   "execution_count": 16,
   "metadata": {
    "colab": {
     "base_uri": "https://localhost:8080/",
     "height": 300
    },
    "id": "-l-yoQsQq-F7",
    "outputId": "c8b1a7ef-5c7c-4e54-889e-1b3f5c39befb"
   },
   "outputs": [
    {
     "data": {
      "text/html": [
       "\n",
       "  <div id=\"df-8dceea81-25c7-4814-ab4b-9590ad89f8c4\">\n",
       "    <div class=\"colab-df-container\">\n",
       "      <div>\n",
       "<style scoped>\n",
       "    .dataframe tbody tr th:only-of-type {\n",
       "        vertical-align: middle;\n",
       "    }\n",
       "\n",
       "    .dataframe tbody tr th {\n",
       "        vertical-align: top;\n",
       "    }\n",
       "\n",
       "    .dataframe thead th {\n",
       "        text-align: right;\n",
       "    }\n",
       "</style>\n",
       "<table border=\"1\" class=\"dataframe\">\n",
       "  <thead>\n",
       "    <tr style=\"text-align: right;\">\n",
       "      <th></th>\n",
       "      <th>color</th>\n",
       "      <th>director_name</th>\n",
       "      <th>num_critic_for_reviews</th>\n",
       "      <th>duration</th>\n",
       "      <th>director_facebook_likes</th>\n",
       "      <th>actor_3_facebook_likes</th>\n",
       "      <th>actor_2_name</th>\n",
       "      <th>actor_1_facebook_likes</th>\n",
       "      <th>gross</th>\n",
       "      <th>genres</th>\n",
       "      <th>...</th>\n",
       "      <th>num_user_for_reviews</th>\n",
       "      <th>language</th>\n",
       "      <th>country</th>\n",
       "      <th>content_rating</th>\n",
       "      <th>budget</th>\n",
       "      <th>title_year</th>\n",
       "      <th>actor_2_facebook_likes</th>\n",
       "      <th>imdb_score</th>\n",
       "      <th>aspect_ratio</th>\n",
       "      <th>movie_facebook_likes</th>\n",
       "    </tr>\n",
       "  </thead>\n",
       "  <tbody>\n",
       "    <tr>\n",
       "      <th>0</th>\n",
       "      <td>1</td>\n",
       "      <td>922</td>\n",
       "      <td>723.000000</td>\n",
       "      <td>178.000000</td>\n",
       "      <td>0.0</td>\n",
       "      <td>855.000000</td>\n",
       "      <td>1405</td>\n",
       "      <td>1000.0</td>\n",
       "      <td>7.605058e+08</td>\n",
       "      <td>106</td>\n",
       "      <td>...</td>\n",
       "      <td>3054.000000</td>\n",
       "      <td>11</td>\n",
       "      <td>62</td>\n",
       "      <td>7</td>\n",
       "      <td>2.370000e+08</td>\n",
       "      <td>84</td>\n",
       "      <td>936.0</td>\n",
       "      <td>7.9</td>\n",
       "      <td>9</td>\n",
       "      <td>33000</td>\n",
       "    </tr>\n",
       "    <tr>\n",
       "      <th>1</th>\n",
       "      <td>1</td>\n",
       "      <td>794</td>\n",
       "      <td>302.000000</td>\n",
       "      <td>169.000000</td>\n",
       "      <td>563.0</td>\n",
       "      <td>1000.000000</td>\n",
       "      <td>2216</td>\n",
       "      <td>40000.0</td>\n",
       "      <td>3.094042e+08</td>\n",
       "      <td>100</td>\n",
       "      <td>...</td>\n",
       "      <td>1238.000000</td>\n",
       "      <td>11</td>\n",
       "      <td>62</td>\n",
       "      <td>7</td>\n",
       "      <td>3.000000e+08</td>\n",
       "      <td>82</td>\n",
       "      <td>5000.0</td>\n",
       "      <td>7.1</td>\n",
       "      <td>16</td>\n",
       "      <td>0</td>\n",
       "    </tr>\n",
       "    <tr>\n",
       "      <th>2</th>\n",
       "      <td>1</td>\n",
       "      <td>2021</td>\n",
       "      <td>602.000000</td>\n",
       "      <td>148.000000</td>\n",
       "      <td>0.0</td>\n",
       "      <td>161.000000</td>\n",
       "      <td>2487</td>\n",
       "      <td>11000.0</td>\n",
       "      <td>2.000742e+08</td>\n",
       "      <td>127</td>\n",
       "      <td>...</td>\n",
       "      <td>994.000000</td>\n",
       "      <td>11</td>\n",
       "      <td>61</td>\n",
       "      <td>7</td>\n",
       "      <td>2.450000e+08</td>\n",
       "      <td>90</td>\n",
       "      <td>393.0</td>\n",
       "      <td>6.8</td>\n",
       "      <td>16</td>\n",
       "      <td>85000</td>\n",
       "    </tr>\n",
       "    <tr>\n",
       "      <th>3</th>\n",
       "      <td>1</td>\n",
       "      <td>373</td>\n",
       "      <td>813.000000</td>\n",
       "      <td>164.000000</td>\n",
       "      <td>22000.0</td>\n",
       "      <td>23000.000000</td>\n",
       "      <td>532</td>\n",
       "      <td>27000.0</td>\n",
       "      <td>4.481306e+08</td>\n",
       "      <td>287</td>\n",
       "      <td>...</td>\n",
       "      <td>2701.000000</td>\n",
       "      <td>11</td>\n",
       "      <td>62</td>\n",
       "      <td>7</td>\n",
       "      <td>2.500000e+08</td>\n",
       "      <td>87</td>\n",
       "      <td>23000.0</td>\n",
       "      <td>8.5</td>\n",
       "      <td>16</td>\n",
       "      <td>164000</td>\n",
       "    </tr>\n",
       "    <tr>\n",
       "      <th>4</th>\n",
       "      <td>1</td>\n",
       "      <td>600</td>\n",
       "      <td>140.194272</td>\n",
       "      <td>107.201074</td>\n",
       "      <td>131.0</td>\n",
       "      <td>645.009761</td>\n",
       "      <td>2431</td>\n",
       "      <td>131.0</td>\n",
       "      <td>4.846841e+07</td>\n",
       "      <td>753</td>\n",
       "      <td>...</td>\n",
       "      <td>272.770808</td>\n",
       "      <td>11</td>\n",
       "      <td>62</td>\n",
       "      <td>7</td>\n",
       "      <td>3.975262e+07</td>\n",
       "      <td>77</td>\n",
       "      <td>12.0</td>\n",
       "      <td>7.1</td>\n",
       "      <td>14</td>\n",
       "      <td>0</td>\n",
       "    </tr>\n",
       "  </tbody>\n",
       "</table>\n",
       "<p>5 rows × 26 columns</p>\n",
       "</div>\n",
       "      <button class=\"colab-df-convert\" onclick=\"convertToInteractive('df-8dceea81-25c7-4814-ab4b-9590ad89f8c4')\"\n",
       "              title=\"Convert this dataframe to an interactive table.\"\n",
       "              style=\"display:none;\">\n",
       "        \n",
       "  <svg xmlns=\"http://www.w3.org/2000/svg\" height=\"24px\"viewBox=\"0 0 24 24\"\n",
       "       width=\"24px\">\n",
       "    <path d=\"M0 0h24v24H0V0z\" fill=\"none\"/>\n",
       "    <path d=\"M18.56 5.44l.94 2.06.94-2.06 2.06-.94-2.06-.94-.94-2.06-.94 2.06-2.06.94zm-11 1L8.5 8.5l.94-2.06 2.06-.94-2.06-.94L8.5 2.5l-.94 2.06-2.06.94zm10 10l.94 2.06.94-2.06 2.06-.94-2.06-.94-.94-2.06-.94 2.06-2.06.94z\"/><path d=\"M17.41 7.96l-1.37-1.37c-.4-.4-.92-.59-1.43-.59-.52 0-1.04.2-1.43.59L10.3 9.45l-7.72 7.72c-.78.78-.78 2.05 0 2.83L4 21.41c.39.39.9.59 1.41.59.51 0 1.02-.2 1.41-.59l7.78-7.78 2.81-2.81c.8-.78.8-2.07 0-2.86zM5.41 20L4 18.59l7.72-7.72 1.47 1.35L5.41 20z\"/>\n",
       "  </svg>\n",
       "      </button>\n",
       "      \n",
       "  <style>\n",
       "    .colab-df-container {\n",
       "      display:flex;\n",
       "      flex-wrap:wrap;\n",
       "      gap: 12px;\n",
       "    }\n",
       "\n",
       "    .colab-df-convert {\n",
       "      background-color: #E8F0FE;\n",
       "      border: none;\n",
       "      border-radius: 50%;\n",
       "      cursor: pointer;\n",
       "      display: none;\n",
       "      fill: #1967D2;\n",
       "      height: 32px;\n",
       "      padding: 0 0 0 0;\n",
       "      width: 32px;\n",
       "    }\n",
       "\n",
       "    .colab-df-convert:hover {\n",
       "      background-color: #E2EBFA;\n",
       "      box-shadow: 0px 1px 2px rgba(60, 64, 67, 0.3), 0px 1px 3px 1px rgba(60, 64, 67, 0.15);\n",
       "      fill: #174EA6;\n",
       "    }\n",
       "\n",
       "    [theme=dark] .colab-df-convert {\n",
       "      background-color: #3B4455;\n",
       "      fill: #D2E3FC;\n",
       "    }\n",
       "\n",
       "    [theme=dark] .colab-df-convert:hover {\n",
       "      background-color: #434B5C;\n",
       "      box-shadow: 0px 1px 3px 1px rgba(0, 0, 0, 0.15);\n",
       "      filter: drop-shadow(0px 1px 2px rgba(0, 0, 0, 0.3));\n",
       "      fill: #FFFFFF;\n",
       "    }\n",
       "  </style>\n",
       "\n",
       "      <script>\n",
       "        const buttonEl =\n",
       "          document.querySelector('#df-8dceea81-25c7-4814-ab4b-9590ad89f8c4 button.colab-df-convert');\n",
       "        buttonEl.style.display =\n",
       "          google.colab.kernel.accessAllowed ? 'block' : 'none';\n",
       "\n",
       "        async function convertToInteractive(key) {\n",
       "          const element = document.querySelector('#df-8dceea81-25c7-4814-ab4b-9590ad89f8c4');\n",
       "          const dataTable =\n",
       "            await google.colab.kernel.invokeFunction('convertToInteractive',\n",
       "                                                     [key], {});\n",
       "          if (!dataTable) return;\n",
       "\n",
       "          const docLinkHtml = 'Like what you see? Visit the ' +\n",
       "            '<a target=\"_blank\" href=https://colab.research.google.com/notebooks/data_table.ipynb>data table notebook</a>'\n",
       "            + ' to learn more about interactive tables.';\n",
       "          element.innerHTML = '';\n",
       "          dataTable['output_type'] = 'display_data';\n",
       "          await google.colab.output.renderOutput(dataTable, element);\n",
       "          const docLink = document.createElement('div');\n",
       "          docLink.innerHTML = docLinkHtml;\n",
       "          element.appendChild(docLink);\n",
       "        }\n",
       "      </script>\n",
       "    </div>\n",
       "  </div>\n",
       "  "
      ],
      "text/plain": [
       "   color  director_name  num_critic_for_reviews    duration  \\\n",
       "0      1            922              723.000000  178.000000   \n",
       "1      1            794              302.000000  169.000000   \n",
       "2      1           2021              602.000000  148.000000   \n",
       "3      1            373              813.000000  164.000000   \n",
       "4      1            600              140.194272  107.201074   \n",
       "\n",
       "   director_facebook_likes  actor_3_facebook_likes  actor_2_name  \\\n",
       "0                      0.0              855.000000          1405   \n",
       "1                    563.0             1000.000000          2216   \n",
       "2                      0.0              161.000000          2487   \n",
       "3                  22000.0            23000.000000           532   \n",
       "4                    131.0              645.009761          2431   \n",
       "\n",
       "   actor_1_facebook_likes         gross  genres  ...  num_user_for_reviews  \\\n",
       "0                  1000.0  7.605058e+08     106  ...           3054.000000   \n",
       "1                 40000.0  3.094042e+08     100  ...           1238.000000   \n",
       "2                 11000.0  2.000742e+08     127  ...            994.000000   \n",
       "3                 27000.0  4.481306e+08     287  ...           2701.000000   \n",
       "4                   131.0  4.846841e+07     753  ...            272.770808   \n",
       "\n",
       "   language  country  content_rating        budget  title_year  \\\n",
       "0        11       62               7  2.370000e+08          84   \n",
       "1        11       62               7  3.000000e+08          82   \n",
       "2        11       61               7  2.450000e+08          90   \n",
       "3        11       62               7  2.500000e+08          87   \n",
       "4        11       62               7  3.975262e+07          77   \n",
       "\n",
       "   actor_2_facebook_likes  imdb_score  aspect_ratio  movie_facebook_likes  \n",
       "0                   936.0         7.9             9                 33000  \n",
       "1                  5000.0         7.1            16                     0  \n",
       "2                   393.0         6.8            16                 85000  \n",
       "3                 23000.0         8.5            16                164000  \n",
       "4                    12.0         7.1            14                     0  \n",
       "\n",
       "[5 rows x 26 columns]"
      ]
     },
     "execution_count": 16,
     "metadata": {},
     "output_type": "execute_result"
    }
   ],
   "source": [
    "#A sample of data after label encoding\n",
    "movies.head()"
   ]
  },
  {
   "cell_type": "markdown",
   "metadata": {
    "id": "q8TphL0Dq-F8"
   },
   "source": [
    "# Correlation to select relevant features"
   ]
  },
  {
   "cell_type": "code",
   "execution_count": 17,
   "metadata": {
    "id": "33rtU8_0q-F8"
   },
   "outputs": [],
   "source": [
    "#feature extraction process\n",
    "corr_matrix = movies.corr()"
   ]
  },
  {
   "cell_type": "code",
   "execution_count": 18,
   "metadata": {
    "colab": {
     "base_uri": "https://localhost:8080/"
    },
    "id": "O2zag4NJq-F8",
    "outputId": "8afd5c32-f67d-43be-b7e8-386f3691da3e"
   },
   "outputs": [
    {
     "name": "stdout",
     "output_type": "stream",
     "text": [
      "imdb_score                   1.000000\n",
      "num_voted_users              0.411141\n",
      "num_critic_for_reviews       0.304446\n",
      "num_user_for_reviews         0.291589\n",
      "duration                     0.261369\n",
      "movie_facebook_likes         0.249517\n",
      "gross                        0.168280\n",
      "director_facebook_likes      0.168264\n",
      "language                     0.094264\n",
      "cast_total_facebook_likes    0.085044\n",
      "actor_2_facebook_likes       0.082201\n",
      "actor_1_facebook_likes       0.075826\n",
      "genres                       0.067653\n",
      "actor_3_facebook_likes       0.051568\n",
      "content_rating               0.047818\n",
      "budget                       0.029254\n",
      "director_name                0.020530\n",
      "actor_1_name                 0.010085\n",
      "actor_3_name                 0.006120\n",
      "actor_2_name                -0.013782\n",
      "aspect_ratio                -0.024268\n",
      "plot_keywords               -0.033582\n",
      "country                     -0.036333\n",
      "facenumber_in_poster        -0.064309\n",
      "color                       -0.143677\n",
      "title_year                  -0.202525\n",
      "Name: imdb_score, dtype: float64\n"
     ]
    }
   ],
   "source": [
    "sortValues = corr_matrix['imdb_score'].sort_values(ascending=False)\n",
    "print(sortValues)"
   ]
  },
  {
   "cell_type": "code",
   "execution_count": 19,
   "metadata": {
    "colab": {
     "base_uri": "https://localhost:8080/"
    },
    "id": "XQc95BhOq-F9",
    "outputId": "57c8e351-c367-4b4f-ecd6-9f41cd8b2ce7"
   },
   "outputs": [
    {
     "name": "stdout",
     "output_type": "stream",
     "text": [
      "imdb_score                   1.000000\n",
      "num_voted_users              0.411141\n",
      "num_critic_for_reviews       0.304446\n",
      "num_user_for_reviews         0.291589\n",
      "duration                     0.261369\n",
      "movie_facebook_likes         0.249517\n",
      "gross                        0.168280\n",
      "director_facebook_likes      0.168264\n",
      "language                     0.094264\n",
      "cast_total_facebook_likes    0.085044\n",
      "actor_2_facebook_likes       0.082201\n",
      "actor_1_facebook_likes       0.075826\n",
      "genres                       0.067653\n",
      "actor_3_facebook_likes       0.051568\n",
      "content_rating               0.047818\n",
      "Name: imdb_score, dtype: float64\n"
     ]
    }
   ],
   "source": [
    "# Create feature subsets which show maximum correlation with the dependent variable\n",
    "high_corr_data = sortValues[sortValues > abs(0.04)]\n",
    "# select columns with correlation greater than the threshold\n",
    "print(high_corr_data)"
   ]
  },
  {
   "cell_type": "code",
   "execution_count": 20,
   "metadata": {
    "colab": {
     "base_uri": "https://localhost:8080/"
    },
    "id": "gh2Gg2CTq-F9",
    "outputId": "5f035865-e66f-474a-c94e-b33805254a55"
   },
   "outputs": [
    {
     "name": "stdout",
     "output_type": "stream",
     "text": [
      "['imdb_score', 'num_voted_users', 'num_critic_for_reviews', 'num_user_for_reviews', 'duration', 'movie_facebook_likes', 'gross', 'director_facebook_likes', 'language', 'cast_total_facebook_likes', 'actor_2_facebook_likes', 'actor_1_facebook_likes', 'genres', 'actor_3_facebook_likes', 'content_rating']\n"
     ]
    }
   ],
   "source": [
    "selected_features = high_corr_data.index.tolist()\n",
    "print(selected_features)"
   ]
  },
  {
   "cell_type": "code",
   "execution_count": 21,
   "metadata": {
    "colab": {
     "base_uri": "https://localhost:8080/",
     "height": 270
    },
    "id": "5Y4RMV0wq-F9",
    "outputId": "08e6c474-06df-481d-a63a-1ba98be2c445"
   },
   "outputs": [
    {
     "data": {
      "text/html": [
       "\n",
       "  <div id=\"df-f362c3bd-76f9-47ca-9af4-91d5f1455e5f\">\n",
       "    <div class=\"colab-df-container\">\n",
       "      <div>\n",
       "<style scoped>\n",
       "    .dataframe tbody tr th:only-of-type {\n",
       "        vertical-align: middle;\n",
       "    }\n",
       "\n",
       "    .dataframe tbody tr th {\n",
       "        vertical-align: top;\n",
       "    }\n",
       "\n",
       "    .dataframe thead th {\n",
       "        text-align: right;\n",
       "    }\n",
       "</style>\n",
       "<table border=\"1\" class=\"dataframe\">\n",
       "  <thead>\n",
       "    <tr style=\"text-align: right;\">\n",
       "      <th></th>\n",
       "      <th>imdb_score</th>\n",
       "      <th>num_voted_users</th>\n",
       "      <th>num_critic_for_reviews</th>\n",
       "      <th>num_user_for_reviews</th>\n",
       "      <th>duration</th>\n",
       "      <th>movie_facebook_likes</th>\n",
       "      <th>gross</th>\n",
       "      <th>director_facebook_likes</th>\n",
       "      <th>language</th>\n",
       "      <th>cast_total_facebook_likes</th>\n",
       "      <th>actor_2_facebook_likes</th>\n",
       "      <th>actor_1_facebook_likes</th>\n",
       "      <th>genres</th>\n",
       "      <th>actor_3_facebook_likes</th>\n",
       "      <th>content_rating</th>\n",
       "    </tr>\n",
       "  </thead>\n",
       "  <tbody>\n",
       "    <tr>\n",
       "      <th>0</th>\n",
       "      <td>7.9</td>\n",
       "      <td>886204</td>\n",
       "      <td>723.000000</td>\n",
       "      <td>3054.000000</td>\n",
       "      <td>178.000000</td>\n",
       "      <td>33000</td>\n",
       "      <td>7.605058e+08</td>\n",
       "      <td>0.0</td>\n",
       "      <td>11</td>\n",
       "      <td>4834</td>\n",
       "      <td>936.0</td>\n",
       "      <td>1000.0</td>\n",
       "      <td>106</td>\n",
       "      <td>855.000000</td>\n",
       "      <td>7</td>\n",
       "    </tr>\n",
       "    <tr>\n",
       "      <th>1</th>\n",
       "      <td>7.1</td>\n",
       "      <td>471220</td>\n",
       "      <td>302.000000</td>\n",
       "      <td>1238.000000</td>\n",
       "      <td>169.000000</td>\n",
       "      <td>0</td>\n",
       "      <td>3.094042e+08</td>\n",
       "      <td>563.0</td>\n",
       "      <td>11</td>\n",
       "      <td>48350</td>\n",
       "      <td>5000.0</td>\n",
       "      <td>40000.0</td>\n",
       "      <td>100</td>\n",
       "      <td>1000.000000</td>\n",
       "      <td>7</td>\n",
       "    </tr>\n",
       "    <tr>\n",
       "      <th>2</th>\n",
       "      <td>6.8</td>\n",
       "      <td>275868</td>\n",
       "      <td>602.000000</td>\n",
       "      <td>994.000000</td>\n",
       "      <td>148.000000</td>\n",
       "      <td>85000</td>\n",
       "      <td>2.000742e+08</td>\n",
       "      <td>0.0</td>\n",
       "      <td>11</td>\n",
       "      <td>11700</td>\n",
       "      <td>393.0</td>\n",
       "      <td>11000.0</td>\n",
       "      <td>127</td>\n",
       "      <td>161.000000</td>\n",
       "      <td>7</td>\n",
       "    </tr>\n",
       "    <tr>\n",
       "      <th>3</th>\n",
       "      <td>8.5</td>\n",
       "      <td>1144337</td>\n",
       "      <td>813.000000</td>\n",
       "      <td>2701.000000</td>\n",
       "      <td>164.000000</td>\n",
       "      <td>164000</td>\n",
       "      <td>4.481306e+08</td>\n",
       "      <td>22000.0</td>\n",
       "      <td>11</td>\n",
       "      <td>106759</td>\n",
       "      <td>23000.0</td>\n",
       "      <td>27000.0</td>\n",
       "      <td>287</td>\n",
       "      <td>23000.000000</td>\n",
       "      <td>7</td>\n",
       "    </tr>\n",
       "    <tr>\n",
       "      <th>4</th>\n",
       "      <td>7.1</td>\n",
       "      <td>8</td>\n",
       "      <td>140.194272</td>\n",
       "      <td>272.770808</td>\n",
       "      <td>107.201074</td>\n",
       "      <td>0</td>\n",
       "      <td>4.846841e+07</td>\n",
       "      <td>131.0</td>\n",
       "      <td>11</td>\n",
       "      <td>143</td>\n",
       "      <td>12.0</td>\n",
       "      <td>131.0</td>\n",
       "      <td>753</td>\n",
       "      <td>645.009761</td>\n",
       "      <td>7</td>\n",
       "    </tr>\n",
       "  </tbody>\n",
       "</table>\n",
       "</div>\n",
       "      <button class=\"colab-df-convert\" onclick=\"convertToInteractive('df-f362c3bd-76f9-47ca-9af4-91d5f1455e5f')\"\n",
       "              title=\"Convert this dataframe to an interactive table.\"\n",
       "              style=\"display:none;\">\n",
       "        \n",
       "  <svg xmlns=\"http://www.w3.org/2000/svg\" height=\"24px\"viewBox=\"0 0 24 24\"\n",
       "       width=\"24px\">\n",
       "    <path d=\"M0 0h24v24H0V0z\" fill=\"none\"/>\n",
       "    <path d=\"M18.56 5.44l.94 2.06.94-2.06 2.06-.94-2.06-.94-.94-2.06-.94 2.06-2.06.94zm-11 1L8.5 8.5l.94-2.06 2.06-.94-2.06-.94L8.5 2.5l-.94 2.06-2.06.94zm10 10l.94 2.06.94-2.06 2.06-.94-2.06-.94-.94-2.06-.94 2.06-2.06.94z\"/><path d=\"M17.41 7.96l-1.37-1.37c-.4-.4-.92-.59-1.43-.59-.52 0-1.04.2-1.43.59L10.3 9.45l-7.72 7.72c-.78.78-.78 2.05 0 2.83L4 21.41c.39.39.9.59 1.41.59.51 0 1.02-.2 1.41-.59l7.78-7.78 2.81-2.81c.8-.78.8-2.07 0-2.86zM5.41 20L4 18.59l7.72-7.72 1.47 1.35L5.41 20z\"/>\n",
       "  </svg>\n",
       "      </button>\n",
       "      \n",
       "  <style>\n",
       "    .colab-df-container {\n",
       "      display:flex;\n",
       "      flex-wrap:wrap;\n",
       "      gap: 12px;\n",
       "    }\n",
       "\n",
       "    .colab-df-convert {\n",
       "      background-color: #E8F0FE;\n",
       "      border: none;\n",
       "      border-radius: 50%;\n",
       "      cursor: pointer;\n",
       "      display: none;\n",
       "      fill: #1967D2;\n",
       "      height: 32px;\n",
       "      padding: 0 0 0 0;\n",
       "      width: 32px;\n",
       "    }\n",
       "\n",
       "    .colab-df-convert:hover {\n",
       "      background-color: #E2EBFA;\n",
       "      box-shadow: 0px 1px 2px rgba(60, 64, 67, 0.3), 0px 1px 3px 1px rgba(60, 64, 67, 0.15);\n",
       "      fill: #174EA6;\n",
       "    }\n",
       "\n",
       "    [theme=dark] .colab-df-convert {\n",
       "      background-color: #3B4455;\n",
       "      fill: #D2E3FC;\n",
       "    }\n",
       "\n",
       "    [theme=dark] .colab-df-convert:hover {\n",
       "      background-color: #434B5C;\n",
       "      box-shadow: 0px 1px 3px 1px rgba(0, 0, 0, 0.15);\n",
       "      filter: drop-shadow(0px 1px 2px rgba(0, 0, 0, 0.3));\n",
       "      fill: #FFFFFF;\n",
       "    }\n",
       "  </style>\n",
       "\n",
       "      <script>\n",
       "        const buttonEl =\n",
       "          document.querySelector('#df-f362c3bd-76f9-47ca-9af4-91d5f1455e5f button.colab-df-convert');\n",
       "        buttonEl.style.display =\n",
       "          google.colab.kernel.accessAllowed ? 'block' : 'none';\n",
       "\n",
       "        async function convertToInteractive(key) {\n",
       "          const element = document.querySelector('#df-f362c3bd-76f9-47ca-9af4-91d5f1455e5f');\n",
       "          const dataTable =\n",
       "            await google.colab.kernel.invokeFunction('convertToInteractive',\n",
       "                                                     [key], {});\n",
       "          if (!dataTable) return;\n",
       "\n",
       "          const docLinkHtml = 'Like what you see? Visit the ' +\n",
       "            '<a target=\"_blank\" href=https://colab.research.google.com/notebooks/data_table.ipynb>data table notebook</a>'\n",
       "            + ' to learn more about interactive tables.';\n",
       "          element.innerHTML = '';\n",
       "          dataTable['output_type'] = 'display_data';\n",
       "          await google.colab.output.renderOutput(dataTable, element);\n",
       "          const docLink = document.createElement('div');\n",
       "          docLink.innerHTML = docLinkHtml;\n",
       "          element.appendChild(docLink);\n",
       "        }\n",
       "      </script>\n",
       "    </div>\n",
       "  </div>\n",
       "  "
      ],
      "text/plain": [
       "   imdb_score  num_voted_users  num_critic_for_reviews  num_user_for_reviews  \\\n",
       "0         7.9           886204              723.000000           3054.000000   \n",
       "1         7.1           471220              302.000000           1238.000000   \n",
       "2         6.8           275868              602.000000            994.000000   \n",
       "3         8.5          1144337              813.000000           2701.000000   \n",
       "4         7.1                8              140.194272            272.770808   \n",
       "\n",
       "     duration  movie_facebook_likes         gross  director_facebook_likes  \\\n",
       "0  178.000000                 33000  7.605058e+08                      0.0   \n",
       "1  169.000000                     0  3.094042e+08                    563.0   \n",
       "2  148.000000                 85000  2.000742e+08                      0.0   \n",
       "3  164.000000                164000  4.481306e+08                  22000.0   \n",
       "4  107.201074                     0  4.846841e+07                    131.0   \n",
       "\n",
       "   language  cast_total_facebook_likes  actor_2_facebook_likes  \\\n",
       "0        11                       4834                   936.0   \n",
       "1        11                      48350                  5000.0   \n",
       "2        11                      11700                   393.0   \n",
       "3        11                     106759                 23000.0   \n",
       "4        11                        143                    12.0   \n",
       "\n",
       "   actor_1_facebook_likes  genres  actor_3_facebook_likes  content_rating  \n",
       "0                  1000.0     106              855.000000               7  \n",
       "1                 40000.0     100             1000.000000               7  \n",
       "2                 11000.0     127              161.000000               7  \n",
       "3                 27000.0     287            23000.000000               7  \n",
       "4                   131.0     753              645.009761               7  "
      ]
     },
     "execution_count": 21,
     "metadata": {},
     "output_type": "execute_result"
    }
   ],
   "source": [
    "#Creating a new datasset with selected features\n",
    "trainingData = movies[selected_features]\n",
    "trainingData.head()"
   ]
  },
  {
   "cell_type": "code",
   "execution_count": 22,
   "metadata": {
    "colab": {
     "base_uri": "https://localhost:8080/"
    },
    "id": "mbNnevtMq-F-",
    "outputId": "1726ff6c-f407-4471-f503-6deb0d457e10"
   },
   "outputs": [
    {
     "data": {
      "text/plain": [
       "count    5000.000000\n",
       "mean        6.441240\n",
       "std         1.123984\n",
       "min         1.600000\n",
       "25%         5.800000\n",
       "50%         6.600000\n",
       "75%         7.200000\n",
       "max         9.500000\n",
       "Name: imdb_score, dtype: float64"
      ]
     },
     "execution_count": 22,
     "metadata": {},
     "output_type": "execute_result"
    }
   ],
   "source": [
    "trainingData['imdb_score'].describe()"
   ]
  },
  {
   "cell_type": "markdown",
   "metadata": {
    "id": "Fa0v4Pgnq-F-"
   },
   "source": [
    "# Scaling "
   ]
  },
  {
   "cell_type": "code",
   "execution_count": null,
   "metadata": {
    "id": "wd7HJY5Xq-F-"
   },
   "outputs": [],
   "source": [
    "# from sklearn.preprocessing import StandardScaler\n",
    "# # create a StandardScaler object\n",
    "# scaler = StandardScaler()"
   ]
  },
  {
   "cell_type": "code",
   "execution_count": null,
   "metadata": {
    "id": "yR1gIucdq-F_"
   },
   "outputs": [],
   "source": [
    "# # scale the DataFrame using the StandardScaler\n",
    "# scaled_data = scaler.fit_transform(trainingData)"
   ]
  },
  {
   "cell_type": "code",
   "execution_count": null,
   "metadata": {
    "id": "2qh2q4pCq-F_"
   },
   "outputs": [],
   "source": [
    "# # convert the scaled data back to a DataFrame\n",
    "# scaled_trainingData = pd.DataFrame(scaled_data, columns=trainingData.columns)\n",
    "# # print the scaled DataFrame\n",
    "# scaled_trainingData"
   ]
  },
  {
   "cell_type": "code",
   "execution_count": null,
   "metadata": {
    "id": "B8ln3y6cq-F_"
   },
   "outputs": [],
   "source": [
    "# scaled_trainingData.head()"
   ]
  },
  {
   "cell_type": "code",
   "execution_count": null,
   "metadata": {
    "id": "ftspN6UFq-GA"
   },
   "outputs": [],
   "source": [
    "# scaled_trainingData['imdb_score'].describe()"
   ]
  },
  {
   "cell_type": "code",
   "execution_count": null,
   "metadata": {
    "id": "1EAjyormq-GA"
   },
   "outputs": [],
   "source": [
    "# scaled_trainingData.shape"
   ]
  },
  {
   "cell_type": "markdown",
   "metadata": {
    "id": "XcJ4Xo_pq-GA"
   },
   "source": [
    "## Training the model"
   ]
  },
  {
   "cell_type": "code",
   "execution_count": 23,
   "metadata": {
    "id": "mmr_qoddq-GA"
   },
   "outputs": [],
   "source": [
    "datasetR = trainingData.copy() #lets keep our original dataset for reference. Here datasetR is for Regression model\n",
    "datasetC = trainingData.copy() #Here datasetC is for classification model"
   ]
  },
  {
   "cell_type": "code",
   "execution_count": 24,
   "metadata": {
    "colab": {
     "base_uri": "https://localhost:8080/",
     "height": 270
    },
    "id": "sHJkreWiq-GB",
    "outputId": "438ac81f-f26b-43c5-bf4a-7bf3913d5836"
   },
   "outputs": [
    {
     "data": {
      "text/html": [
       "\n",
       "  <div id=\"df-7ca8b7e0-c74e-4dea-997d-455ddb3c4213\">\n",
       "    <div class=\"colab-df-container\">\n",
       "      <div>\n",
       "<style scoped>\n",
       "    .dataframe tbody tr th:only-of-type {\n",
       "        vertical-align: middle;\n",
       "    }\n",
       "\n",
       "    .dataframe tbody tr th {\n",
       "        vertical-align: top;\n",
       "    }\n",
       "\n",
       "    .dataframe thead th {\n",
       "        text-align: right;\n",
       "    }\n",
       "</style>\n",
       "<table border=\"1\" class=\"dataframe\">\n",
       "  <thead>\n",
       "    <tr style=\"text-align: right;\">\n",
       "      <th></th>\n",
       "      <th>imdb_score</th>\n",
       "      <th>num_voted_users</th>\n",
       "      <th>num_critic_for_reviews</th>\n",
       "      <th>num_user_for_reviews</th>\n",
       "      <th>duration</th>\n",
       "      <th>movie_facebook_likes</th>\n",
       "      <th>gross</th>\n",
       "      <th>director_facebook_likes</th>\n",
       "      <th>language</th>\n",
       "      <th>cast_total_facebook_likes</th>\n",
       "      <th>actor_2_facebook_likes</th>\n",
       "      <th>actor_1_facebook_likes</th>\n",
       "      <th>genres</th>\n",
       "      <th>actor_3_facebook_likes</th>\n",
       "      <th>content_rating</th>\n",
       "    </tr>\n",
       "  </thead>\n",
       "  <tbody>\n",
       "    <tr>\n",
       "      <th>0</th>\n",
       "      <td>7.9</td>\n",
       "      <td>886204</td>\n",
       "      <td>723.000000</td>\n",
       "      <td>3054.000000</td>\n",
       "      <td>178.000000</td>\n",
       "      <td>33000</td>\n",
       "      <td>7.605058e+08</td>\n",
       "      <td>0.0</td>\n",
       "      <td>11</td>\n",
       "      <td>4834</td>\n",
       "      <td>936.0</td>\n",
       "      <td>1000.0</td>\n",
       "      <td>106</td>\n",
       "      <td>855.000000</td>\n",
       "      <td>7</td>\n",
       "    </tr>\n",
       "    <tr>\n",
       "      <th>1</th>\n",
       "      <td>7.1</td>\n",
       "      <td>471220</td>\n",
       "      <td>302.000000</td>\n",
       "      <td>1238.000000</td>\n",
       "      <td>169.000000</td>\n",
       "      <td>0</td>\n",
       "      <td>3.094042e+08</td>\n",
       "      <td>563.0</td>\n",
       "      <td>11</td>\n",
       "      <td>48350</td>\n",
       "      <td>5000.0</td>\n",
       "      <td>40000.0</td>\n",
       "      <td>100</td>\n",
       "      <td>1000.000000</td>\n",
       "      <td>7</td>\n",
       "    </tr>\n",
       "    <tr>\n",
       "      <th>2</th>\n",
       "      <td>6.8</td>\n",
       "      <td>275868</td>\n",
       "      <td>602.000000</td>\n",
       "      <td>994.000000</td>\n",
       "      <td>148.000000</td>\n",
       "      <td>85000</td>\n",
       "      <td>2.000742e+08</td>\n",
       "      <td>0.0</td>\n",
       "      <td>11</td>\n",
       "      <td>11700</td>\n",
       "      <td>393.0</td>\n",
       "      <td>11000.0</td>\n",
       "      <td>127</td>\n",
       "      <td>161.000000</td>\n",
       "      <td>7</td>\n",
       "    </tr>\n",
       "    <tr>\n",
       "      <th>3</th>\n",
       "      <td>8.5</td>\n",
       "      <td>1144337</td>\n",
       "      <td>813.000000</td>\n",
       "      <td>2701.000000</td>\n",
       "      <td>164.000000</td>\n",
       "      <td>164000</td>\n",
       "      <td>4.481306e+08</td>\n",
       "      <td>22000.0</td>\n",
       "      <td>11</td>\n",
       "      <td>106759</td>\n",
       "      <td>23000.0</td>\n",
       "      <td>27000.0</td>\n",
       "      <td>287</td>\n",
       "      <td>23000.000000</td>\n",
       "      <td>7</td>\n",
       "    </tr>\n",
       "    <tr>\n",
       "      <th>4</th>\n",
       "      <td>7.1</td>\n",
       "      <td>8</td>\n",
       "      <td>140.194272</td>\n",
       "      <td>272.770808</td>\n",
       "      <td>107.201074</td>\n",
       "      <td>0</td>\n",
       "      <td>4.846841e+07</td>\n",
       "      <td>131.0</td>\n",
       "      <td>11</td>\n",
       "      <td>143</td>\n",
       "      <td>12.0</td>\n",
       "      <td>131.0</td>\n",
       "      <td>753</td>\n",
       "      <td>645.009761</td>\n",
       "      <td>7</td>\n",
       "    </tr>\n",
       "  </tbody>\n",
       "</table>\n",
       "</div>\n",
       "      <button class=\"colab-df-convert\" onclick=\"convertToInteractive('df-7ca8b7e0-c74e-4dea-997d-455ddb3c4213')\"\n",
       "              title=\"Convert this dataframe to an interactive table.\"\n",
       "              style=\"display:none;\">\n",
       "        \n",
       "  <svg xmlns=\"http://www.w3.org/2000/svg\" height=\"24px\"viewBox=\"0 0 24 24\"\n",
       "       width=\"24px\">\n",
       "    <path d=\"M0 0h24v24H0V0z\" fill=\"none\"/>\n",
       "    <path d=\"M18.56 5.44l.94 2.06.94-2.06 2.06-.94-2.06-.94-.94-2.06-.94 2.06-2.06.94zm-11 1L8.5 8.5l.94-2.06 2.06-.94-2.06-.94L8.5 2.5l-.94 2.06-2.06.94zm10 10l.94 2.06.94-2.06 2.06-.94-2.06-.94-.94-2.06-.94 2.06-2.06.94z\"/><path d=\"M17.41 7.96l-1.37-1.37c-.4-.4-.92-.59-1.43-.59-.52 0-1.04.2-1.43.59L10.3 9.45l-7.72 7.72c-.78.78-.78 2.05 0 2.83L4 21.41c.39.39.9.59 1.41.59.51 0 1.02-.2 1.41-.59l7.78-7.78 2.81-2.81c.8-.78.8-2.07 0-2.86zM5.41 20L4 18.59l7.72-7.72 1.47 1.35L5.41 20z\"/>\n",
       "  </svg>\n",
       "      </button>\n",
       "      \n",
       "  <style>\n",
       "    .colab-df-container {\n",
       "      display:flex;\n",
       "      flex-wrap:wrap;\n",
       "      gap: 12px;\n",
       "    }\n",
       "\n",
       "    .colab-df-convert {\n",
       "      background-color: #E8F0FE;\n",
       "      border: none;\n",
       "      border-radius: 50%;\n",
       "      cursor: pointer;\n",
       "      display: none;\n",
       "      fill: #1967D2;\n",
       "      height: 32px;\n",
       "      padding: 0 0 0 0;\n",
       "      width: 32px;\n",
       "    }\n",
       "\n",
       "    .colab-df-convert:hover {\n",
       "      background-color: #E2EBFA;\n",
       "      box-shadow: 0px 1px 2px rgba(60, 64, 67, 0.3), 0px 1px 3px 1px rgba(60, 64, 67, 0.15);\n",
       "      fill: #174EA6;\n",
       "    }\n",
       "\n",
       "    [theme=dark] .colab-df-convert {\n",
       "      background-color: #3B4455;\n",
       "      fill: #D2E3FC;\n",
       "    }\n",
       "\n",
       "    [theme=dark] .colab-df-convert:hover {\n",
       "      background-color: #434B5C;\n",
       "      box-shadow: 0px 1px 3px 1px rgba(0, 0, 0, 0.15);\n",
       "      filter: drop-shadow(0px 1px 2px rgba(0, 0, 0, 0.3));\n",
       "      fill: #FFFFFF;\n",
       "    }\n",
       "  </style>\n",
       "\n",
       "      <script>\n",
       "        const buttonEl =\n",
       "          document.querySelector('#df-7ca8b7e0-c74e-4dea-997d-455ddb3c4213 button.colab-df-convert');\n",
       "        buttonEl.style.display =\n",
       "          google.colab.kernel.accessAllowed ? 'block' : 'none';\n",
       "\n",
       "        async function convertToInteractive(key) {\n",
       "          const element = document.querySelector('#df-7ca8b7e0-c74e-4dea-997d-455ddb3c4213');\n",
       "          const dataTable =\n",
       "            await google.colab.kernel.invokeFunction('convertToInteractive',\n",
       "                                                     [key], {});\n",
       "          if (!dataTable) return;\n",
       "\n",
       "          const docLinkHtml = 'Like what you see? Visit the ' +\n",
       "            '<a target=\"_blank\" href=https://colab.research.google.com/notebooks/data_table.ipynb>data table notebook</a>'\n",
       "            + ' to learn more about interactive tables.';\n",
       "          element.innerHTML = '';\n",
       "          dataTable['output_type'] = 'display_data';\n",
       "          await google.colab.output.renderOutput(dataTable, element);\n",
       "          const docLink = document.createElement('div');\n",
       "          docLink.innerHTML = docLinkHtml;\n",
       "          element.appendChild(docLink);\n",
       "        }\n",
       "      </script>\n",
       "    </div>\n",
       "  </div>\n",
       "  "
      ],
      "text/plain": [
       "   imdb_score  num_voted_users  num_critic_for_reviews  num_user_for_reviews  \\\n",
       "0         7.9           886204              723.000000           3054.000000   \n",
       "1         7.1           471220              302.000000           1238.000000   \n",
       "2         6.8           275868              602.000000            994.000000   \n",
       "3         8.5          1144337              813.000000           2701.000000   \n",
       "4         7.1                8              140.194272            272.770808   \n",
       "\n",
       "     duration  movie_facebook_likes         gross  director_facebook_likes  \\\n",
       "0  178.000000                 33000  7.605058e+08                      0.0   \n",
       "1  169.000000                     0  3.094042e+08                    563.0   \n",
       "2  148.000000                 85000  2.000742e+08                      0.0   \n",
       "3  164.000000                164000  4.481306e+08                  22000.0   \n",
       "4  107.201074                     0  4.846841e+07                    131.0   \n",
       "\n",
       "   language  cast_total_facebook_likes  actor_2_facebook_likes  \\\n",
       "0        11                       4834                   936.0   \n",
       "1        11                      48350                  5000.0   \n",
       "2        11                      11700                   393.0   \n",
       "3        11                     106759                 23000.0   \n",
       "4        11                        143                    12.0   \n",
       "\n",
       "   actor_1_facebook_likes  genres  actor_3_facebook_likes  content_rating  \n",
       "0                  1000.0     106              855.000000               7  \n",
       "1                 40000.0     100             1000.000000               7  \n",
       "2                 11000.0     127              161.000000               7  \n",
       "3                 27000.0     287            23000.000000               7  \n",
       "4                   131.0     753              645.009761               7  "
      ]
     },
     "execution_count": 24,
     "metadata": {},
     "output_type": "execute_result"
    }
   ],
   "source": [
    "datasetR.head() #lets keep our original dataset for reference. Here datasetR is for Regression model\n"
   ]
  },
  {
   "cell_type": "code",
   "execution_count": null,
   "metadata": {
    "id": "vjII_GLTq-GB"
   },
   "outputs": [],
   "source": [
    "# X_train.shape, y_train.shape, X_test.shape, y_test.shape"
   ]
  },
  {
   "cell_type": "code",
   "execution_count": 25,
   "metadata": {
    "id": "IVuzT3coq-GB"
   },
   "outputs": [],
   "source": [
    "from sklearn.model_selection import train_test_split\n",
    "y = datasetR.pop('imdb_score')\n",
    "X = datasetR\n",
    "X_train, X_test, y_train, y_test = train_test_split(X, y, train_size = 0.8, test_size = 0.2, random_state = 42)"
   ]
  },
  {
   "cell_type": "code",
   "execution_count": 26,
   "metadata": {
    "colab": {
     "base_uri": "https://localhost:8080/"
    },
    "id": "f5PQpcRwq-GC",
    "outputId": "9882aa25-9617-402c-9f57-74cb202bf0b5"
   },
   "outputs": [
    {
     "data": {
      "text/plain": [
       "((4000, 14), (4000,), (1000, 14), (1000,))"
      ]
     },
     "execution_count": 26,
     "metadata": {},
     "output_type": "execute_result"
    }
   ],
   "source": [
    " X_train.shape, y_train.shape, X_test.shape, y_test.shape"
   ]
  },
  {
   "cell_type": "code",
   "execution_count": 27,
   "metadata": {
    "id": "7poEEtRWq-GC"
   },
   "outputs": [],
   "source": [
    "from sklearn.preprocessing import MinMaxScaler\n",
    "scaler = MinMaxScaler()\n",
    "X_train = pd.DataFrame(scaler.fit_transform(X_train.values), columns=X_train.columns, index=X_train.index)"
   ]
  },
  {
   "cell_type": "code",
   "execution_count": 28,
   "metadata": {
    "id": "yET6EKVFq-GC"
   },
   "outputs": [],
   "source": [
    "X_test = pd.DataFrame(scaler.transform(X_test.values), columns = X_train.columns, index = X_test.index)"
   ]
  },
  {
   "cell_type": "code",
   "execution_count": 29,
   "metadata": {
    "colab": {
     "base_uri": "https://localhost:8080/"
    },
    "id": "wT4frcvyq-GC",
    "outputId": "fddd91ba-ff83-4b41-f944-df0c33157f60"
   },
   "outputs": [
    {
     "data": {
      "text/plain": [
       "(4000, 14)"
      ]
     },
     "execution_count": 29,
     "metadata": {},
     "output_type": "execute_result"
    }
   ],
   "source": [
    "X_train.shape"
   ]
  },
  {
   "cell_type": "code",
   "execution_count": null,
   "metadata": {
    "id": "sb-okmDzq-GD"
   },
   "outputs": [],
   "source": [
    "# #importing the required libraries\n",
    "# from sklearn.feature_selection import RFE\n",
    "# from sklearn.linear_model import LinearRegression"
   ]
  },
  {
   "cell_type": "code",
   "execution_count": null,
   "metadata": {
    "id": "7cEnuIcSq-GD"
   },
   "outputs": [],
   "source": [
    "# # Running RFE with the output number of the variable equal to 15\n",
    "# lm = LinearRegression()\n",
    "# lm.fit(X_train, y_train)\n",
    "\n",
    "# rfe = RFE(lm)            # running RFE\n",
    "# rfe = rfe.fit(X_train, y_train)"
   ]
  },
  {
   "cell_type": "code",
   "execution_count": null,
   "metadata": {
    "id": "KbbYyTBMq-GD"
   },
   "outputs": [],
   "source": [
    "# col_rfe = X_train.columns[rfe.support_]\n",
    "# col_rfe"
   ]
  },
  {
   "cell_type": "code",
   "execution_count": null,
   "metadata": {
    "id": "EagRH6o1q-GD"
   },
   "outputs": [],
   "source": [
    "# X_train.columns[~rfe.support_]"
   ]
  },
  {
   "cell_type": "code",
   "execution_count": null,
   "metadata": {
    "id": "FcJew4xNq-GD"
   },
   "outputs": [],
   "source": [
    "# #Creating a X_train dataframe with rfe varianles\n",
    "# X_train_rfe = X_train[col_rfe]"
   ]
  },
  {
   "cell_type": "code",
   "execution_count": null,
   "metadata": {
    "id": "JCDcL1a5q-GE"
   },
   "outputs": [],
   "source": [
    "# # Adding a constant variable for using the stats model\n",
    "# import statsmodels.api as sm\n",
    "# X_train_rfe_constant = sm.add_constant(X_train_rfe)"
   ]
  },
  {
   "cell_type": "code",
   "execution_count": null,
   "metadata": {
    "id": "qi85QBf1q-GE"
   },
   "outputs": [],
   "source": [
    "# lm = sm.OLS(y_train,X_train_rfe_constant).fit()   # Running the linear model"
   ]
  },
  {
   "cell_type": "code",
   "execution_count": null,
   "metadata": {
    "id": "DrZa98Zyq-GE"
   },
   "outputs": [],
   "source": [
    "# #Let's see the summary of our linear model\n",
    "# print(lm.summary())"
   ]
  },
  {
   "cell_type": "code",
   "execution_count": null,
   "metadata": {
    "id": "Mms2FcDqq-GE"
   },
   "outputs": [],
   "source": [
    "# X_test_rfe = X_test[col_rfe]\n",
    "# X_test_rfe_constant = sm.add_constant(X_test_rfe)"
   ]
  },
  {
   "cell_type": "code",
   "execution_count": null,
   "metadata": {
    "id": "loyqBBpaq-GF"
   },
   "outputs": [],
   "source": [
    "# y_pred_linear = lm.predict(X_test_rfe_constant)"
   ]
  },
  {
   "cell_type": "code",
   "execution_count": null,
   "metadata": {
    "id": "vhHJYZ7lq-GF"
   },
   "outputs": [],
   "source": [
    "# y_pred_linear.values"
   ]
  },
  {
   "cell_type": "code",
   "execution_count": null,
   "metadata": {
    "id": "G_rdhxxpq-GF"
   },
   "outputs": [],
   "source": [
    "# y_pred_linear.min(), y_pred_linear.max()"
   ]
  },
  {
   "cell_type": "code",
   "execution_count": null,
   "metadata": {
    "id": "XvYPXATdq-GF"
   },
   "outputs": [],
   "source": [
    "# from sklearn.metrics import mean_squared_error\n",
    "# mean_squared_error(y_pred_linear, y_test)"
   ]
  },
  {
   "cell_type": "code",
   "execution_count": 30,
   "metadata": {
    "id": "BR_mHTONq-GF"
   },
   "outputs": [],
   "source": [
    "y_train_classification = y_train.copy()"
   ]
  },
  {
   "cell_type": "code",
   "execution_count": 31,
   "metadata": {
    "colab": {
     "base_uri": "https://localhost:8080/"
    },
    "id": "AD-61uyVq-GF",
    "outputId": "0a23bc46-d9e7-4e85-f28f-03b2d2718903"
   },
   "outputs": [
    {
     "data": {
      "text/plain": [
       "4258    5.3\n",
       "4713    6.3\n",
       "809     6.5\n",
       "3698    7.3\n",
       "4223    5.8\n",
       "       ... \n",
       "4460    7.3\n",
       "472     4.6\n",
       "3115    6.1\n",
       "3800    7.5\n",
       "869     6.8\n",
       "Name: imdb_score, Length: 4000, dtype: float64"
      ]
     },
     "execution_count": 31,
     "metadata": {},
     "output_type": "execute_result"
    }
   ],
   "source": [
    "y_train_classification"
   ]
  },
  {
   "cell_type": "code",
   "execution_count": null,
   "metadata": {
    "id": "Lv3nAxUXq-GG"
   },
   "outputs": [],
   "source": [
    "# bins = [1, 5, 7, float('Inf')]\n",
    "# labels = ['Flop Movie', 'Average Movie', 'Hit Movie']\n",
    "# y_train_class = pd.cut(y_train_classification, bins = bins, labels = labels)"
   ]
  },
  {
   "cell_type": "code",
   "execution_count": 32,
   "metadata": {
    "id": "Jy2P8Nk0q-GG"
   },
   "outputs": [],
   "source": [
    "y_train_classification = pd.cut(y_train_classification, bins=[1, 3, 6, float('Inf')], labels=['Flop Movie', 'Average Movie', 'Hit Movie'])"
   ]
  },
  {
   "cell_type": "code",
   "execution_count": 33,
   "metadata": {
    "colab": {
     "base_uri": "https://localhost:8080/"
    },
    "id": "6OZLLMQ0q-GG",
    "outputId": "b06bc2db-c1dc-465f-f84d-4e4539142776"
   },
   "outputs": [
    {
     "data": {
      "text/plain": [
       "4258    Average Movie\n",
       "4713        Hit Movie\n",
       "809         Hit Movie\n",
       "3698        Hit Movie\n",
       "4223    Average Movie\n",
       "            ...      \n",
       "4460        Hit Movie\n",
       "472     Average Movie\n",
       "3115        Hit Movie\n",
       "3800        Hit Movie\n",
       "869         Hit Movie\n",
       "Name: imdb_score, Length: 4000, dtype: category\n",
       "Categories (3, object): ['Flop Movie' < 'Average Movie' < 'Hit Movie']"
      ]
     },
     "execution_count": 33,
     "metadata": {},
     "output_type": "execute_result"
    }
   ],
   "source": [
    "y_train_classification"
   ]
  },
  {
   "cell_type": "code",
   "execution_count": 34,
   "metadata": {
    "id": "3CXH4DHSq-GG"
   },
   "outputs": [],
   "source": [
    "y_test_classification = y_test.copy()"
   ]
  },
  {
   "cell_type": "code",
   "execution_count": 35,
   "metadata": {
    "id": "aRWsDE_Lq-GH"
   },
   "outputs": [],
   "source": [
    "y_test_classification = pd.cut(y_test_classification, bins=[1, 3, 6, float('Inf')], labels=['Flop Movie', 'Average Movie', 'Hit Movie'])"
   ]
  },
  {
   "cell_type": "code",
   "execution_count": 36,
   "metadata": {
    "id": "Fz5ktZDhq-GH"
   },
   "outputs": [],
   "source": [
    "X_train_rfe_classification = X_train.copy()\n",
    "X_test_rfe_classification = X_test.copy()"
   ]
  },
  {
   "cell_type": "code",
   "execution_count": 37,
   "metadata": {
    "colab": {
     "base_uri": "https://localhost:8080/"
    },
    "id": "ubMJPgacq-GI",
    "outputId": "5c2981e4-e489-4813-94d2-36ccf3a19be3"
   },
   "outputs": [
    {
     "data": {
      "text/plain": [
       "0"
      ]
     },
     "execution_count": 37,
     "metadata": {},
     "output_type": "execute_result"
    }
   ],
   "source": [
    "y_train_classification.isna().sum()"
   ]
  },
  {
   "cell_type": "markdown",
   "metadata": {
    "id": "KwHvZy0Rq-GI"
   },
   "source": [
    "### Random Forest Classifier"
   ]
  },
  {
   "cell_type": "code",
   "execution_count": 38,
   "metadata": {
    "colab": {
     "base_uri": "https://localhost:8080/"
    },
    "id": "7J03Y5XAq-GI",
    "outputId": "64cf1f11-e443-42b3-fd59-ea6fd254b888"
   },
   "outputs": [
    {
     "name": "stdout",
     "output_type": "stream",
     "text": [
      "['Hit Movie' 'Average Movie' 'Hit Movie' 'Hit Movie' 'Hit Movie'\n",
      " 'Hit Movie' 'Hit Movie' 'Hit Movie' 'Hit Movie' 'Hit Movie' 'Hit Movie'\n",
      " 'Average Movie' 'Hit Movie' 'Average Movie' 'Hit Movie' 'Hit Movie'\n",
      " 'Hit Movie' 'Hit Movie' 'Hit Movie']\n",
      "Model accuracy score: 0.7790\n"
     ]
    }
   ],
   "source": [
    "from sklearn.ensemble import RandomForestClassifier\n",
    "from sklearn.metrics import mean_absolute_error\n",
    "\n",
    "forest_model = RandomForestClassifier(random_state=1)\n",
    "forest_model.fit(X_train_rfe_classification, y_train_classification)\n",
    "predicted_rating = forest_model.predict(X_test_rfe_classification)\n",
    "print(predicted_rating[1:20])\n",
    "\n",
    "# Check accuracy score \n",
    "\n",
    "from sklearn.metrics import accuracy_score\n",
    "\n",
    "print('Model accuracy score: {0:0.4f}'. format(accuracy_score(y_test_classification, predicted_rating)))"
   ]
  },
  {
   "cell_type": "markdown",
   "metadata": {
    "id": "YotArdrTxQmE"
   },
   "source": [
    "\n",
    "\n",
    "\n",
    "\n",
    "\n",
    "\n",
    "\n",
    "...\n",
    "\n",
    "\n",
    "**Evaluating the Random Forest Classifier**"
   ]
  },
  {
   "cell_type": "code",
   "execution_count": 39,
   "metadata": {
    "colab": {
     "base_uri": "https://localhost:8080/"
    },
    "id": "fbPWZXAwq-GJ",
    "outputId": "31c50e21-1aa1-429a-f509-97e2cbbb14c2"
   },
   "outputs": [
    {
     "data": {
      "text/plain": [
       "array([[152,   0, 156],\n",
       "       [  2,   0,   3],\n",
       "       [ 60,   0, 627]])"
      ]
     },
     "execution_count": 39,
     "metadata": {},
     "output_type": "execute_result"
    }
   ],
   "source": [
    "from sklearn.metrics import confusion_matrix, classification_report\n",
    "\n",
    "\n",
    "# View confusion matrix for test data and predictions\n",
    "confusion_matrix(y_test_classification, predicted_rating)"
   ]
  },
  {
   "cell_type": "code",
   "execution_count": 40,
   "metadata": {
    "id": "rbO12kkBq-GJ"
   },
   "outputs": [],
   "source": [
    "# Get and reshape confusion matrix data\n",
    "matrix = confusion_matrix(y_test_classification, predicted_rating)\n",
    "matrix = matrix.astype('float') / matrix.sum(axis=1)[:, np.newaxis]\n",
    "\n"
   ]
  },
  {
   "cell_type": "code",
   "execution_count": 41,
   "metadata": {
    "colab": {
     "base_uri": "https://localhost:8080/",
     "height": 693
    },
    "id": "icqEwLoOubX4",
    "outputId": "be7aaa62-7eb4-4fa4-c68c-33515d0638f8"
   },
   "outputs": [
    {
     "data": {
      "text/plain": [
       "Text(0.5, 1.0, 'Confusion Matrix for Random Forest Model')"
      ]
     },
     "execution_count": 41,
     "metadata": {},
     "output_type": "execute_result"
    },
    {
     "data": {
      "image/png": "[encoded data removed]",
      "text/plain": [
       "<Figure size 800x700 with 2 Axes>"
      ]
     },
     "metadata": {},
     "output_type": "display_data"
    }
   ],
   "source": [
    "import matplotlib.pyplot as plt\n",
    "import seaborn as sns\n",
    "\n",
    "# Build the plot\n",
    "plt.figure(figsize=(8,7))\n",
    "sns.set(font_scale=0.8)\n",
    "sns.heatmap(matrix, annot=True, annot_kws={'size':8},\n",
    "            cmap=plt.cm.Greens, linewidths=0.2)\n",
    "class_names = ['Flop Movie', 'Average Movie', 'Hit Movie']\n",
    "tick_marks = np.arange(len(class_names))\n",
    "tick_marks2 = tick_marks + 0.5\n",
    "plt.xticks(tick_marks, class_names, rotation=25)\n",
    "plt.yticks(tick_marks2, class_names, rotation=0)\n",
    "plt.xlabel('Predicted label')\n",
    "plt.ylabel('True label')\n",
    "plt.title('Confusion Matrix for Random Forest Model')"
   ]
  },
  {
   "cell_type": "code",
   "execution_count": 42,
   "metadata": {
    "colab": {
     "base_uri": "https://localhost:8080/"
    },
    "id": "3r7B7tBPq-GJ",
    "outputId": "068b03de-45c9-48be-9de0-cd389b4eedd6"
   },
   "outputs": [
    {
     "name": "stdout",
     "output_type": "stream",
     "text": [
      "               precision    recall  f1-score   support\n",
      "\n",
      "Average Movie       0.71      0.49      0.58       308\n",
      "   Flop Movie       0.00      0.00      0.00         5\n",
      "    Hit Movie       0.80      0.91      0.85       687\n",
      "\n",
      "     accuracy                           0.78      1000\n",
      "    macro avg       0.50      0.47      0.48      1000\n",
      " weighted avg       0.77      0.78      0.76      1000\n",
      "\n"
     ]
    },
    {
     "name": "stderr",
     "output_type": "stream",
     "text": [
      "/usr/local/lib/python3.9/dist-packages/sklearn/metrics/_classification.py:1344: UndefinedMetricWarning: Precision and F-score are ill-defined and being set to 0.0 in labels with no predicted samples. Use `zero_division` parameter to control this behavior.\n",
      "  _warn_prf(average, modifier, msg_start, len(result))\n",
      "/usr/local/lib/python3.9/dist-packages/sklearn/metrics/_classification.py:1344: UndefinedMetricWarning: Precision and F-score are ill-defined and being set to 0.0 in labels with no predicted samples. Use `zero_division` parameter to control this behavior.\n",
      "  _warn_prf(average, modifier, msg_start, len(result))\n",
      "/usr/local/lib/python3.9/dist-packages/sklearn/metrics/_classification.py:1344: UndefinedMetricWarning: Precision and F-score are ill-defined and being set to 0.0 in labels with no predicted samples. Use `zero_division` parameter to control this behavior.\n",
      "  _warn_prf(average, modifier, msg_start, len(result))\n"
     ]
    }
   ],
   "source": [
    "# View the classification report for test data and predictions\n",
    "print(classification_report(y_test_classification, predicted_rating))"
   ]
  },
  {
   "cell_type": "code",
   "execution_count": 43,
   "metadata": {
    "id": "a6JrUdVkq-GJ"
   },
   "outputs": [],
   "source": [
    "param_grid = {\n",
    "    'n_estimators': [25, 50, 100, 150],\n",
    "    'max_features': ['sqrt', 'log2', None],\n",
    "    'max_depth': [3, 6, 9],\n",
    "    'max_leaf_nodes': [3, 6, 9],\n",
    "}"
   ]
  },
  {
   "cell_type": "code",
   "execution_count": 46,
   "metadata": {
    "colab": {
     "base_uri": "https://localhost:8080/"
    },
    "id": "cVs0P00eq-GK",
    "outputId": "5181070d-9593-4003-e17f-c283aba5d48c"
   },
   "outputs": [
    {
     "name": "stdout",
     "output_type": "stream",
     "text": [
      "RandomForestClassifier(max_depth=6, max_features=None, max_leaf_nodes=9,\n",
      "                       n_estimators=25)\n"
     ]
    }
   ],
   "source": [
    "# GridSearchCV to obtain the best parameters for the model\n",
    "from sklearn.model_selection import GridSearchCV\n",
    "\n",
    "grid_search = GridSearchCV(RandomForestClassifier(),\n",
    "                           param_grid=param_grid)\n",
    "grid_search.fit(X_train_rfe_classification, y_train_classification)\n",
    "print(grid_search.best_estimator_)"
   ]
  },
  {
   "cell_type": "code",
   "execution_count": 67,
   "metadata": {
    "colab": {
     "base_uri": "https://localhost:8080/"
    },
    "id": "3Mj6u5Bx3rSh",
    "outputId": "386aeb09-6d31-474e-f38c-e39948a3f77e"
   },
   "outputs": [
    {
     "name": "stdout",
     "output_type": "stream",
     "text": [
      "               precision    recall  f1-score   support\n",
      "\n",
      "Average Movie       0.71      0.49      0.58       308\n",
      "   Flop Movie       0.00      0.00      0.00         5\n",
      "    Hit Movie       0.80      0.91      0.85       687\n",
      "\n",
      "     accuracy                           0.78      1000\n",
      "    macro avg       0.50      0.47      0.48      1000\n",
      " weighted avg       0.77      0.78      0.76      1000\n",
      "\n"
     ]
    },
    {
     "name": "stderr",
     "output_type": "stream",
     "text": [
      "/usr/local/lib/python3.9/dist-packages/sklearn/metrics/_classification.py:1344: UndefinedMetricWarning: Precision and F-score are ill-defined and being set to 0.0 in labels with no predicted samples. Use `zero_division` parameter to control this behavior.\n",
      "  _warn_prf(average, modifier, msg_start, len(result))\n",
      "/usr/local/lib/python3.9/dist-packages/sklearn/metrics/_classification.py:1344: UndefinedMetricWarning: Precision and F-score are ill-defined and being set to 0.0 in labels with no predicted samples. Use `zero_division` parameter to control this behavior.\n",
      "  _warn_prf(average, modifier, msg_start, len(result))\n",
      "/usr/local/lib/python3.9/dist-packages/sklearn/metrics/_classification.py:1344: UndefinedMetricWarning: Precision and F-score are ill-defined and being set to 0.0 in labels with no predicted samples. Use `zero_division` parameter to control this behavior.\n",
      "  _warn_prf(average, modifier, msg_start, len(result))\n"
     ]
    }
   ],
   "source": [
    "# Applying the best parameters\n",
    "model_grid = RandomForestClassifier(max_depth=6,\n",
    "                                    max_features=None,\n",
    "                                    max_leaf_nodes=9,\n",
    "                                    n_estimators=25)\n",
    "\n",
    "model_grid.fit(X_train_rfe_classification, y_train_classification)\n",
    "y_pred_grid = forest_model.predict(X_test_rfe_classification)\n",
    "\n",
    "print(classification_report(y_test_classification, y_pred_grid))"
   ]
  },
  {
   "cell_type": "code",
   "execution_count": 63,
   "metadata": {
    "colab": {
     "base_uri": "https://localhost:8080/"
    },
    "id": "gQgbDyupq-GK",
    "outputId": "d4ee6758-eced-497b-afb3-26fe45c4bcb7"
   },
   "outputs": [
    {
     "name": "stdout",
     "output_type": "stream",
     "text": [
      "RandomForestClassifier(max_depth=6, max_features=None, max_leaf_nodes=6,\n",
      "                       n_estimators=150)\n"
     ]
    }
   ],
   "source": [
    "# RandomizedSearchCV to obtain the best parameters for the model\n",
    "from sklearn.model_selection import RandomizedSearchCV\n",
    "\n",
    "random_search = RandomizedSearchCV(RandomForestClassifier(),\n",
    "                                   param_grid)\n",
    "random_search.fit(X_train_rfe_classification, y_train_classification)\n",
    "print(random_search.best_estimator_)"
   ]
  },
  {
   "cell_type": "code",
   "execution_count": 68,
   "metadata": {
    "colab": {
     "base_uri": "https://localhost:8080/"
    },
    "id": "DDdXEKDBq-GP",
    "outputId": "c4a2567c-3c60-4d2a-b85c-49260b98fc52"
   },
   "outputs": [
    {
     "name": "stdout",
     "output_type": "stream",
     "text": [
      "               precision    recall  f1-score   support\n",
      "\n",
      "Average Movie       0.71      0.49      0.58       308\n",
      "   Flop Movie       0.00      0.00      0.00         5\n",
      "    Hit Movie       0.80      0.91      0.85       687\n",
      "\n",
      "     accuracy                           0.78      1000\n",
      "    macro avg       0.50      0.47      0.48      1000\n",
      " weighted avg       0.77      0.78      0.76      1000\n",
      "\n"
     ]
    },
    {
     "name": "stderr",
     "output_type": "stream",
     "text": [
      "/usr/local/lib/python3.9/dist-packages/sklearn/metrics/_classification.py:1344: UndefinedMetricWarning: Precision and F-score are ill-defined and being set to 0.0 in labels with no predicted samples. Use `zero_division` parameter to control this behavior.\n",
      "  _warn_prf(average, modifier, msg_start, len(result))\n",
      "/usr/local/lib/python3.9/dist-packages/sklearn/metrics/_classification.py:1344: UndefinedMetricWarning: Precision and F-score are ill-defined and being set to 0.0 in labels with no predicted samples. Use `zero_division` parameter to control this behavior.\n",
      "  _warn_prf(average, modifier, msg_start, len(result))\n",
      "/usr/local/lib/python3.9/dist-packages/sklearn/metrics/_classification.py:1344: UndefinedMetricWarning: Precision and F-score are ill-defined and being set to 0.0 in labels with no predicted samples. Use `zero_division` parameter to control this behavior.\n",
      "  _warn_prf(average, modifier, msg_start, len(result))\n"
     ]
    }
   ],
   "source": [
    "# Updating the parameters of the model by those which are obtained by using RandomizedSearchCV.\n",
    "model_random = RandomForestClassifier(max_depth=6,\n",
    "                                      max_features=None,\n",
    "                                      max_leaf_nodes=9,\n",
    "                                      n_estimators=150)\n",
    "model_random.fit(X_train_rfe_classification, y_train_classification)\n",
    "y_pred_rand = forest_model.predict(X_test_rfe_classification)\n",
    "\n",
    "print(classification_report(y_test_classification, y_pred_rand))"
   ]
  }
 ],
 "metadata": {
  "colab": {
   "provenance": []
  },
  "kernelspec": {
   "display_name": "Python 3 (ipykernel)",
   "language": "python",
   "name": "python3"
  },
  "language_info": {
   "codemirror_mode": {
    "name": "ipython",
    "version": 3
   },
   "file_extension": ".py",
   "mimetype": "text/x-python",
   "name": "python",
   "nbconvert_exporter": "python",
   "pygments_lexer": "ipython3",
   "version": "3.10.6"
  }
 },
 "nbformat": 4,
 "nbformat_minor": 1
}
